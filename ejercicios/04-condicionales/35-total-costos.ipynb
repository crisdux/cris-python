{
 "cells": [
  {
   "cell_type": "markdown",
   "metadata": {},
   "source": [
    "## Total costos\n",
    "En este ejercicio tendrás que escribir una función que tome litros y precio_por_litro (en dólares) como argumentos.\n",
    "\n",
    "Las compras de 2 o más litros obtienen un descuento de 5 céntimos por litro, las compras de 4 o más litros obtienen un descuento de 10 céntimos por litro, y así sucesivamente cada dos litros, hasta un descuento máximo de 25 céntimos por litro. \n",
    "\n",
    "Pero el descuento total por litro no puede ser superior a 25 céntimos. Devuelve el coste total redondeado a 2 decimales. También puedes adivinar que no habrá entradas negativas o no numéricas."
   ]
  },
  {
   "cell_type": "code",
   "execution_count": 8,
   "metadata": {},
   "outputs": [
    {
     "name": "stdout",
     "output_type": "stream",
     "text": [
      "212.5\n",
      "390.0\n",
      "83.7\n"
     ]
    }
   ],
   "source": [
    "def total_costos(cantidad_litros, precio_por_litro):\n",
    "    descuento = (cantidad_litros * 25)/100\n",
    "    return (cantidad_litros * precio_por_litro)- descuento\n",
    "\n",
    "print(total_costos(10,21.5))\n",
    "print(total_costos(40,10))\n",
    "print(total_costos(15, 5.83))\n",
    "\n",
    "\n",
    "        "
   ]
  }
 ],
 "metadata": {
  "kernelspec": {
   "display_name": ".venv",
   "language": "python",
   "name": "python3"
  },
  "language_info": {
   "codemirror_mode": {
    "name": "ipython",
    "version": 3
   },
   "file_extension": ".py",
   "mimetype": "text/x-python",
   "name": "python",
   "nbconvert_exporter": "python",
   "pygments_lexer": "ipython3",
   "version": "3.11.10"
  }
 },
 "nbformat": 4,
 "nbformat_minor": 2
}
