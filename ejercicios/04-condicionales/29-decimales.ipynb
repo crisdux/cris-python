{
 "cells": [
  {
   "cell_type": "markdown",
   "metadata": {},
   "source": [
    "## Decimales\n",
    "Los `float` tienen una precisión limitada y no pueden representar exactamente algunos valores. Los errores de redondeo se acumulan con los cálculos repetidos y los números que se espera que sean iguales a menudo difieren ligeramente.\n",
    "\n",
    "Como resultado, es un consejo común no utilizar una comparación de igualdad exacta (==) con flotantes.\n",
    "\n",
    "```py\n",
    ">>> a, b, c = 1e-9, 1e-9, 3.33e7\n",
    ">>> (a + b) + c == a + (b + c)\n",
    "False\n",
    "\n",
    ">>> 0.1 + 0.1 + 0.1 + 0.1 + 0.1 + 0.1 + 0.1 + 0.1 + 0.1 + 0.1 == 1.0\n",
    "False\n",
    "```\n",
    "\n",
    "La solución es comprobar si un valor calculado está cerca de un valor esperado, sin necesidad de que sean exactamente iguales. Parece muy fácil, pero muchas pruebas dan resultados incorrectos.\n",
    "\n",
    "Debes hacer:\n",
    "\n",
    "* un valor flotante que proviene de un cálculo y puede haber acumulado errores de hasta ±0,001 \n",
    "* un valor de referencia \n",
    "* una función approx_equals que compara los dos valores teniendo en cuenta la pérdida de precisión; la función debe devolver Verdadero si y solo si los dos valores están cerca uno del otro, la diferencia máxima permitida es 0.001\n",
    "\n",
    "La función tiene errores y, a veces, devuelve resultados incorrectos. Tu tarea es corregir el error.\n",
    "\n",
    "Este ejercicio utiliza una tolerancia fija por razones de simplicidad, pero normalmente la tolerancia relativa es mejor. La tolerancia fija es útil para comparaciones cercanas a cero o cuando se conoce la magnitud de los valores."
   ]
  },
  {
   "cell_type": "code",
   "execution_count": 9,
   "metadata": {},
   "outputs": [
    {
     "name": "stdout",
     "output_type": "stream",
     "text": [
      "False\n",
      "True\n",
      "True\n",
      "False\n",
      "True\n",
      "True\n",
      "False\n"
     ]
    }
   ],
   "source": [
    "def approx_equals(x, y):\n",
    "    limite_superior = x + 0.001\n",
    "    limite_inferior = x - 0.001\n",
    "    return limite_superior >= y >= limite_inferior\n",
    "\n",
    "print(approx_equals(175.9827, 82.25))\n",
    "print(approx_equals(-156.24037, -156.24038))\n",
    "print(approx_equals(123.2345, 123.234501))\n",
    "print(approx_equals(1456.3652, 1456.3641))\n",
    "print(approx_equals(-1.234, -1.233999))\n",
    "print(approx_equals(98.7655, 98.7654999))\n",
    "print(approx_equals(-7.28495, -7.28596))"
   ]
  }
 ],
 "metadata": {
  "kernelspec": {
   "display_name": ".venv",
   "language": "python",
   "name": "python3"
  },
  "language_info": {
   "codemirror_mode": {
    "name": "ipython",
    "version": 3
   },
   "file_extension": ".py",
   "mimetype": "text/x-python",
   "name": "python",
   "nbconvert_exporter": "python",
   "pygments_lexer": "ipython3",
   "version": "3.11.10"
  }
 },
 "nbformat": 4,
 "nbformat_minor": 2
}
