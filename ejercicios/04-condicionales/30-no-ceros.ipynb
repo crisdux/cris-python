{
 "cells": [
  {
   "cell_type": "markdown",
   "metadata": {},
   "source": [
    "## No ceros\n",
    "Los números que terminan en ceros son aburridos. Puede que sean divertidos en tu mundo, pero no aquí. Deshazte de ellos. Sólo los finales\n",
    "\n",
    "```py\n",
    "1450 -> 145\n",
    "960000 -> 96\n",
    "1050 -> 105\n",
    "-1050 -> -105\n",
    "```\n",
    "\n",
    "Un 0 solo está bien, no te preocupes. Pobre chico de todos modos"
   ]
  },
  {
   "cell_type": "code",
   "execution_count": 1,
   "metadata": {},
   "outputs": [
    {
     "name": "stdout",
     "output_type": "stream",
     "text": [
      "145\n",
      "96\n",
      "105\n",
      "-105\n"
     ]
    }
   ],
   "source": [
    "def no_ceros(numero):\n",
    "    while numero % 10 == 0:\n",
    "        numero = numero // 10\n",
    "    return numero\n",
    "\n",
    "print(no_ceros(1450))\n",
    "print(no_ceros(960000))\n",
    "print(no_ceros(1050))\n",
    "print(no_ceros(-1050))\n",
    "    "
   ]
  }
 ],
 "metadata": {
  "kernelspec": {
   "display_name": ".venv",
   "language": "python",
   "name": "python3"
  },
  "language_info": {
   "codemirror_mode": {
    "name": "ipython",
    "version": 3
   },
   "file_extension": ".py",
   "mimetype": "text/x-python",
   "name": "python",
   "nbconvert_exporter": "python",
   "pygments_lexer": "ipython3",
   "version": "3.11.10"
  }
 },
 "nbformat": 4,
 "nbformat_minor": 2
}
