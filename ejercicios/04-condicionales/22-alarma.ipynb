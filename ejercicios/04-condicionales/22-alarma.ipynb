{
 "cells": [
  {
   "cell_type": "markdown",
   "metadata": {},
   "source": [
    "## Alarma\n",
    "Escriba una función llamada setAlarm/set_alarm/set-alarm/setalarm (según el lenguaje) que reciba dos parámetros. El primer parámetro, empleado, es verdadero siempre que esté empleado y el segundo parámetro, vacaciones, es verdadero siempre que esté de vacaciones.\n",
    "\n",
    "La función debería volver a ser verdadera si está empleado y no de vacaciones (porque estas son las circunstancias en las que necesita configurar una alarma). De lo contrario, debería devolver falso. Ejemplos:\n",
    "\n",
    "```py\n",
    "employed | vacation \n",
    "true     | true     => false\n",
    "true     | false    => true\n",
    "false    | true     => false\n",
    "false    | false    => false\n",
    "```"
   ]
  },
  {
   "cell_type": "code",
   "execution_count": 1,
   "metadata": {},
   "outputs": [
    {
     "name": "stdout",
     "output_type": "stream",
     "text": [
      "False\n",
      "True\n",
      "False\n",
      "False\n"
     ]
    }
   ],
   "source": [
    "def alarma(empleado, vacacion):\n",
    "    return empleado == True and vacacion == False\n",
    "\n",
    "print(alarma(True, True))\n",
    "print(alarma(True, False))\n",
    "print(alarma(False, True))\n",
    "print(alarma(False, False))"
   ]
  }
 ],
 "metadata": {
  "kernelspec": {
   "display_name": ".venv",
   "language": "python",
   "name": "python3"
  },
  "language_info": {
   "codemirror_mode": {
    "name": "ipython",
    "version": 3
   },
   "file_extension": ".py",
   "mimetype": "text/x-python",
   "name": "python",
   "nbconvert_exporter": "python",
   "pygments_lexer": "ipython3",
   "version": "3.11.10"
  }
 },
 "nbformat": 4,
 "nbformat_minor": 2
}
