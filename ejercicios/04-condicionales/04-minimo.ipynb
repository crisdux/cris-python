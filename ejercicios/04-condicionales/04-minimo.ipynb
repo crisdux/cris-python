{
 "cells": [
  {
   "attachments": {
    "image.png": {
     "image/png": "[encoded data removed]"
    }
   },
   "cell_type": "markdown",
   "metadata": {},
   "source": [
    "## Minimo\n",
    "Dados 3 números calcule el mínimo.\n",
    "\n",
    "![image.png](attachment:image.png)\n"
   ]
  },
  {
   "cell_type": "code",
   "execution_count": 2,
   "metadata": {},
   "outputs": [
    {
     "name": "stdout",
     "output_type": "stream",
     "text": [
      "4\n",
      "1\n",
      "3\n",
      "9\n"
     ]
    }
   ],
   "source": [
    "def minimo(a, b, c):\n",
    "    return min(a,b,c)\n",
    "\n",
    "print(minimo(7,4,9))\n",
    "print(minimo(2,5,1))\n",
    "print(minimo(9,3,7))\n",
    "print(minimo(9,9,9))"
   ]
  },
  {
   "cell_type": "code",
   "execution_count": 3,
   "metadata": {},
   "outputs": [
    {
     "name": "stdout",
     "output_type": "stream",
     "text": [
      "4\n",
      "1\n",
      "3\n",
      "9\n"
     ]
    }
   ],
   "source": [
    "def minimo_2(x,y,z):\n",
    "    if(x<y):\n",
    "        if(x<z):\n",
    "            return x\n",
    "        else:\n",
    "            return z\n",
    "    else:\n",
    "        if(y<z):\n",
    "            return y\n",
    "        else:\n",
    "            return z\n",
    "\n",
    "print(minimo_2(7,4,9))\n",
    "print(minimo_2(2,5,1))\n",
    "print(minimo_2(9,3,7))\n",
    "print(minimo_2(9,9,9))"
   ]
  }
 ],
 "metadata": {
  "kernelspec": {
   "display_name": ".venv",
   "language": "python",
   "name": "python3"
  },
  "language_info": {
   "codemirror_mode": {
    "name": "ipython",
    "version": 3
   },
   "file_extension": ".py",
   "mimetype": "text/x-python",
   "name": "python",
   "nbconvert_exporter": "python",
   "pygments_lexer": "ipython3",
   "version": "3.11.10"
  }
 },
 "nbformat": 4,
 "nbformat_minor": 2
}
