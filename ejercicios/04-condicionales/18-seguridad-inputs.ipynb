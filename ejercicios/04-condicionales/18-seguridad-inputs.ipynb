{
 "cells": [
  {
   "cell_type": "markdown",
   "metadata": {},
   "source": [
    "## Seguridad en inputs\n",
    "\n",
    "Usted es un desarrollador web novato/promedio/experimentado/profesional/mundialmente famoso (elija uno) que posee un sitio web simple/limpio/elegante/hermoso/complicado/profesional/comercial (elija uno o más) que contiene campos de formulario para que los visitantes puedan enviar correos electrónicos o dejar un comentario en su sitio web con facilidad.\n",
    "\n",
    "Sin embargo, con la facilidad viene el peligro. De vez en cuando, un pirata informático visita su sitio web e intenta comprometerlo mediante el uso de XSS (Cross Site Scripting). Esto se hace inyectando etiquetas de script en el sitio web a través de campos de formulario que pueden contener código malicioso (por ejemplo, una redirección a un sitio web malicioso que roba información personal).\n",
    "\n",
    "Tu misión es implementar una función que convierta los siguientes caracteres potencialmente dañinos:\n",
    "\n",
    "```js\n",
    "< --> &lt;\n",
    "> --> &gt;\n",
    "\" --> &quot;\n",
    "& --> &amp;\n",
    "```"
   ]
  },
  {
   "cell_type": "code",
   "execution_count": 2,
   "metadata": {},
   "outputs": [
    {
     "name": "stdout",
     "output_type": "stream",
     "text": [
      "&gt;\n",
      "&quot;\n"
     ]
    }
   ],
   "source": [
    "def seguridad_inputs(caracter):\n",
    "    match caracter:\n",
    "        case \"<\":\n",
    "            return \"&lt;\"\n",
    "        case \">\":\n",
    "            return \"&gt;\"\n",
    "        case '\"':\n",
    "            return \"&quot;\"\n",
    "        case \"&\":\n",
    "            return \"&amp;\"\n",
    "        case _:\n",
    "            return \"Escriba otro caracter\"\n",
    "\n",
    "print(seguridad_inputs(\">\"))\n",
    "print(seguridad_inputs('\"'))"
   ]
  }
 ],
 "metadata": {
  "kernelspec": {
   "display_name": ".venv",
   "language": "python",
   "name": "python3"
  },
  "language_info": {
   "codemirror_mode": {
    "name": "ipython",
    "version": 3
   },
   "file_extension": ".py",
   "mimetype": "text/x-python",
   "name": "python",
   "nbconvert_exporter": "python",
   "pygments_lexer": "ipython3",
   "version": "3.11.10"
  }
 },
 "nbformat": 4,
 "nbformat_minor": 2
}
