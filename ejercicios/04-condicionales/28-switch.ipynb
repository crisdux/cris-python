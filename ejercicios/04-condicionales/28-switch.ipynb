{
 "cells": [
  {
   "cell_type": "markdown",
   "metadata": {},
   "source": [
    "## Switch\n",
    "Cuando se le proporcione un número entre 0 y 9, devuélvalo en palabras. Tenga en cuenta que se garantiza que la entrada estará dentro del rango de 0-9.\n",
    "\n",
    "Entrada: 1 \n",
    "\n",
    "Salida: \"Uno\".\n",
    "\n",
    "Si su lenguaje lo admite, intente usar una sentencia switch."
   ]
  },
  {
   "cell_type": "code",
   "execution_count": 1,
   "metadata": {},
   "outputs": [
    {
     "name": "stdout",
     "output_type": "stream",
     "text": [
      "Cero\n",
      "Uno\n",
      "Dos\n",
      "Tres\n",
      "Cuatro\n",
      "Cinco\n",
      "Seis\n",
      "Siete\n",
      "Ocho\n",
      "Nueve\n"
     ]
    }
   ],
   "source": [
    "def switch(n):\n",
    "    match n:\n",
    "        case 0:\n",
    "            return \"Cero\"\n",
    "        case 1:\n",
    "            return \"Uno\"\n",
    "        case 2:\n",
    "            return \"Dos\"\n",
    "        case 3:\n",
    "            return \"Tres\"\n",
    "        case 4:\n",
    "            return \"Cuatro\"\n",
    "        case 5:\n",
    "            return \"Cinco\"\n",
    "        case 6:\n",
    "            return \"Seis\"\n",
    "        case 7:\n",
    "            return \"Siete\"\n",
    "        case 8:\n",
    "            return \"Ocho\"\n",
    "        case 9: \n",
    "            return \"Nueve\"\n",
    "        case _:\n",
    "            return \"Error\"\n",
    "\n",
    "print(switch(0))\n",
    "print(switch(1))\n",
    "print(switch(2))\n",
    "print(switch(3))\n",
    "print(switch(4))\n",
    "print(switch(5))\n",
    "print(switch(6))\n",
    "print(switch(7))\n",
    "print(switch(8))\n",
    "print(switch(9))"
   ]
  }
 ],
 "metadata": {
  "kernelspec": {
   "display_name": ".venv",
   "language": "python",
   "name": "python3"
  },
  "language_info": {
   "codemirror_mode": {
    "name": "ipython",
    "version": 3
   },
   "file_extension": ".py",
   "mimetype": "text/x-python",
   "name": "python",
   "nbconvert_exporter": "python",
   "pygments_lexer": "ipython3",
   "version": "3.11.10"
  }
 },
 "nbformat": 4,
 "nbformat_minor": 2
}
