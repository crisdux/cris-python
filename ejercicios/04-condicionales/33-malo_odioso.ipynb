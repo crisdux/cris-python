{
 "cells": [
  {
   "cell_type": "markdown",
   "metadata": {},
   "source": [
    "## Malo/Odioso\n",
    "El número n es Malo si tiene un número par de unos en su representación binaria. Los primeros números malvados: 3, 5, 6, 9, 10, 12, 15, 17, 18, 20\n",
    "\n",
    "El número n es odioso si tiene un número impar de unos en su representación binaria. Los primeros números Odiosos: 1, 2, 4, 7, 8, 11, 13, 14, 16, 19\n",
    "\n",
    "Tienes que escribir una función que determine si un número es Evil of Odious, la función debería devolver \"¡Es malvado!\" en caso de número malvado y \"¡Es odioso!\" en caso de número odioso."
   ]
  },
  {
   "cell_type": "code",
   "execution_count": 9,
   "metadata": {},
   "outputs": [
    {
     "name": "stdout",
     "output_type": "stream",
     "text": [
      "Es malo\n",
      "Es odioso\n",
      "Es odioso\n",
      "Es malo\n"
     ]
    }
   ],
   "source": [
    "def malo_odioso(n):\n",
    "    return(\"Es malo\" if (bin(n)[2:].count(\"1\")) % 2 == 0 else \"Es odioso\" )\n",
    "\n",
    "print(malo_odioso(5))\n",
    "print(malo_odioso(1))\n",
    "print(malo_odioso(2))\n",
    "print(malo_odioso(3))"
   ]
  }
 ],
 "metadata": {
  "kernelspec": {
   "display_name": ".venv",
   "language": "python",
   "name": "python3"
  },
  "language_info": {
   "codemirror_mode": {
    "name": "ipython",
    "version": 3
   },
   "file_extension": ".py",
   "mimetype": "text/x-python",
   "name": "python",
   "nbconvert_exporter": "python",
   "pygments_lexer": "ipython3",
   "version": "3.11.10"
  }
 },
 "nbformat": 4,
 "nbformat_minor": 2
}
