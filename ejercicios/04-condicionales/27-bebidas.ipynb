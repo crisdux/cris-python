{
 "cells": [
  {
   "cell_type": "markdown",
   "metadata": {},
   "source": [
    "## Bebidas:\n",
    "* Los niños beben ponche. \n",
    "* Los adolescentes beben coca cola. \n",
    "* Los adultos jóvenes beben cerveza. \n",
    "* Los adultos beben whisky.\n",
    "\n",
    "Haz una función que reciba edad y devuelva lo que beben\n",
    "\n",
    "Normas: \n",
    "* Niños menores de 14 años.\n",
    "* Adolescentes menores de 18 años.\n",
    "* Jóvenes menores de 21 años. \n",
    "* Los adultos tienen 21 o más\n",
    "\n",
    "Ejemplos:\n",
    "\n",
    "```py\n",
    "13 --> \"drink toddy\"\n",
    "17 --> \"drink coke\"\n",
    "18 --> \"drink beer\"\n",
    "20 --> \"drink beer\"\n",
    "30 --> \"drink whisky\"\n",
    "```"
   ]
  },
  {
   "cell_type": "code",
   "execution_count": 1,
   "metadata": {},
   "outputs": [
    {
     "name": "stdout",
     "output_type": "stream",
     "text": [
      "drink toddy\n",
      "drink coke\n",
      "drink beer\n",
      "drink beer\n",
      "drink whisky\n"
     ]
    }
   ],
   "source": [
    "def bebidas(edad):\n",
    "    if edad < 14:\n",
    "        return \"drink toddy\"\n",
    "    elif edad >= 14 and edad < 18:\n",
    "        return \"drink coke\"\n",
    "    elif edad >= 18 and edad < 21:\n",
    "        return \"drink beer\"\n",
    "    else: \n",
    "        return \"drink whisky\"\n",
    "\n",
    "\n",
    "print(bebidas(13))\n",
    "print(bebidas(17))\n",
    "print(bebidas(18))\n",
    "print(bebidas(20))\n",
    "print(bebidas(30))"
   ]
  }
 ],
 "metadata": {
  "kernelspec": {
   "display_name": ".venv",
   "language": "python",
   "name": "python3"
  },
  "language_info": {
   "codemirror_mode": {
    "name": "ipython",
    "version": 3
   },
   "file_extension": ".py",
   "mimetype": "text/x-python",
   "name": "python",
   "nbconvert_exporter": "python",
   "pygments_lexer": "ipython3",
   "version": "3.11.10"
  }
 },
 "nbformat": 4,
 "nbformat_minor": 2
}
