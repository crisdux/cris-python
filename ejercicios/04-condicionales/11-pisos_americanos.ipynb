{
 "cells": [
  {
   "cell_type": "markdown",
   "metadata": {},
   "source": [
    "## Pisos americanos\n",
    "\n",
    "Los americanos son gente rara: en sus edificios, el primer piso es en realidad la planta baja y no existe el piso 13 (por superstición). \n",
    "\n",
    "Escribe una función que dado un piso en el sistema americano devuelva el piso en el sistema europeo. \n",
    "\n",
    "Con el reemplazo del primer piso por la planta baja y la eliminación del piso 13, los números se mueven hacia abajo para ocupar su lugar. \n",
    "\n",
    "En el caso de más de 13, bajan dos porque hay dos números omitidos debajo de ellos. Los sótanos (negativos) siguen siendo los mismos que el nivel universal.\n",
    "\n",
    "```py\n",
    "1  =>  0 \n",
    "0  =>  0\n",
    "5  =>  4\n",
    "15  =>  13\n",
    "-3  =>  -3\n",
    "```"
   ]
  },
  {
   "cell_type": "code",
   "execution_count": 1,
   "metadata": {},
   "outputs": [
    {
     "name": "stdout",
     "output_type": "stream",
     "text": [
      "0\n",
      "0\n",
      "4\n",
      "13\n",
      "-3\n"
     ]
    }
   ],
   "source": [
    "def pisos_americanos(piso):\n",
    "    if piso <= 0:\n",
    "        return piso \n",
    "    if piso == 13:\n",
    "        return \"Error, no existe piso 13\"\n",
    "    elif piso >=1 and piso <13:\n",
    "        return piso - 1\n",
    "    else:\n",
    "        return piso - 2\n",
    "\n",
    "print(pisos_americanos(1))\n",
    "print(pisos_americanos(0))\n",
    "print(pisos_americanos(5))\n",
    "print(pisos_americanos(15))\n",
    "print(pisos_americanos(-3))"
   ]
  }
 ],
 "metadata": {
  "kernelspec": {
   "display_name": ".venv",
   "language": "python",
   "name": "python3"
  },
  "language_info": {
   "codemirror_mode": {
    "name": "ipython",
    "version": 3
   },
   "file_extension": ".py",
   "mimetype": "text/x-python",
   "name": "python",
   "nbconvert_exporter": "python",
   "pygments_lexer": "ipython3",
   "version": "3.11.10"
  }
 },
 "nbformat": 4,
 "nbformat_minor": 2
}
