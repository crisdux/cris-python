{
 "cells": [
  {
   "cell_type": "markdown",
   "metadata": {},
   "source": [
    "## Lavadora\n",
    "Mi lavadora usa una cantidad de `agua` para lavar la `carga` (en JavaScript y Python) o la cantidad `max_load` (en Ruby) de ropa. Te dan una cantidad de ropa para lavar. Por cada prenda de ropa por encima de la carga, la lavadora utilizará un 10% más de agua (multiplicativo) para limpiar.\n",
    "\n",
    "Por ejemplo, si la carga es 10, la cantidad de agua que requiere es 5 y la cantidad de ropa a lavar es 14, entonces necesitas 5 * 1.1^(14 - 10) cantidad de agua.\n",
    "\n",
    "Escribe una función howMuchWater (JS)/how_much_water (Python y Ruby) para calcular cuánta agua se necesita si tienes una cantidad de ropa. La función aceptará 3 argumentos: - agua, carga (o max_load en Ruby) y ropa.\n",
    "\n",
    "Mi lavadora es un modelo antiguo que solo puede soportar el doble de carga (o carga máxima). Si la cantidad de ropa es más de 2 veces la cantidad de carga estándar (max_load), devuelve \"Demasiada ropa\". La lavadora tampoco puede manejar ninguna cantidad de ropa inferior a la carga (max_load). Si ese es el caso, devuelva \"No hay suficiente ropa\".\n",
    "\n",
    "La respuesta debe redondearse a los 2 decimales más cercanos."
   ]
  },
  {
   "cell_type": "code",
   "execution_count": 7,
   "metadata": {},
   "outputs": [
    {
     "name": "stdout",
     "output_type": "stream",
     "text": [
      "Demaciada ropa\n",
      "Poca ropa\n",
      "23.58\n",
      "189.87\n"
     ]
    }
   ],
   "source": [
    "def lavadora(agua, carga, ropa):\n",
    "    if ropa > carga * 2:\n",
    "        return \"Demaciada ropa\"\n",
    "    if ropa < carga:\n",
    "        return \"Poca ropa\"\n",
    "\n",
    "    return f\"{ (agua * (1.1)** (ropa-carga)):.2f}\"\n",
    "\n",
    "print(lavadora(10,10,21))\n",
    "print(lavadora(10,10,2))\n",
    "print(lavadora(10,11,20))\n",
    "print(lavadora(50,15,29))\n"
   ]
  }
 ],
 "metadata": {
  "kernelspec": {
   "display_name": ".venv",
   "language": "python",
   "name": "python3"
  },
  "language_info": {
   "codemirror_mode": {
    "name": "ipython",
    "version": 3
   },
   "file_extension": ".py",
   "mimetype": "text/x-python",
   "name": "python",
   "nbconvert_exporter": "python",
   "pygments_lexer": "ipython3",
   "version": "3.11.10"
  }
 },
 "nbformat": 4,
 "nbformat_minor": 2
}
