{
 "cells": [
  {
   "cell_type": "markdown",
   "metadata": {},
   "source": [
    "## Margen \n",
    "Cree una función close_compare que acepte 3 parámetros: a, b y un margen opcional. La función debe devolver si a es inferior, cercana o superior a b.\n",
    "\n",
    "Tenga en cuenta lo siguiente: \n",
    "\n",
    "Cuando a está cerca de b, devuelve 0. \n",
    "\n",
    "Para este desafío, a se considera \"cerca de\" b si el margen es mayor o igual a la distancia absoluta entre a y b.\n",
    "\n",
    "Cuando a es menor que b, devuelve -1. \n",
    "\n",
    "Cuando a es mayor que b, devuelve 1.\n",
    "\n",
    "Si no se da margen, trátelo como si fuera cero.\n",
    "\n",
    "Supongamos: margen >= 0 \n",
    "\n",
    "Consejo: algunos lenguajes tienen una forma de hacer que los parámetros sean opcionales.\n",
    "\n",
    "\n",
    "---\n",
    "\n",
    "Ejemplo 1\n",
    "\n",
    "Si a = 3, b = 5 y margen = 3, entonces close_compare(a, b, margen) debería devolver 0. Esto se debe a que a y b no están separados por más de 3 números.\n",
    "\n",
    "Ejemplo 2 \n",
    "\n",
    "Si a = 3, b = 5 y margen = 0, entonces close_compare(a, b, margen) debería devolver -1. Esto se debe a que la distancia entre a y b es mayor que 0 y a es menor que b."
   ]
  },
  {
   "cell_type": "code",
   "execution_count": 2,
   "metadata": {},
   "outputs": [
    {
     "name": "stdout",
     "output_type": "stream",
     "text": [
      "0\n",
      "-1\n"
     ]
    }
   ],
   "source": [
    "import math \n",
    "def close_compare(a, b, margen=0):\n",
    "    distancia_absoluta = abs(a - b)\n",
    "    if margen >= distancia_absoluta:\n",
    "        return 0\n",
    "    elif a < b:\n",
    "        return -1\n",
    "    else:\n",
    "        return 1\n",
    "\n",
    "print(close_compare(3,5,3))\n",
    "print(close_compare(3,5,0))"
   ]
  }
 ],
 "metadata": {
  "kernelspec": {
   "display_name": ".venv",
   "language": "python",
   "name": "python3"
  },
  "language_info": {
   "codemirror_mode": {
    "name": "ipython",
    "version": 3
   },
   "file_extension": ".py",
   "mimetype": "text/x-python",
   "name": "python",
   "nbconvert_exporter": "python",
   "pygments_lexer": "ipython3",
   "version": "3.11.10"
  }
 },
 "nbformat": 4,
 "nbformat_minor": 2
}
