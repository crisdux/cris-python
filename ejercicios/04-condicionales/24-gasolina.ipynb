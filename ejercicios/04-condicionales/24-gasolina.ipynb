{
 "cells": [
  {
   "cell_type": "markdown",
   "metadata": {},
   "source": [
    "## Gasolina\n",
    "Estabas acampando con tus amigos lejos de casa, pero cuando llega el momento de regresar, te das cuenta de que se te está acabando el combustible y que el surtidor más cercano está a 50 millas de distancia. \n",
    "\n",
    "Usted sabe que, en promedio, su automóvil recorre aproximadamente 25 millas por galón.Quedan 2 galones. \n",
    "\n",
    "Teniendo en cuenta estos factores, escribe una función que te indique si es posible llegar a la bomba o no. \n",
    "\n",
    "La función debe devolver verdadero si es posible y falso si no."
   ]
  },
  {
   "cell_type": "code",
   "execution_count": 2,
   "metadata": {},
   "outputs": [
    {
     "name": "stdout",
     "output_type": "stream",
     "text": [
      "True\n",
      "False\n"
     ]
    }
   ],
   "source": [
    "def gasolina(distancia_bomba, millas_por_galon, cantidad_galones):\n",
    "    return (millas_por_galon * cantidad_galones) >= distancia_bomba\n",
    "\n",
    "print(gasolina(50,25,2))\n",
    "print(gasolina(100,50,1))"
   ]
  }
 ],
 "metadata": {
  "kernelspec": {
   "display_name": ".venv",
   "language": "python",
   "name": "python3"
  },
  "language_info": {
   "codemirror_mode": {
    "name": "ipython",
    "version": 3
   },
   "file_extension": ".py",
   "mimetype": "text/x-python",
   "name": "python",
   "nbconvert_exporter": "python",
   "pygments_lexer": "ipython3",
   "version": "3.11.10"
  }
 },
 "nbformat": 4,
 "nbformat_minor": 2
}
