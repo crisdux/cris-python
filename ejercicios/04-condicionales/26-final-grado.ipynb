{
 "cells": [
  {
   "cell_type": "markdown",
   "metadata": {},
   "source": [
    "## Final de grado \n",
    "Cree una función finalGrade, que calcule la nota final de un estudiante en función de dos parámetros: una nota del examen y un número de proyectos completados. \n",
    "\n",
    "Esta función debe tomar dos argumentos: examen - calificación del examen (de 0 a 100); proyectos: número de proyectos completados (de 0 en adelante).\n",
    "\n",
    "Esta función debería devolver un número (calificación final). \n",
    "\n",
    "Hay cuatro tipos de calificaciones finales: \n",
    "\n",
    "* 100, si la nota del examen es superior a 90 o si el número de proyectos realizados es superior a 10. \n",
    "* 90, si la nota del examen es superior a 75 y si el número de proyectos realizados es mínimo de 5. \n",
    "* 75, si la nota del examen es superior a 50 y si el número de proyectos realizados es mínimo 2. \n",
    "* 0, en otros casos\n",
    "\n",
    "Ejemplos:\n",
    "\n",
    "```py\n",
    "100, 12 --> 100\n",
    "99, 0 --> 100\n",
    "10, 15 --> 100\n",
    "\n",
    "85, 5 --> 90\n",
    "\n",
    "55, 3 --> 75\n",
    "\n",
    "55, 0 --> 0\n",
    "20, 2 --> 0\n",
    "```"
   ]
  },
  {
   "cell_type": "code",
   "execution_count": 3,
   "metadata": {},
   "outputs": [
    {
     "name": "stdout",
     "output_type": "stream",
     "text": [
      "100\n",
      "100\n",
      "100\n",
      "90\n",
      "75\n",
      "0\n",
      "0\n"
     ]
    }
   ],
   "source": [
    "def finalGrade(nota_examen, cantidad_proyectos):\n",
    "    if nota_examen > 90 or cantidad_proyectos > 10:\n",
    "        return 100\n",
    "    elif nota_examen > 75 and cantidad_proyectos >=5:\n",
    "        return 90\n",
    "    elif nota_examen > 50 and cantidad_proyectos >=2:\n",
    "        return 75\n",
    "    else:\n",
    "        return 0\n",
    "\n",
    "print(finalGrade(100, 12))\n",
    "print(finalGrade(99, 0))\n",
    "print(finalGrade(10, 15))\n",
    "print(finalGrade(85, 5))\n",
    "print(finalGrade(53, 3))\n",
    "print(finalGrade(55, 0))\n",
    "print(finalGrade(20, 2))\n"
   ]
  }
 ],
 "metadata": {
  "kernelspec": {
   "display_name": ".venv",
   "language": "python",
   "name": "python3"
  },
  "language_info": {
   "codemirror_mode": {
    "name": "ipython",
    "version": 3
   },
   "file_extension": ".py",
   "mimetype": "text/x-python",
   "name": "python",
   "nbconvert_exporter": "python",
   "pygments_lexer": "ipython3",
   "version": "3.11.10"
  }
 },
 "nbformat": 4,
 "nbformat_minor": 2
}
