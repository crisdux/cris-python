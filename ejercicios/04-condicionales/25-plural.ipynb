{
 "cells": [
  {
   "cell_type": "markdown",
   "metadata": {},
   "source": [
    "## Plural\n",
    "Necesitamos una función simple que determine si se necesita un plural o no. Debería tomar un número y devolver verdadero si se debe usar un plural con ese número o falso si no. Esto sería útil al imprimir una cadena como 5 minutos, 14 manzanas o 1 sol.\n",
    "\n",
    "Sólo debes preocuparte por las reglas gramaticales inglesas para este problema, donde todo lo que no es singular (uno de algo), es plural (no uno de algo).\n",
    "\n",
    "Todos los valores serán números enteros positivos o flotantes, o cero"
   ]
  },
  {
   "cell_type": "code",
   "execution_count": 4,
   "metadata": {},
   "outputs": [
    {
     "name": "stdout",
     "output_type": "stream",
     "text": [
      "True\n",
      "False\n",
      "True\n"
     ]
    }
   ],
   "source": [
    "def plural(numero):\n",
    "    if numero == 1: \n",
    "        return False\n",
    "    return True\n",
    "\n",
    "print(plural(0))\n",
    "print(plural(1))\n",
    "print(plural(100))"
   ]
  }
 ],
 "metadata": {
  "kernelspec": {
   "display_name": ".venv",
   "language": "python",
   "name": "python3"
  },
  "language_info": {
   "codemirror_mode": {
    "name": "ipython",
    "version": 3
   },
   "file_extension": ".py",
   "mimetype": "text/x-python",
   "name": "python",
   "nbconvert_exporter": "python",
   "pygments_lexer": "ipython3",
   "version": "3.11.10"
  }
 },
 "nbformat": 4,
 "nbformat_minor": 2
}
