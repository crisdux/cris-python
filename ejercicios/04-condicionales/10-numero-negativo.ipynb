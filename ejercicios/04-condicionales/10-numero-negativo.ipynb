{
 "cells": [
  {
   "cell_type": "markdown",
   "metadata": {},
   "source": [
    "## Numero negativo\n",
    "En esta sencilla tarea te dan un número y tienes que hacerlo negativo. ¿Pero tal vez el número ya sea negativo?\n",
    "\n",
    "```py\n",
    "make_negative(1);  # return -1\n",
    "make_negative(-5); # return -5\n",
    "make_negative(0);  # return 0\n",
    "```\n",
    "\n",
    "El número ya puede ser negativo, en cuyo caso no se requiere ningún cambio. \n",
    "El cero (0) no se verifica para ningún signo específico. Los ceros negativos no tienen sentido matemático."
   ]
  },
  {
   "cell_type": "code",
   "execution_count": 1,
   "metadata": {},
   "outputs": [
    {
     "name": "stdout",
     "output_type": "stream",
     "text": [
      "-1\n",
      "-5\n",
      "0\n"
     ]
    }
   ],
   "source": [
    "def numero_negativo(numero):\n",
    "    if numero <= 0:\n",
    "        return numero\n",
    "    return numero * -1\n",
    "\n",
    "print(numero_negativo(1))\n",
    "print(numero_negativo(-5))\n",
    "print(numero_negativo(0))"
   ]
  }
 ],
 "metadata": {
  "kernelspec": {
   "display_name": ".venv",
   "language": "python",
   "name": "python3"
  },
  "language_info": {
   "codemirror_mode": {
    "name": "ipython",
    "version": 3
   },
   "file_extension": ".py",
   "mimetype": "text/x-python",
   "name": "python",
   "nbconvert_exporter": "python",
   "pygments_lexer": "ipython3",
   "version": "3.11.10"
  }
 },
 "nbformat": 4,
 "nbformat_minor": 2
}
