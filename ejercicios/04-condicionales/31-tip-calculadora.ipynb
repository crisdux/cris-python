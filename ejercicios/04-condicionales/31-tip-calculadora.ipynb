{
 "cells": [
  {
   "cell_type": "markdown",
   "metadata": {},
   "source": [
    "## Tip Calculadora \n",
    "Completa la función, que calcula cuánto debes dejar de propina en función del importe total de la factura y del servicio. Debe considerar las siguientes calificaciones:\n",
    "\n",
    "* Terrible: tip 0%\n",
    "* Poor: tip 5%\n",
    "* Good: tip 10%\n",
    "* Great: tip 15%\n",
    "* Excellent: tip 20%\n",
    "\n",
    "La calificación no distingue entre mayúsculas y minúsculas (por lo tanto, \"excelente\" = \"EXCELENTE\"). Si se recibe una calificación no reconocida, deberá devolver: \"Calificación no reconocida\"\n",
    "\n",
    "Como eres una buena persona, siempre redondeas la propina, independientemente del servicio."
   ]
  },
  {
   "cell_type": "code",
   "execution_count": 7,
   "metadata": {},
   "outputs": [
    {
     "name": "stdout",
     "output_type": "stream",
     "text": [
      "2\n",
      "4\n",
      "Calificacion no reconocida\n",
      "17\n",
      "Calificacion no reconocida\n"
     ]
    }
   ],
   "source": [
    "import math\n",
    "def tip_propinas(importe, calidad_servicio):\n",
    "    calidad_servicio_clean = calidad_servicio.lower()\n",
    "\n",
    "    match calidad_servicio_clean:\n",
    "        case \"terrible\":\n",
    "            return 0\n",
    "        case \"pobre\":\n",
    "            return math.ceil(importe * 0.05)\n",
    "        case \"buena\":\n",
    "            return math.ceil(importe * 0.1)\n",
    "        case \"muy buena\":\n",
    "            return math.ceil(importe * 0.15)\n",
    "        case \"excelente\":\n",
    "            return math.ceil(importe * 0.2)\n",
    "        case _: \n",
    "            return \"Calificacion no reconocida\"\n",
    "\n",
    "print(tip_propinas(30, \"pobre\"))\n",
    "print(tip_propinas(20, \"excelente\"))\n",
    "print(tip_propinas(20, \"hola\"))\n",
    "print(tip_propinas(107.65, \"Muy buena\"))\n",
    "print(tip_propinas(20, \"buena!\"))"
   ]
  }
 ],
 "metadata": {
  "kernelspec": {
   "display_name": ".venv",
   "language": "python",
   "name": "python3"
  },
  "language_info": {
   "codemirror_mode": {
    "name": "ipython",
    "version": 3
   },
   "file_extension": ".py",
   "mimetype": "text/x-python",
   "name": "python",
   "nbconvert_exporter": "python",
   "pygments_lexer": "ipython3",
   "version": "3.11.10"
  }
 },
 "nbformat": 4,
 "nbformat_minor": 2
}
