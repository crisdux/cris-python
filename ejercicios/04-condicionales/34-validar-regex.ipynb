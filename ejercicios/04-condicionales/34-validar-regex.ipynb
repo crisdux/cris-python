{
 "cells": [
  {
   "cell_type": "markdown",
   "metadata": {},
   "source": [
    "## Validar regex\n",
    "Tareas básicas de expresiones regulares. Escribe una función que acepte un código numérico de cualquier longitud. La función debe verificar si el código comienza con 1, 2 o 3 y devolver verdadero si es así. Devuelve falso en caso contrario.\n",
    "\n",
    "Puede asumir que la entrada siempre será un número."
   ]
  },
  {
   "cell_type": "code",
   "execution_count": 3,
   "metadata": {},
   "outputs": [
    {
     "name": "stdout",
     "output_type": "stream",
     "text": [
      "True\n",
      "True\n",
      "False\n",
      "True\n",
      "False\n"
     ]
    }
   ],
   "source": [
    "def validar_regex(n):\n",
    "    n_str = str(n)\n",
    "    return (n_str.startswith(\"1\") or n_str.startswith(\"2\") or n_str.startswith(\"3\"))\n",
    "\n",
    "print(validar_regex(123))\n",
    "print(validar_regex(248))\n",
    "print(validar_regex(8))\n",
    "print(validar_regex(321))\n",
    "print(validar_regex(9453))"
   ]
  }
 ],
 "metadata": {
  "kernelspec": {
   "display_name": ".venv",
   "language": "python",
   "name": "python3"
  },
  "language_info": {
   "codemirror_mode": {
    "name": "ipython",
    "version": 3
   },
   "file_extension": ".py",
   "mimetype": "text/x-python",
   "name": "python",
   "nbconvert_exporter": "python",
   "pygments_lexer": "ipython3",
   "version": "3.11.10"
  }
 },
 "nbformat": 4,
 "nbformat_minor": 2
}
