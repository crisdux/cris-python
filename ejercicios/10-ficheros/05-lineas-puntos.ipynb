{
 "cells": [
  {
   "cell_type": "markdown",
   "metadata": {},
   "source": [
    "## Lineas y puntos\n",
    "Dado un archivo con texto contar las lineas que tiene y sobre escribirlo bajo las siguientes condiciones:\n",
    "* Enumerar cada linea empezando desde el 1 hasta la última linea del archivo \n",
    "* Todos los archivos tienen que terminar en punto. Si el original no lo tiene entonces el sobre escrito tiene que tener punto final.\n",
    "* El texto dado puede tener saltos de linea en blanco, dichos saltos no deben tener numeración.\n",
    "\n",
    "Ej:\n",
    "\n",
    "Recuperé cada verso\n",
    "Que dejaste en libertad\n",
    "Reconstruí el universo\n",
    "Esa atmósfera ideal\n",
    "\n",
    "Sé que esto es fugaz\n",
    "Sé que te irás\n",
    "No digas más\n",
    "Y acércate\n",
    "\n",
    "Un día perfecto\n",
    "Para recordar\n",
    "Flotan las esencias\n",
    "Átomos de amor\n",
    "\n",
    "Un día perfecto\n",
    "Quedará\n",
    "Para siempre en mí\n",
    "\n",
    "Salida:\n",
    "\n",
    "1 Recuperé cada verso\n",
    "2 Que dejaste en libertad\n",
    "3 Reconstruí el universo\n",
    "4 Esa atmósfera ideal\n",
    "\n",
    "5 Sé que esto es fugaz\n",
    "6 Sé que te irás\n",
    "7 No digas más\n",
    "8 Y acércate\n",
    "\n",
    "9 Un día perfecto\n",
    "10 Para recordar\n",
    "11 Flotan las esencias\n",
    "12 Átomos de amor\n",
    "\n",
    "13 Un día perfecto\n",
    "14 Quedará\n",
    "15 Para siempre en mí."
   ]
  },
  {
   "cell_type": "code",
   "execution_count": 15,
   "metadata": {},
   "outputs": [
    {
     "name": "stdout",
     "output_type": "stream",
     "text": [
      "1 Recuperé cada verso\n",
      "2 Que dejaste en libertad\n",
      "3 Reconstruí el universo\n",
      "4 Esa atmósfera ideal\n",
      "\n",
      "5 Sé que esto es fugaz\n",
      "6 Sé que te irás\n",
      "7 No digas más\n",
      "8 Y acércate.\n",
      "\n",
      "Revisar la ruta data/lineas-puntos-final.dat para ver el resultado final\n"
     ]
    }
   ],
   "source": [
    "def lineas_puntos(url):\n",
    "    with open(url, \"r\") as file:\n",
    "        lineas = file.readlines()\n",
    "\n",
    "    lineas_finales = []\n",
    "    linea_actual = 1\n",
    "    for linea in lineas:\n",
    "        linea_strip = linea.strip()\n",
    "        if linea_strip:\n",
    "            lineas_finales.append(f\"{linea_actual} {linea_strip}\")\n",
    "            linea_actual = linea_actual + 1\n",
    "        else:\n",
    "            lineas_finales.append(\"\")\n",
    "\n",
    "    if not lineas_finales[-1].endswith('.'):\n",
    "        lineas_finales[-1] += '.'\n",
    "    \n",
    "    with open(\"data/lineas-puntos-final.dat\", \"w\") as file:\n",
    "        file.write(\"\\n\".join(lineas_finales) + \"\\n\")\n",
    "\n",
    "    with open(\"data/lineas-puntos-final.dat\") as file:\n",
    "        print(file.read())\n",
    "\n",
    "    return \"Revisar la ruta data/lineas-puntos-final.dat para ver el resultado final\"\n",
    "    \n",
    "print(lineas_puntos(\"data/lineas-puntos.dat\"))"
   ]
  }
 ],
 "metadata": {
  "kernelspec": {
   "display_name": ".venv",
   "language": "python",
   "name": "python3"
  },
  "language_info": {
   "codemirror_mode": {
    "name": "ipython",
    "version": 3
   },
   "file_extension": ".py",
   "mimetype": "text/x-python",
   "name": "python",
   "nbconvert_exporter": "python",
   "pygments_lexer": "ipython3",
   "version": "3.11.10"
  }
 },
 "nbformat": 4,
 "nbformat_minor": 2
}
