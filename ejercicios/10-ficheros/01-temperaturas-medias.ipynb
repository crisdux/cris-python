{
 "cells": [
  {
   "attachments": {
    "image.png": {
     "image/png": "[encoded data removed]"
    }
   },
   "cell_type": "markdown",
   "metadata": {},
   "source": [
    "## Temperaturas medias\n",
    "Dado un fichero de entrada con 12 filas (meses) y 31 columnas (temperaturas de cada día) se pide: \n",
    "* Leer el fichero de datos.\n",
    "* Calcular la temperatura media de cada mes. \n",
    "* Escribir un fichero de salida con 12 filas (meses) y la temperatura media de cada mes.  \n",
    "* Usar formato de string con 2 cifras decimales para la salida. \n",
    "\n",
    "![image.png](attachment:image.png)"
   ]
  },
  {
   "cell_type": "code",
   "execution_count": 14,
   "metadata": {},
   "outputs": [
    {
     "name": "stdout",
     "output_type": "stream",
     "text": [
      "{'Enero': 11.37, 'Febrero': 10.2, 'Marzo': 20.7, 'Abril': 11.5, 'Mayo': 8.5, 'Junio': 15.5, 'Julio': 37.5, 'Agosto': 18.5, 'Septiembre': 14.5, 'Octubre': 24.42, 'Noviembre': 8.0, 'Diciembre': 17.5}\n"
     ]
    }
   ],
   "source": [
    "def leer_fichero_temperaturas():\n",
    "    temperaturas = {}\n",
    "    try:\n",
    "        with open(\"data/temperaturas.dat\", 'r') as archivo:\n",
    "            for linea in archivo:\n",
    "                # Ignorar líneas de comentarios\n",
    "                if linea.startswith(\"#\") or not linea.strip():\n",
    "                    continue\n",
    "                \n",
    "                # Dividir la línea en mes y temperaturas\n",
    "                partes = linea.strip().split()\n",
    "                \n",
    "                # Validar que la línea tiene al menos dos partes (mes y al menos una temperatura)\n",
    "                if len(partes) < 2:\n",
    "                    print(f\"Línea ignorada por formato incorrecto: {linea.strip()}\")\n",
    "                    continue\n",
    "                \n",
    "                mes = partes[0]\n",
    "                try:\n",
    "                    datos = [int(temp) for temp in partes[1:]]\n",
    "                except ValueError as ve:\n",
    "                    print(f\"Error al convertir temperaturas en la línea: {linea.strip()}\")\n",
    "                    continue\n",
    "                \n",
    "                # Guardar los datos en un diccionario\n",
    "                temperaturas[mes] = datos\n",
    "        return temperaturas\n",
    "    except FileNotFoundError:\n",
    "        print(\"El archivo 'data/temperaturas.dat' no existe.\")\n",
    "    except Exception as e:\n",
    "        print(f\"Ocurrió un error al leer el archivo: {e}\")\n",
    "\n",
    "def calcular_temperatura_media(dict_meses):\n",
    "    dict_temp_promedio = {}\n",
    "    for clave, valor in dict_meses.items():\n",
    "        dict_temp_promedio[clave] = round(sum(valor) / len(valor), 2)\n",
    "    return dict_temp_promedio\n",
    "    \n",
    "print(calcular_temperatura_media(leer_fichero_temperaturas()))"
   ]
  },
  {
   "cell_type": "code",
   "execution_count": 19,
   "metadata": {},
   "outputs": [
    {
     "name": "stdout",
     "output_type": "stream",
     "text": [
      "data/promedios_temperaturas.dat\n"
     ]
    }
   ],
   "source": [
    "with open(\"data/promedios_temperaturas.dat\", 'w') as archivo_salida:\n",
    "    archivo_salida.write(\"# Promedio de temperaturas mensuales\\n\")\n",
    "    for mes, promedio in calcular_temperatura_media(leer_fichero_temperaturas()).items():\n",
    "        archivo_salida.write(f\"{mes}: {promedio:.2f}\\n\")\n",
    "\n",
    "print(nombre_fichero_salida)"
   ]
  }
 ],
 "metadata": {
  "kernelspec": {
   "display_name": ".venv",
   "language": "python",
   "name": "python3"
  },
  "language_info": {
   "codemirror_mode": {
    "name": "ipython",
    "version": 3
   },
   "file_extension": ".py",
   "mimetype": "text/x-python",
   "name": "python",
   "nbconvert_exporter": "python",
   "pygments_lexer": "ipython3",
   "version": "3.11.10"
  }
 },
 "nbformat": 4,
 "nbformat_minor": 2
}
