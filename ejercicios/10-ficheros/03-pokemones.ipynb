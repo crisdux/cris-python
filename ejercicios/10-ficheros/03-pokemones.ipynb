{
 "cells": [
  {
   "cell_type": "code",
   "execution_count": 27,
   "metadata": {},
   "outputs": [
    {
     "name": "stdout",
     "output_type": "stream",
     "text": [
      "[{'Name': 'Bulbasaur', 'Type_1': 'Grass', 'Type_2': 'Poison', 'Total': 318, 'HP': 45, 'Attack': 49, 'Defense': 49, 'Sp_Atk': 65, 'Sp_Def': 65, 'Speed': 45, 'Generation': 1, 'Legendary': False}, {'Name': 'Ivysaur', 'Type_1': 'Grass', 'Type_2': 'Poison', 'Total': 405, 'HP': 60, 'Attack': 62, 'Defense': 63, 'Sp_Atk': 80, 'Sp_Def': 80, 'Speed': 60, 'Generation': 1, 'Legendary': False}, {'Name': 'Venusaur', 'Type_1': 'Grass', 'Type_2': 'Poison', 'Total': 525, 'HP': 80, 'Attack': 82, 'Defense': 83, 'Sp_Atk': 100, 'Sp_Def': 100, 'Speed': 80, 'Generation': 1, 'Legendary': False}, {'Name': 'Charmander', 'Type_1': 'Fire', 'Type_2': '', 'Total': 309, 'HP': 39, 'Attack': 52, 'Defense': 43, 'Sp_Atk': 60, 'Sp_Def': 50, 'Speed': 65, 'Generation': 1, 'Legendary': False}, {'Name': 'Charmeleon', 'Type_1': 'Fire', 'Type_2': '', 'Total': 405, 'HP': 58, 'Attack': 64, 'Defense': 58, 'Sp_Atk': 80, 'Sp_Def': 65, 'Speed': 80, 'Generation': 1, 'Legendary': False}, {'Name': 'Charizard', 'Type_1': 'Fire', 'Type_2': 'Flying', 'Total': 534, 'HP': 78, 'Attack': 84, 'Defense': 78, 'Sp_Atk': 109, 'Sp_Def': 85, 'Speed': 100, 'Generation': 1, 'Legendary': False}, {'Name': 'Squirtle', 'Type_1': 'Water', 'Type_2': '', 'Total': 314, 'HP': 44, 'Attack': 48, 'Defense': 65, 'Sp_Atk': 50, 'Sp_Def': 64, 'Speed': 43, 'Generation': 1, 'Legendary': False}, {'Name': 'Wartortle', 'Type_1': 'Water', 'Type_2': '', 'Total': 405, 'HP': 59, 'Attack': 63, 'Defense': 80, 'Sp_Atk': 65, 'Sp_Def': 80, 'Speed': 58, 'Generation': 1, 'Legendary': False}, {'Name': 'Blastoise', 'Type_1': 'Water', 'Type_2': '', 'Total': 530, 'HP': 79, 'Attack': 83, 'Defense': 100, 'Sp_Atk': 85, 'Sp_Def': 105, 'Speed': 78, 'Generation': 1, 'Legendary': False}, {'Name': 'Caterpie', 'Type_1': 'Bug', 'Type_2': '', 'Total': 195, 'HP': 45, 'Attack': 30, 'Defense': 35, 'Sp_Atk': 20, 'Sp_Def': 20, 'Speed': 45, 'Generation': 1, 'Legendary': False}, {'Name': 'Metapod', 'Type_1': 'Bug', 'Type_2': '', 'Total': 205, 'HP': 50, 'Attack': 20, 'Defense': 55, 'Sp_Atk': 25, 'Sp_Def': 25, 'Speed': 30, 'Generation': 1, 'Legendary': False}]\n"
     ]
    }
   ],
   "source": [
    "def csv_a_dict(ruta):\n",
    "    lista_pokemones = []\n",
    "\n",
    "    with open(ruta, \"r\") as file:\n",
    "        cabeceras = file.readline().strip().replace('\"', '').split(\",\")\n",
    "        # print(cabeceras)\n",
    "\n",
    "        for line in file:\n",
    "            valores = line.strip().replace('\"', '').split(\",\")\n",
    "            # print(valores)\n",
    "            data_pokemon = {}\n",
    "\n",
    "            for header, value in zip(cabeceras, valores):\n",
    "                if header in  ['Total', 'HP', 'Attack', 'Defense', 'Sp_Atk', 'Sp_Def', 'Speed', 'Generation']:\n",
    "                    data_pokemon[header] = int(value)\n",
    "                elif header == \"Legendary\":\n",
    "                    if value in [\"true\", \"True\"]:\n",
    "                        data_pokemon[header] = True\n",
    "                    data_pokemon[header] = False\n",
    "                else:\n",
    "                    data_pokemon[header] = value\n",
    "\n",
    "            lista_pokemones.append(data_pokemon)\n",
    "\n",
    "    return lista_pokemones\n",
    "\n",
    "print(csv_a_dict(\"data/pokemones.csv\"))"
   ]
  }
 ],
 "metadata": {
  "kernelspec": {
   "display_name": ".venv",
   "language": "python",
   "name": "python3"
  },
  "language_info": {
   "codemirror_mode": {
    "name": "ipython",
    "version": 3
   },
   "file_extension": ".py",
   "mimetype": "text/x-python",
   "name": "python",
   "nbconvert_exporter": "python",
   "pygments_lexer": "ipython3",
   "version": "3.11.10"
  }
 },
 "nbformat": 4,
 "nbformat_minor": 2
}
