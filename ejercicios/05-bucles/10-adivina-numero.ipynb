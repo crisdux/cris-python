{
 "cells": [
  {
   "cell_type": "code",
   "execution_count": null,
   "metadata": {},
   "outputs": [],
   "source": []
  },
  {
   "cell_type": "code",
   "execution_count": 4,
   "metadata": {},
   "outputs": [
    {
     "name": "stdout",
     "output_type": "stream",
     "text": [
      "El número es mayor\n",
      "El número es mayor\n",
      "El número es mayor\n",
      "El número es menor\n",
      "El número es mayor\n",
      "El número es mayor\n",
      "¡Felicitaciones! Adivinaste el número en 6 intentos.\n",
      "None\n"
     ]
    }
   ],
   "source": [
    "import random\n",
    "def adivina_numero():\n",
    "    numero_objetivo = random.randint(1, 101)\n",
    "    # numero_objetivo = 20\n",
    "    contador_intentos = 0\n",
    "    numero_usuario = int(input(\"Adivina el número entre 0 y 100\"))\n",
    "    while numero_usuario != numero_objetivo:\n",
    "        contador_intentos += 1\n",
    "        if numero_usuario < numero_objetivo:\n",
    "            print(\"El número es mayor\")\n",
    "        else:\n",
    "            print(\"El número es menor\")\n",
    "        numero_usuario = int(input(\"Adivina el número entre 0 y 100\"))\n",
    "    print(\"¡Felicitaciones! Adivinaste el número en\", contador_intentos, \"intentos.\")\n",
    "\n",
    "print(adivina_numero())"
   ]
  }
 ],
 "metadata": {
  "kernelspec": {
   "display_name": ".venv",
   "language": "python",
   "name": "python3"
  },
  "language_info": {
   "codemirror_mode": {
    "name": "ipython",
    "version": 3
   },
   "file_extension": ".py",
   "mimetype": "text/x-python",
   "name": "python",
   "nbconvert_exporter": "python",
   "pygments_lexer": "ipython3",
   "version": "3.11.10"
  }
 },
 "nbformat": 4,
 "nbformat_minor": 2
}
