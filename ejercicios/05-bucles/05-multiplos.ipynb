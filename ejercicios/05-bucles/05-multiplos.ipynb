{
 "cells": [
  {
   "cell_type": "markdown",
   "metadata": {},
   "source": [
    "## multiplos\n",
    "Escriba un programa que encuentre la mínima secuencia de múltiplos de 3 (distintos)\n",
    "\n",
    "Entrada: 45\n",
    "\n",
    "Salida: 0, 3, 6, 9, 12, 15"
   ]
  },
  {
   "cell_type": "code",
   "execution_count": 68,
   "metadata": {},
   "outputs": [
    {
     "name": "stdout",
     "output_type": "stream",
     "text": [
      "0 3 6 9 12 15 "
     ]
    }
   ],
   "source": [
    "n = int(input(\"Escriba un numero\"))\n",
    "mi_lista = [0]\n",
    "for i in range(1, n+1): ##1,36\n",
    "    if n % i == 0:\n",
    "        mi_lista.append(i)\n",
    "max_divisor = mi_lista[-2]\n",
    "\n",
    "for j in range(0,max_divisor+1, 3):\n",
    "    print(j, end= \" \")"
   ]
  }
 ],
 "metadata": {
  "kernelspec": {
   "display_name": ".venv",
   "language": "python",
   "name": "python3"
  },
  "language_info": {
   "codemirror_mode": {
    "name": "ipython",
    "version": 3
   },
   "file_extension": ".py",
   "mimetype": "text/x-python",
   "name": "python",
   "nbconvert_exporter": "python",
   "pygments_lexer": "ipython3",
   "version": "3.11.10"
  }
 },
 "nbformat": 4,
 "nbformat_minor": 2
}
