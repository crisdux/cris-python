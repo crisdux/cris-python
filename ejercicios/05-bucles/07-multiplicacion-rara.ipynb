{
 "cells": [
  {
   "cell_type": "markdown",
   "metadata": {},
   "source": [
    "## Multiplicacion rara"
   ]
  },
  {
   "cell_type": "code",
   "execution_count": 35,
   "metadata": {},
   "outputs": [
    {
     "name": "stdout",
     "output_type": "stream",
     "text": [
      " 1 x 1 = 1\n",
      " 11 x 11 = 121\n",
      " 111 x 111 = 12321\n",
      " 1111 x 1111 = 1234321\n",
      " 11111 x 11111 = 123454321\n",
      " 111111 x 111111 = 12345654321\n",
      " 1111111 x 1111111 = 1234567654321\n",
      " 11111111 x 11111111 = 123456787654321\n",
      "None\n"
     ]
    }
   ],
   "source": [
    "def multiplicacion_rara():\n",
    "    for i in range(1, 2):\n",
    "        for j in range(1,9):\n",
    "            print( f\" {int((str(i)*j))} x {int((str(i)*j))} = { int((str(i)*j)) * int((str(i)*j)) }\" )\n",
    "            \n",
    "\n",
    "print(multiplicacion_rara())"
   ]
  }
 ],
 "metadata": {
  "kernelspec": {
   "display_name": ".venv",
   "language": "python",
   "name": "python3"
  },
  "language_info": {
   "codemirror_mode": {
    "name": "ipython",
    "version": 3
   },
   "file_extension": ".py",
   "mimetype": "text/x-python",
   "name": "python",
   "nbconvert_exporter": "python",
   "pygments_lexer": "ipython3",
   "version": "3.11.10"
  }
 },
 "nbformat": 4,
 "nbformat_minor": 2
}
