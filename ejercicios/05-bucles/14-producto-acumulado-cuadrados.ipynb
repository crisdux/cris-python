{
 "cells": [
  {
   "attachments": {
    "image.png": {
     "image/png": "[encoded data removed]"
    }
   },
   "cell_type": "markdown",
   "metadata": {},
   "source": [
    "## Producto acumulado de cuadrados\n",
    "Dado un número entero calcule el producto acumulado de cada valor al cuadrado hasta llegar a dicho número.\n",
    "\n",
    "Por ejemplo, si n=4 el resultado saldría del siguiente cálculo:\n",
    "\n",
    "![image.png](attachment:image.png)\n"
   ]
  },
  {
   "cell_type": "code",
   "execution_count": 4,
   "metadata": {},
   "outputs": [
    {
     "name": "stdout",
     "output_type": "stream",
     "text": [
      "1\n",
      "576\n",
      "25401600\n",
      "13168189440000\n"
     ]
    }
   ],
   "source": [
    "def producto_acumulado_cuadrados(n):\n",
    "    resultado = 1\n",
    "    for i in range(1,n+1):\n",
    "        resultado *= i**2\n",
    "    return resultado\n",
    "\n",
    "print(producto_acumulado_cuadrados(1))\n",
    "print(producto_acumulado_cuadrados(4))\n",
    "print(producto_acumulado_cuadrados(7))\n",
    "print(producto_acumulado_cuadrados(10))"
   ]
  }
 ],
 "metadata": {
  "kernelspec": {
   "display_name": ".venv",
   "language": "python",
   "name": "python3"
  },
  "language_info": {
   "codemirror_mode": {
    "name": "ipython",
    "version": 3
   },
   "file_extension": ".py",
   "mimetype": "text/x-python",
   "name": "python",
   "nbconvert_exporter": "python",
   "pygments_lexer": "ipython3",
   "version": "3.11.10"
  }
 },
 "nbformat": 4,
 "nbformat_minor": 2
}
