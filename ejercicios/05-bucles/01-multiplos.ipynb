{
 "cells": [
  {
   "cell_type": "markdown",
   "metadata": {},
   "source": [
    "## Multiplos\n",
    "Escriba un programa que encuentre todos los múltiplos de 5 menores que un valor dado:\n",
    "\n",
    "Ejemplo\n",
    "* Entrada: 36\n",
    "* Salida: 5 10 15 20 25 30 35"
   ]
  },
  {
   "cell_type": "code",
   "execution_count": 1,
   "metadata": {},
   "outputs": [
    {
     "name": "stdout",
     "output_type": "stream",
     "text": [
      "5\n",
      "10\n",
      "15\n",
      "20\n",
      "25\n",
      "30\n",
      "35\n",
      "None\n"
     ]
    }
   ],
   "source": [
    "def multiplos(n):\n",
    "    multiplo = 5\n",
    "    while multiplo < n:\n",
    "        print(multiplo)\n",
    "        multiplo +=5\n",
    "\n",
    "print(multiplos(36))"
   ]
  }
 ],
 "metadata": {
  "kernelspec": {
   "display_name": ".venv",
   "language": "python",
   "name": "python3"
  },
  "language_info": {
   "codemirror_mode": {
    "name": "ipython",
    "version": 3
   },
   "file_extension": ".py",
   "mimetype": "text/x-python",
   "name": "python",
   "nbconvert_exporter": "python",
   "pygments_lexer": "ipython3",
   "version": "3.11.10"
  }
 },
 "nbformat": 4,
 "nbformat_minor": 2
}
