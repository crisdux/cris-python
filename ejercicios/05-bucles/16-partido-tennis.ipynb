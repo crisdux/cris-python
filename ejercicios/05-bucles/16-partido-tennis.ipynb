{
 "cells": [
  {
   "attachments": {
    "image.png": {
     "image/png": "[encoded data removed]"
    }
   },
   "cell_type": "markdown",
   "metadata": {},
   "source": [
    "## Tennis\n",
    "Escenario: Partido de Tenis. Dada una cadena de texto con letras A o B indicando si el jugador A ha ganado un punto o si el jugador B ha ganado un punto, haga un programa en Python que determine quién ha ganado el juego actual.\n",
    "\n",
    "Nota: Es obvio que el jugador que ha ganado el último punto del juego también ha ganado el juego, pero nos interesa irlo calculando de forma secuencial para prepararnos de cara a ejercicios más completos.\n",
    "\n",
    "\n",
    "![image.png](attachment:image.png)"
   ]
  },
  {
   "cell_type": "code",
   "execution_count": 3,
   "metadata": {},
   "outputs": [
    {
     "name": "stdout",
     "output_type": "stream",
     "text": [
      "A\n",
      "B\n",
      "A\n",
      "A\n"
     ]
    }
   ],
   "source": [
    "def partido_tennis(puntos):\n",
    "    puntos_A = 0\n",
    "    puntos_B = 0\n",
    "    for punto in puntos:\n",
    "        if punto == \"A\":\n",
    "            puntos_A +=1\n",
    "        else:\n",
    "            puntos_B +=1\n",
    "    \n",
    "    return \"A\" if puntos_A > puntos_B else \"B\"\n",
    "\n",
    "\n",
    "print(partido_tennis('ABAABA'))\n",
    "print(partido_tennis('BABABAABBB'))\n",
    "print(partido_tennis('AAABA'))\n",
    "print(partido_tennis('BBBAAAABABBAAA'))"
   ]
  }
 ],
 "metadata": {
  "kernelspec": {
   "display_name": ".venv",
   "language": "python",
   "name": "python3"
  },
  "language_info": {
   "codemirror_mode": {
    "name": "ipython",
    "version": 3
   },
   "file_extension": ".py",
   "mimetype": "text/x-python",
   "name": "python",
   "nbconvert_exporter": "python",
   "pygments_lexer": "ipython3",
   "version": "3.11.10"
  }
 },
 "nbformat": 4,
 "nbformat_minor": 2
}
