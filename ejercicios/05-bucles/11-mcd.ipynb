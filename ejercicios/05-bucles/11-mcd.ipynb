{
 "cells": [
  {
   "cell_type": "markdown",
   "metadata": {},
   "source": [
    "## MCD\n",
    "Encuentre el máximo común divisor entre dos números enteros"
   ]
  },
  {
   "cell_type": "code",
   "execution_count": 5,
   "metadata": {},
   "outputs": [
    {
     "name": "stdout",
     "output_type": "stream",
     "text": [
      "1\n",
      "1\n",
      "2\n",
      "4\n",
      "7\n"
     ]
    }
   ],
   "source": [
    "def mcd(a,b):\n",
    "    maximo = max([a,b])\n",
    "    minimo = min([a,b])\n",
    "    res = []\n",
    "    if maximo % minimo == 0:\n",
    "        return maximo\n",
    "    while maximo % minimo != 0:\n",
    "        cociente = maximo // minimo\n",
    "        resto = maximo % minimo \n",
    "        res.append(resto) \n",
    "        maximo = minimo \n",
    "        minimo = resto\n",
    "    return res[-1]\n",
    "\n",
    "print(mcd(1,1))\n",
    "print(mcd(3,7))\n",
    "print(mcd(46,64))\n",
    "print(mcd(12,44))\n",
    "print(mcd(28,91))\n"
   ]
  }
 ],
 "metadata": {
  "kernelspec": {
   "display_name": ".venv",
   "language": "python",
   "name": "python3"
  },
  "language_info": {
   "codemirror_mode": {
    "name": "ipython",
    "version": 3
   },
   "file_extension": ".py",
   "mimetype": "text/x-python",
   "name": "python",
   "nbconvert_exporter": "python",
   "pygments_lexer": "ipython3",
   "version": "3.11.10"
  }
 },
 "nbformat": 4,
 "nbformat_minor": 2
}
