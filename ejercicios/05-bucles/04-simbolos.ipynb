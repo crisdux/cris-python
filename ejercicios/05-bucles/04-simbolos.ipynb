{
 "cells": [
  {
   "cell_type": "markdown",
   "metadata": {},
   "source": [
    "## simbolos\n",
    "Da un numero muestre el siguiente patron:\n",
    "\n",
    "Entrada = 5\n",
    "\n",
    "Salida:\n",
    "\n",
    "```\n",
    "X U U U U\n",
    "D X U U U\n",
    "D D X U U\n",
    "D D D X U\n",
    "D D D D X\n",
    "```\n"
   ]
  },
  {
   "cell_type": "code",
   "execution_count": 9,
   "metadata": {},
   "outputs": [
    {
     "name": "stdout",
     "output_type": "stream",
     "text": [
      "\n",
      "X U U U U \n",
      "D X U U U \n",
      "D D X U U \n",
      "D D D X U \n",
      "D D D D X "
     ]
    }
   ],
   "source": [
    "def simbolos(n):\n",
    "    for i in range(n):\n",
    "        print(\"\")\n",
    "        for j in range(n):\n",
    "            if i == j:\n",
    "                print(\"X\", end=\" \")\n",
    "            elif i < j:\n",
    "                print(\"U\", end=\" \")\n",
    "            else:\n",
    "                print(\"D\", end=\" \")\n",
    "\n",
    "simbolos(5)"
   ]
  }
 ],
 "metadata": {
  "kernelspec": {
   "display_name": ".venv",
   "language": "python",
   "name": "python3"
  },
  "language_info": {
   "codemirror_mode": {
    "name": "ipython",
    "version": 3
   },
   "file_extension": ".py",
   "mimetype": "text/x-python",
   "name": "python",
   "nbconvert_exporter": "python",
   "pygments_lexer": "ipython3",
   "version": "3.11.10"
  }
 },
 "nbformat": 4,
 "nbformat_minor": 2
}
