{
 "cells": [
  {
   "cell_type": "markdown",
   "metadata": {},
   "source": [
    "## Nombre correcto\n",
    "Escriba un programa que pida nombre y apellidos de una persona (usando un solo\n",
    "input) y repita la pregunta mientras el nombre no esté en formato título (solución).\n",
    "\n",
    "```\n",
    "¿Su nombre? ana torres blanco\n",
    "Error. Debe escribirlo correctamente\n",
    "¿Su nombre? Ana torres blanco\n",
    "Error. Debe escribirlo correctamente\n",
    "¿Su nombre? Ana Torres blanco\n",
    "Error. Debe escribirlo correctamente\n",
    "¿Su nombre? Ana Torres Blanco\n",
    "```"
   ]
  },
  {
   "cell_type": "code",
   "execution_count": 4,
   "metadata": {},
   "outputs": [
    {
     "name": "stdout",
     "output_type": "stream",
     "text": [
      "Error. Debe escribirlo correctamente\n",
      "Error. Debe escribirlo correctamente\n"
     ]
    },
    {
     "data": {
      "text/plain": [
       "'Ana Torrez'"
      ]
     },
     "execution_count": 4,
     "metadata": {},
     "output_type": "execute_result"
    }
   ],
   "source": [
    "def nombre_correcto():\n",
    "    nombre = input(\"Escriba su nombre\")\n",
    "    while not nombre.istitle():\n",
    "        print(\"Error. Debe escribirlo correctamente\")\n",
    "        nombre = input(\"Escriba su nombre\")\n",
    "    return nombre\n",
    "    \n",
    "nombre_correcto()"
   ]
  }
 ],
 "metadata": {
  "kernelspec": {
   "display_name": ".venv",
   "language": "python",
   "name": "python3"
  },
  "language_info": {
   "codemirror_mode": {
    "name": "ipython",
    "version": 3
   },
   "file_extension": ".py",
   "mimetype": "text/x-python",
   "name": "python",
   "nbconvert_exporter": "python",
   "pygments_lexer": "ipython3",
   "version": "3.11.10"
  }
 },
 "nbformat": 4,
 "nbformat_minor": 2
}
