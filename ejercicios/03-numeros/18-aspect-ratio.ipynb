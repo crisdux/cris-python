{
 "cells": [
  {
   "cell_type": "markdown",
   "metadata": {},
   "source": [
    "## Aspect ratio image\n",
    "La relación de aspecto de una imagen describe la relación proporcional entre su ancho y su alto. La mayoría de los vídeos que se muestran en Internet utilizan una relación de aspecto de 16:9, lo que significa que por cada píxel de la Y, hay aproximadamente 1,77 píxeles en la X (donde 1,77 ~= 16/9). Por ejemplo, un vídeo de 1080p con una relación de aspecto de 16:9 tendría una resolución X de 1920, sin embargo, un vídeo de 1080p con una relación de aspecto de 4:3 tendría una resolución X de 1440.\n",
    "\n",
    "Escriba una función que acepte resoluciones X e Y arbitrarias y las convierta en resoluciones con una relación de aspecto de 16:9 que mantenga la misma altura. Redondea tus respuestas al número entero más cercano.\n",
    "\n",
    "\n",
    "Ejemplo\n",
    "Imagen de 374 × 280 píxeles con una relación de aspecto de 4:3.\n",
    "\n",
    "![image](https://upload.wikimedia.org/wikipedia/commons/4/43/Aspect_ratio_4_3_example.jpg)\n",
    "\n",
    "Imagen de 500 × 280 píxeles con una relación de aspecto de 16:9.\n",
    "\n",
    "![image](https://upload.wikimedia.org/wikipedia/commons/2/2c/Aspect_ratio_16_9_example3.jpg)"
   ]
  },
  {
   "cell_type": "code",
   "execution_count": 21,
   "metadata": {},
   "outputs": [
    {
     "name": "stdout",
     "output_type": "stream",
     "text": [
      "(854, 480)\n"
     ]
    }
   ],
   "source": [
    "import math\n",
    "def aspect_ratio(x: int, y: int):\n",
    "    aspect_ratio_final = 16/9\n",
    "    return (math.ceil(aspect_ratio_final * y), y)\n",
    "\n",
    "print(aspect_ratio(640,480))"
   ]
  }
 ],
 "metadata": {
  "kernelspec": {
   "display_name": ".venv",
   "language": "python",
   "name": "python3"
  },
  "language_info": {
   "codemirror_mode": {
    "name": "ipython",
    "version": 3
   },
   "file_extension": ".py",
   "mimetype": "text/x-python",
   "name": "python",
   "nbconvert_exporter": "python",
   "pygments_lexer": "ipython3",
   "version": "3.11.9"
  }
 },
 "nbformat": 4,
 "nbformat_minor": 2
}
