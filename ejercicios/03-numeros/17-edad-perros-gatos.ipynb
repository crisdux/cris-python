{
 "cells": [
  {
   "cell_type": "markdown",
   "metadata": {},
   "source": [
    "## Edad de perros y gatos\n",
    "Tengo un gato y un perro. \n",
    "Los compré al mismo tiempo\n",
    "Eso fue hace años humanos. \n",
    "Devuelve sus respectivas edades ahora como `[humanYears,catYears,dogYears]`\n",
    "\n",
    "Notas:\n",
    "\n",
    "* `humanYears >= 1`\n",
    "* `humanYears` siempre es un número entero\n",
    "\n",
    "### Años gato:\n",
    "* `+15` años el primer año humano\n",
    "* `+9` años el segundo año humano\n",
    "* `+4` años del tercer año para arriba\n",
    "\n",
    "### Años perro:\n",
    "* `+15` años el primer año humano\n",
    "* `+9` años el segundo año humano\n",
    "* `+5` años del tercer año para arriba"
   ]
  },
  {
   "cell_type": "code",
   "execution_count": 3,
   "metadata": {},
   "outputs": [
    {
     "name": "stdout",
     "output_type": "stream",
     "text": [
      "36\n"
     ]
    }
   ],
   "source": [
    "def calcular_edad_gato(cat_years:int):\n",
    "    edad_gato_humano = 0 #5 -> 1:15, 2:15+9, 3:15+9+4, 4:15+9+4+4, 5:15+9+4+4+4\n",
    "    for edad in range(1, cat_years + 1):\n",
    "        if(edad == 1):\n",
    "            edad_gato_humano += 15 \n",
    "        if(edad == 2):\n",
    "            edad_gato_humano += 9\n",
    "        if(edad >=3):\n",
    "            edad_gato_humano +=4\n",
    "    return edad_gato_humano\n",
    "\n",
    "print(calcular_edad_gato(5))"
   ]
  },
  {
   "cell_type": "code",
   "execution_count": 5,
   "metadata": {},
   "outputs": [
    {
     "name": "stdout",
     "output_type": "stream",
     "text": [
      "39\n"
     ]
    }
   ],
   "source": [
    "def calcular_edad_perro(dog_years:int):\n",
    "    edad_perro_humano = 0 #5 -> 1:15, 2:15+9, 3:15+9+4, 4:15+9+4+4, 5:15+9+4+4+4\n",
    "    for edad in range(1, dog_years + 1):\n",
    "        if(edad == 1):\n",
    "            edad_perro_humano += 15 \n",
    "        if(edad == 2):\n",
    "            edad_perro_humano += 9\n",
    "        if(edad >=3):\n",
    "            edad_perro_humano +=5\n",
    "    return edad_perro_humano\n",
    "\n",
    "print(calcular_edad_perro(5))"
   ]
  },
  {
   "cell_type": "code",
   "execution_count": 6,
   "metadata": {},
   "outputs": [
    {
     "name": "stdout",
     "output_type": "stream",
     "text": [
      "[5, 36, 39]\n"
     ]
    }
   ],
   "source": [
    "def calcular_edad_perro_gato(humanYears):\n",
    "    return [humanYears, calcular_edad_gato(humanYears), calcular_edad_perro(humanYears)]\n",
    "\n",
    "print(calcular_edad_perro_gato(5))"
   ]
  }
 ],
 "metadata": {
  "kernelspec": {
   "display_name": ".venv",
   "language": "python",
   "name": "python3"
  },
  "language_info": {
   "codemirror_mode": {
    "name": "ipython",
    "version": 3
   },
   "file_extension": ".py",
   "mimetype": "text/x-python",
   "name": "python",
   "nbconvert_exporter": "python",
   "pygments_lexer": "ipython3",
   "version": "3.11.9"
  }
 },
 "nbformat": 4,
 "nbformat_minor": 2
}
