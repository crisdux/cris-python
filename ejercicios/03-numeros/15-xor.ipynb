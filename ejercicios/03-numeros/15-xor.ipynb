{
 "cells": [
  {
   "cell_type": "markdown",
   "metadata": {},
   "source": [
    "## Xor\n",
    "El \"o exclusivo\" (xor) es una operación lógica que sigue las siguientes reglas:\n",
    "\n",
    "* False xor False -> False\n",
    "* True xor False -> True\n",
    "* False xor True -> True\n",
    "* True xor True -> False\n",
    "\n",
    "Básicamente sólo es verdadero cuando una (y solo una) de las dos entradas es verdadera. Escriba un programa que calcule el xor a partir de dos parámetros de entrada.\n",
    "\n",
    "NOTA: Sólo se pueden usar operadores booleanos and, or y not\n"
   ]
  },
  {
   "cell_type": "code",
   "execution_count": 1,
   "metadata": {},
   "outputs": [
    {
     "name": "stdout",
     "output_type": "stream",
     "text": [
      "False\n",
      "True\n",
      "True\n",
      "False\n"
     ]
    }
   ],
   "source": [
    "def xor_python(v1, v2):\n",
    "    if v1 == v2:\n",
    "        return False\n",
    "    return True\n",
    "\n",
    "print(xor_python(False, False))\n",
    "print(xor_python(True, False))\n",
    "print(xor_python(False, True))\n",
    "print(xor_python(True, True))"
   ]
  }
 ],
 "metadata": {
  "kernelspec": {
   "display_name": ".venv",
   "language": "python",
   "name": "python3"
  },
  "language_info": {
   "codemirror_mode": {
    "name": "ipython",
    "version": 3
   },
   "file_extension": ".py",
   "mimetype": "text/x-python",
   "name": "python",
   "nbconvert_exporter": "python",
   "pygments_lexer": "ipython3",
   "version": "3.11.9"
  }
 },
 "nbformat": 4,
 "nbformat_minor": 2
}
