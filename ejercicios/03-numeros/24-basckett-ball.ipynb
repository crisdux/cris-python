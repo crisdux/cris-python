{
 "cells": [
  {
   "cell_type": "markdown",
   "metadata": {},
   "source": [
    "## Jugando Bascket\n",
    "Un partido de la NBA dura 48 minutos (cuatro cuartos de 12 minutos). Los jugadores normalmente no juegan el juego completo, entrando y saliendo según sea necesario. Tu trabajo es extrapolar los puntos de un jugador por partido si jugó los 48 minutos completos. \n",
    "\n",
    "Escriba una función que tome dos argumentos, ppg (puntos por juego) y mpg (minutos por juego) y devuelva una extrapolación directa de ppg por 48 minutos redondeada a la décima más cercana. Devuelve 0 si es 0. \n",
    "\n",
    "Ejemplos:\n",
    "\n",
    "* `nba_extrap(12, 20)` # 28.8\n",
    "* `nba_extrap(10, 10)` # 48\n",
    "* `nba_extrap(5, 17)` # 14.1\n",
    "* `nba_extrap(0, 0)` # 0\n",
    "\n",
    "Notas: \n",
    "* Todas las entradas serán enteras o flotantes."
   ]
  },
  {
   "cell_type": "code",
   "execution_count": 20,
   "metadata": {},
   "outputs": [
    {
     "name": "stdout",
     "output_type": "stream",
     "text": [
      "28.8\n",
      "48.0\n",
      "14.1\n",
      "0\n"
     ]
    }
   ],
   "source": [
    "def nba_extrap(puntos_por_juego, minutos_por_juego):\n",
    "    if(puntos_por_juego or minutos_por_juego) == 0:\n",
    "        return 0\n",
    "    MINUTOS_TOTAL = 48\n",
    "    return round((puntos_por_juego * MINUTOS_TOTAL) / minutos_por_juego, 1)\n",
    "\n",
    "print(nba_extrap(12, 20))\n",
    "print(nba_extrap(10, 10))\n",
    "print(nba_extrap(5, 17))\n",
    "print(nba_extrap(0, 0))\n",
    "    "
   ]
  },
  {
   "cell_type": "code",
   "execution_count": 23,
   "metadata": {},
   "outputs": [
    {
     "name": "stdout",
     "output_type": "stream",
     "text": [
      "Todo bien!\n"
     ]
    }
   ],
   "source": [
    "try:\n",
    "    assert(nba_extrap(12, 20) == 28.8)\n",
    "    assert(nba_extrap(10,10) == 48)\n",
    "    assert(nba_extrap(5,17) == 14.1)\n",
    "    assert(nba_extrap(0,0) == 0)\n",
    "    print(\"Todo bien!\")\n",
    "except AssertionError as error:\n",
    "    print(\"Error\", error)"
   ]
  }
 ],
 "metadata": {
  "kernelspec": {
   "display_name": ".venv",
   "language": "python",
   "name": "python3"
  },
  "language_info": {
   "codemirror_mode": {
    "name": "ipython",
    "version": 3
   },
   "file_extension": ".py",
   "mimetype": "text/x-python",
   "name": "python",
   "nbconvert_exporter": "python",
   "pygments_lexer": "ipython3",
   "version": "3.11.9"
  }
 },
 "nbformat": 4,
 "nbformat_minor": 2
}
