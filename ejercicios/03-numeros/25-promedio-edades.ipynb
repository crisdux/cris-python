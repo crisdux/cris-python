{
 "cells": [
  {
   "cell_type": "markdown",
   "metadata": {},
   "source": [
    "## El promedio de las edades\n",
    "\n",
    "Todo el mundo conoce la clásica regla de las citas \"la mitad de tu edad más siete\" que mucha gente sigue (incluyéndome a mí). Es el rango de edad \"recomendado\" para salir con alguien.\n",
    "\n",
    "![img](http://web.archive.org/web/20190206114947if_/http://weknowmemes.com/wp-content/uploads/2014/08/age-range-compatibility-equation.jpg)\n",
    "\n",
    "Dado un número entero (1 <= n <= 100) que representa la edad de una persona, devuelve su rango de edad mínimo y máximo. \n",
    "\n",
    "Esta ecuación no funciona cuando la edad <= 14, así que use esta ecuación en su lugar:\n",
    "\n",
    "```py\n",
    "min = age - 0.10 * age\n",
    "max = age + 0.10 * age\n",
    "```\n",
    "\n",
    "Debes reducir todas tus respuestas para que se proporcione un número entero en lugar de un flotante (que no representa la edad). Devuelve tu respuesta en la forma [min]-[max]\n",
    "\n",
    "Ejemplos:\n",
    "\n",
    "* age = 27   =>   20-40\n",
    "* age = 5    =>   4-5\n",
    "* age = 17   =>   15-20"
   ]
  },
  {
   "cell_type": "code",
   "execution_count": 8,
   "metadata": {},
   "outputs": [
    {
     "name": "stdout",
     "output_type": "stream",
     "text": [
      "20 - 40\n",
      "4 - 5\n",
      "15 - 20\n"
     ]
    }
   ],
   "source": [
    "import math \n",
    "def rango_edades(edad):\n",
    "    if edad <=0 or edad>= 100:\n",
    "        return \"Edad fuera de rango\"\n",
    "    \n",
    "    if edad <= 14:\n",
    "        min = edad - 0.10 * edad\n",
    "        max = edad + 0.10 * edad\n",
    "        return f\"{math.floor(min)} - {math.floor(max)}\"\n",
    "    else:\n",
    "        min = (edad / 2) + 7\n",
    "        max = (edad - 7) * 2\n",
    "        return f\"{math.floor(min)} - {math.floor(max)}\"\n",
    "\n",
    "print(rango_edades(27))\n",
    "print(rango_edades(5))\n",
    "print(rango_edades(17))\n"
   ]
  },
  {
   "cell_type": "code",
   "execution_count": 9,
   "metadata": {},
   "outputs": [
    {
     "name": "stdout",
     "output_type": "stream",
     "text": [
      "Todo bien!\n"
     ]
    }
   ],
   "source": [
    "try:\n",
    "    assert(rango_edades(27) == \"20 - 40\")\n",
    "    assert(rango_edades(5) == \"4 - 5\")\n",
    "    assert(rango_edades(17) == \"15 - 20\")\n",
    "    assert(rango_edades(-5) == \"Edad fuera de rango\")\n",
    "    print(\"Todo bien!\")\n",
    "except AssertionError as error:\n",
    "    print(\"Error\", error)"
   ]
  }
 ],
 "metadata": {
  "kernelspec": {
   "display_name": ".venv",
   "language": "python",
   "name": "python3"
  },
  "language_info": {
   "codemirror_mode": {
    "name": "ipython",
    "version": 3
   },
   "file_extension": ".py",
   "mimetype": "text/x-python",
   "name": "python",
   "nbconvert_exporter": "python",
   "pygments_lexer": "ipython3",
   "version": "3.11.9"
  }
 },
 "nbformat": 4,
 "nbformat_minor": 2
}
