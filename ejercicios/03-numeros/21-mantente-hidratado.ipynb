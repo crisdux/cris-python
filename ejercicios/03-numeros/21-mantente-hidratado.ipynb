{
 "cells": [
  {
   "cell_type": "markdown",
   "metadata": {},
   "source": [
    "## Mantente hidratodo \n",
    "\n",
    "A Nathan le encanta andar en bicicleta. Como Nathan sabe que es importante mantenerse hidratado, bebe 0,5 litros de agua por hora de ciclismo. Te dan el tiempo en horas y debes devolver la cantidad de litros que beberá Nathan, redondeado al valor más pequeño. Por ejemplo:\n",
    "\n",
    "* `time = 3` ----> litres = `1`\n",
    "\n",
    "* `time = 6.7` ---> litres = `3`\n",
    "\n",
    "* `time = 11.8` --> litres = `5`"
   ]
  },
  {
   "cell_type": "code",
   "execution_count": 1,
   "metadata": {},
   "outputs": [
    {
     "name": "stdout",
     "output_type": "stream",
     "text": [
      "1\n",
      "3\n",
      "5\n"
     ]
    }
   ],
   "source": [
    "import math\n",
    "\n",
    "def hidratado(time:float):\n",
    "    return math.floor((time *.5))\n",
    "\n",
    "print(hidratado(3))\n",
    "print(hidratado(6.7))\n",
    "print(hidratado(11.8))"
   ]
  }
 ],
 "metadata": {
  "kernelspec": {
   "display_name": ".venv",
   "language": "python",
   "name": "python3"
  },
  "language_info": {
   "codemirror_mode": {
    "name": "ipython",
    "version": 3
   },
   "file_extension": ".py",
   "mimetype": "text/x-python",
   "name": "python",
   "nbconvert_exporter": "python",
   "pygments_lexer": "ipython3",
   "version": "3.11.9"
  }
 },
 "nbformat": 4,
 "nbformat_minor": 2
}
