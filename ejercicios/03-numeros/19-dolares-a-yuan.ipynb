{
 "cells": [
  {
   "cell_type": "markdown",
   "metadata": {},
   "source": [
    "## Convertir dolares a yuanes\n",
    "Cree una función que convierta dólares estadounidenses (USD) a yuanes chinos (CNY). La entrada es la cantidad de USD como un número entero y la salida debe ser una cadena que indique la cantidad de yuanes seguida de \"Yuan chino\".\n",
    "\n",
    "Ejemplo:\n",
    "* `15`  -> `'101.25 Chinese Yuan'`\n",
    "* `465` -> `'3138.75 Chinese Yuan'`\n",
    "\n",
    "La tasa de conversión que debes utilizar es 6,75 CNY por cada 1 USD. \n",
    "Todos los números deben representarse como una cadena con 2 decimales. (por ejemplo, \"21.00\" NO \"21.0\" o \"21\")"
   ]
  },
  {
   "cell_type": "code",
   "execution_count": 7,
   "metadata": {},
   "outputs": [
    {
     "name": "stdout",
     "output_type": "stream",
     "text": [
      "101.25 Chinese Yuan\n",
      "3138.75 Chinese Yuan\n"
     ]
    }
   ],
   "source": [
    "def dolares_a_yuanes(cantidad_dolares:int):\n",
    "    return f\"{(cantidad_dolares * 6.75):.2f} Chinese Yuan\"\n",
    "\n",
    "print(dolares_a_yuanes(15))\n",
    "print(dolares_a_yuanes(465))"
   ]
  }
 ],
 "metadata": {
  "kernelspec": {
   "display_name": ".venv",
   "language": "python",
   "name": "python3"
  },
  "language_info": {
   "codemirror_mode": {
    "name": "ipython",
    "version": 3
   },
   "file_extension": ".py",
   "mimetype": "text/x-python",
   "name": "python",
   "nbconvert_exporter": "python",
   "pygments_lexer": "ipython3",
   "version": "3.11.9"
  }
 },
 "nbformat": 4,
 "nbformat_minor": 2
}
