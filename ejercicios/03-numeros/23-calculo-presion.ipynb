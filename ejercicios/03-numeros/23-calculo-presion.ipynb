{
 "cells": [
  {
   "attachments": {
    "image.png": {
     "image/png": "[encoded data removed]"
    }
   },
   "cell_type": "markdown",
   "metadata": {},
   "source": [
    "## Calculo de la presión\n",
    "Dada la masa molecular de dos moléculas `M1` y `M2`, sus masas presentes `𝑚1` y `𝑚2` en un recipiente de volumen `𝑉` a una temperatura específica `𝑇`, encuentre la presión total `P total` ejercida por las moléculas. La fórmula para calcular la presión es:\n",
    "\n",
    "![image.png](attachment:image.png)\n"
   ]
  },
  {
   "cell_type": "code",
   "execution_count": 5,
   "metadata": {},
   "outputs": [
    {
     "name": "stdout",
     "output_type": "stream",
     "text": [
      "0.714651121212121\n"
     ]
    }
   ],
   "source": [
    "def solution(molar_mass1, molar_mass2, given_mass1, given_mass2, volume, temp) :\n",
    "    ## recordar que la temperatura en Sistema Internacional se mide en Kelvin\n",
    "    R = 0.082\n",
    "    denominador = ((given_mass1 / molar_mass1) + (given_mass2 / molar_mass2)) * R * (temp + 273.15)\n",
    "    return denominador / volume\n",
    "\n",
    "print(solution(44, 30, 3, 2, 5, 50))\n"
   ]
  },
  {
   "cell_type": "code",
   "execution_count": 8,
   "metadata": {},
   "outputs": [
    {
     "name": "stdout",
     "output_type": "stream",
     "text": [
      "Todo bien!\n"
     ]
    }
   ],
   "source": [
    "try:\n",
    "    assert(solution(44, 30, 3, 2, 5, 50) == 0.714651121212121)\n",
    "    print(\"Todo bien!\")\n",
    "except AssertionError as error:\n",
    "    print(\"Error\", error)"
   ]
  }
 ],
 "metadata": {
  "kernelspec": {
   "display_name": ".venv",
   "language": "python",
   "name": "python3"
  },
  "language_info": {
   "codemirror_mode": {
    "name": "ipython",
    "version": 3
   },
   "file_extension": ".py",
   "mimetype": "text/x-python",
   "name": "python",
   "nbconvert_exporter": "python",
   "pygments_lexer": "ipython3",
   "version": "3.11.9"
  }
 },
 "nbformat": 4,
 "nbformat_minor": 2
}
