{
 "cells": [
  {
   "cell_type": "markdown",
   "metadata": {},
   "source": [
    "## Formateo de decimales\n",
    "Cada número debe tener un formato que se redondee a dos decimales. No es necesario comprobar si la entrada es un número válido porque en las pruebas solo se utilizan números válidos.\n",
    "\n",
    "```py\n",
    "Example:    \n",
    "5.5589 is rounded 5.56   \n",
    "-3.3424 is rounded -3.34\n",
    "```"
   ]
  },
  {
   "cell_type": "code",
   "execution_count": 3,
   "metadata": {},
   "outputs": [
    {
     "name": "stdout",
     "output_type": "stream",
     "text": [
      "5.56\n",
      "-3.34\n"
     ]
    }
   ],
   "source": [
    "def redondeo_decimales(n):\n",
    "    return float(f\"{n:.2f}\")\n",
    "\n",
    "print(redondeo_decimales(5.5589))\n",
    "print(redondeo_decimales(-3.3424))"
   ]
  }
 ],
 "metadata": {
  "kernelspec": {
   "display_name": ".venv",
   "language": "python",
   "name": "python3"
  },
  "language_info": {
   "codemirror_mode": {
    "name": "ipython",
    "version": 3
   },
   "file_extension": ".py",
   "mimetype": "text/x-python",
   "name": "python",
   "nbconvert_exporter": "python",
   "pygments_lexer": "ipython3",
   "version": "3.11.9"
  }
 },
 "nbformat": 4,
 "nbformat_minor": 2
}
