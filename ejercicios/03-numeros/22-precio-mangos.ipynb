{
 "cells": [
  {
   "cell_type": "markdown",
   "metadata": {},
   "source": [
    "## Precio mangos\n",
    "Hay una oferta \"3 por 2\" (o \"2+1\" si lo desea) en mangos. Para una cantidad y precio determinados (por mango), calcule el costo total de los mangos.\n",
    "\n",
    "Ejemplos:\n",
    "* mango(2, 3) ==> 6    # 2 mangoes for $3 per unit = $6; no mango for free\n",
    "* mango(3, 3) ==> 6    # 2 mangoes for $3 per unit = $6; +1 mango for free\n",
    "* mango(5, 3) ==> 12   # 4 mangoes for $3 per unit = $12; +1 mango for free\n",
    "* mango(9, 5) ==> 30   # 6 mangoes for $5 per unit = $30; +3 mangoes for free\n",
    "\n",
    "\n"
   ]
  },
  {
   "cell_type": "code",
   "execution_count": 11,
   "metadata": {},
   "outputs": [
    {
     "name": "stdout",
     "output_type": "stream",
     "text": [
      "2 mangos a 3$us = 6; +0 mangos gratis\n",
      "3 mangos a 3$us = 6; +1 mangos gratis\n",
      "5 mangos a 3$us = 12; +1 mangos gratis\n",
      "9 mangos a 5$us = 30; +3 mangos gratis\n"
     ]
    }
   ],
   "source": [
    "def promo_mango(cantidad_mango:int, precio_por_unidad:int):\n",
    "    return f\"{cantidad_mango} mangos a {precio_por_unidad}$us = \\\n",
    "{(cantidad_mango * precio_por_unidad) - ((cantidad_mango//3)*precio_por_unidad) }; \\\n",
    "+{cantidad_mango//3} mangos gratis\"\n",
    "\n",
    "print(promo_mango(2,3))\n",
    "print(promo_mango(3,3))\n",
    "print(promo_mango(5,3))\n",
    "print(promo_mango(9,5))"
   ]
  }
 ],
 "metadata": {
  "kernelspec": {
   "display_name": ".venv",
   "language": "python",
   "name": "python3"
  },
  "language_info": {
   "codemirror_mode": {
    "name": "ipython",
    "version": 3
   },
   "file_extension": ".py",
   "mimetype": "text/x-python",
   "name": "python",
   "nbconvert_exporter": "python",
   "pygments_lexer": "ipython3",
   "version": "3.11.9"
  }
 },
 "nbformat": 4,
 "nbformat_minor": 2
}
