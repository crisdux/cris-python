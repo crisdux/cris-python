{
 "cells": [
  {
   "cell_type": "markdown",
   "metadata": {},
   "source": [
    "## Maximo\n",
    "Dada una lista de valores numéricos enteros, obtenga su máximo valor.\n",
    "\n",
    "Prohibido utilizar:\n",
    "* La función \"built-in\" min().\n",
    "* La función \"built-in\" max().\n",
    "* La función \"built-in\" sorted()."
   ]
  },
  {
   "cell_type": "code",
   "execution_count": 13,
   "metadata": {},
   "outputs": [
    {
     "name": "stdout",
     "output_type": "stream",
     "text": [
      "15\n",
      "9\n",
      "-3\n"
     ]
    }
   ],
   "source": [
    "def max_value(values):\n",
    "    res = values[0] ## -11\n",
    "    for num in values:\n",
    "        if res < num:\n",
    "            res = num\n",
    "    return res\n",
    "\n",
    "print(max_value([-11, 10, -6, 15, -1]))\n",
    "print(max_value([5, 9, -6, 9, -2, -9, -7, 2]))\n",
    "print(max_value([-7, -5, -5, -8, -3]))"
   ]
  }
 ],
 "metadata": {
  "kernelspec": {
   "display_name": ".venv",
   "language": "python",
   "name": "python3"
  },
  "language_info": {
   "codemirror_mode": {
    "name": "ipython",
    "version": 3
   },
   "file_extension": ".py",
   "mimetype": "text/x-python",
   "name": "python",
   "nbconvert_exporter": "python",
   "pygments_lexer": "ipython3",
   "version": "3.11.10"
  }
 },
 "nbformat": 4,
 "nbformat_minor": 2
}
