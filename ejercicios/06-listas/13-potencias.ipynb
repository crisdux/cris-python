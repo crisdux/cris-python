{
 "cells": [
  {
   "attachments": {
    "image.png": {
     "image/png": "[encoded data removed]"
    }
   },
   "cell_type": "markdown",
   "metadata": {},
   "source": [
    "## Potencias\n",
    "Dado un número entero no negativo obtenga una lista con todas las potencias de 2 con el exponente variando desde 0 hasta dicho valor (inclusive).\n",
    "\n",
    "\n",
    "![image.png](attachment:image.png)"
   ]
  },
  {
   "cell_type": "code",
   "execution_count": 15,
   "metadata": {},
   "outputs": [
    {
     "name": "stdout",
     "output_type": "stream",
     "text": [
      "[1]\n",
      "[1, 2]\n",
      "[1, 2, 4]\n",
      "\n",
      "[1]\n",
      "[1, 2]\n",
      "[1, 2, 4]\n"
     ]
    }
   ],
   "source": [
    "def potencias(num):\n",
    "    res = []\n",
    "    for i in range(num+1):\n",
    "        res.append(2**i)\n",
    "    return res\n",
    "\n",
    "print(potencias(0))\n",
    "print(potencias(1))\n",
    "print(potencias(2))\n",
    "\n",
    "print(\"\")\n",
    "\n",
    "def potencias_compresion(num):\n",
    "    return [2**i for i in range(num+1)]\n",
    "\n",
    "print(potencias_compresion(0))\n",
    "print(potencias_compresion(1))\n",
    "print(potencias_compresion(2))"
   ]
  }
 ],
 "metadata": {
  "kernelspec": {
   "display_name": ".venv",
   "language": "python",
   "name": "python3"
  },
  "language_info": {
   "codemirror_mode": {
    "name": "ipython",
    "version": 3
   },
   "file_extension": ".py",
   "mimetype": "text/x-python",
   "name": "python",
   "nbconvert_exporter": "python",
   "pygments_lexer": "ipython3",
   "version": "3.11.10"
  }
 },
 "nbformat": 4,
 "nbformat_minor": 2
}
