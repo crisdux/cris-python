{
 "cells": [
  {
   "attachments": {
    "image.png": {
     "image/png": "[encoded data removed]"
    }
   },
   "cell_type": "markdown",
   "metadata": {},
   "source": [
    "## Producto escalar\n",
    "Dados dos vectores (listas) de la misma dimensión, utilice la función zip() para calcular su producto escalar.\n",
    "\n",
    "![image.png](attachment:image.png)\n",
    "\n",
    "Si los vectores tienen distinta dimensión habrá que devolver None.\n"
   ]
  },
  {
   "cell_type": "code",
   "execution_count": 2,
   "metadata": {},
   "outputs": [
    {
     "name": "stdout",
     "output_type": "stream",
     "text": [
      "101\n",
      "89\n",
      "None\n",
      "146\n"
     ]
    }
   ],
   "source": [
    "def producto_escalar(vector_1:list, vector_2:list):\n",
    "    if len(vector_1) != len(vector_2):\n",
    "        return None\n",
    "    resultado = 0\n",
    "    for v_1, v_2 in zip(vector_1, vector_2):\n",
    "        resultado += v_1 * v_2\n",
    "    return resultado\n",
    "\n",
    "print(producto_escalar([4, 3, 8, 1], [9, 2, 7, 3]))\n",
    "print(producto_escalar([9, 1, 2], [8, 7, 5] ))\n",
    "print(producto_escalar([4, 2], [8, 7, 3]))\n",
    "print(producto_escalar([8, 3, 5, 6, 4], [3, 7, 7, 9, 3]))"
   ]
  }
 ],
 "metadata": {
  "kernelspec": {
   "display_name": ".venv",
   "language": "python",
   "name": "python3"
  },
  "language_info": {
   "codemirror_mode": {
    "name": "ipython",
    "version": 3
   },
   "file_extension": ".py",
   "mimetype": "text/x-python",
   "name": "python",
   "nbconvert_exporter": "python",
   "pygments_lexer": "ipython3",
   "version": "3.11.10"
  }
 },
 "nbformat": 4,
 "nbformat_minor": 2
}
