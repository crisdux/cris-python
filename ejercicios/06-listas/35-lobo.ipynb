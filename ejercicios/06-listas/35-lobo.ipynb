{
 "cells": [
  {
   "cell_type": "markdown",
   "metadata": {},
   "source": [
    "## Lobo \n",
    "Usted es granjera y debe cuidar sus ovejas, pero existe un lobo merodeando por la zona y hay peligro de que coma alguna oveja. \n",
    "\n",
    "La lista de entrada contiene ovejas y un lobo. Posibles casos:  \n",
    "\n",
    "a) Si el lobo está cerca de una oveja, habrá que responder con el mensaje: \"Cuidado oveja X, el lobo te va a comer\". \n",
    "\n",
    "b) Si el lobo está al final de la lista, habrá que responder con el mensaje: \"No te quiero ver más por aquí, lobo\" \n",
    "\n",
    "Las posiciones hay que calcularlas empezando por el final de la lista con índice 1. "
   ]
  },
  {
   "cell_type": "code",
   "execution_count": 8,
   "metadata": {},
   "outputs": [
    {
     "name": "stdout",
     "output_type": "stream",
     "text": [
      "Cuidado oveja 1, el lobo te va a comer\n",
      "Cuidado oveja 3, el lobo te va a comer\n",
      "Cuidado oveja 1, el lobo te va a comer\n",
      "No te quiero ver más por aquí, lobo\n"
     ]
    }
   ],
   "source": [
    "def lobo(ovejas):\n",
    "    lista_ovejas = list(reversed(ovejas))\n",
    "    if lista_ovejas[0] == \"lobo\":\n",
    "        return \"No te quiero ver más por aquí, lobo\" \n",
    "\n",
    "    index_lobo = lista_ovejas.index(\"lobo\") +1\n",
    "    return f\"Cuidado oveja {index_lobo-1}, el lobo te va a comer\"\n",
    "\n",
    "print(lobo(['oveja', 'oveja', 'lobo', 'oveja']))\n",
    "print(lobo(['lobo', 'oveja', 'oveja', 'oveja']))\n",
    "print(lobo(['lobo', 'oveja']))\n",
    "print(lobo(['oveja', 'oveja', 'oveja', 'lobo']))"
   ]
  }
 ],
 "metadata": {
  "kernelspec": {
   "display_name": ".venv",
   "language": "python",
   "name": "python3"
  },
  "language_info": {
   "codemirror_mode": {
    "name": "ipython",
    "version": 3
   },
   "file_extension": ".py",
   "mimetype": "text/x-python",
   "name": "python",
   "nbconvert_exporter": "python",
   "pygments_lexer": "ipython3",
   "version": "3.11.10"
  }
 },
 "nbformat": 4,
 "nbformat_minor": 2
}
