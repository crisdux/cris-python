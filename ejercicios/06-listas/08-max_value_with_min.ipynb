{
 "cells": [
  {
   "cell_type": "markdown",
   "metadata": {},
   "source": [
    "## Maximo con minimo\n",
    "Dada una lista de valores numéricos enteros, obtenga su máximo valor.\n",
    "\n",
    "Implementa la solución usando la función \"built-in\" min().\n",
    "\n",
    "Prohibido utilizar:\n",
    "* La función \"built-in\" max().\n",
    "* La función \"built-in\" sorted()."
   ]
  },
  {
   "cell_type": "code",
   "execution_count": 4,
   "metadata": {},
   "outputs": [
    {
     "name": "stdout",
     "output_type": "stream",
     "text": [
      "9\n",
      "15\n",
      "9\n",
      "-3\n"
     ]
    }
   ],
   "source": [
    "def max_min(values):\n",
    "    while len(values) != 1:\n",
    "        values.remove(min(values))\n",
    "    return values[0]\n",
    "\n",
    "print(max_min([5,8,4,9,7]))\n",
    "print(max_min([-11, 10, -6, 15, -1]))\n",
    "print(max_min([5, 9, -6, 9, -2, -9, -7, 2]))\n",
    "print(max_min([-7, -5, -5, -8, -3]))"
   ]
  }
 ],
 "metadata": {
  "kernelspec": {
   "display_name": ".venv",
   "language": "python",
   "name": "python3"
  },
  "language_info": {
   "codemirror_mode": {
    "name": "ipython",
    "version": 3
   },
   "file_extension": ".py",
   "mimetype": "text/x-python",
   "name": "python",
   "nbconvert_exporter": "python",
   "pygments_lexer": "ipython3",
   "version": "3.11.10"
  }
 },
 "nbformat": 4,
 "nbformat_minor": 2
}
