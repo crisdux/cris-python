{
 "cells": [
  {
   "cell_type": "markdown",
   "metadata": {},
   "source": [
    "## Cascada\n",
    "A partir de una lista de valores numéricos y un tamaño, obtenga otra lista con todos los subconjuntos en cascada que se puedan crear con dicho tamaño."
   ]
  },
  {
   "cell_type": "code",
   "execution_count": 1,
   "metadata": {},
   "outputs": [
    {
     "name": "stdout",
     "output_type": "stream",
     "text": [
      "[[1, 2, 3], [2, 3, 4]]\n",
      "[[1, 2], [2, 3], [3, 4]]\n",
      "[[1], [2], [3], [4]]\n",
      "[]\n"
     ]
    }
   ],
   "source": [
    "def cascada(lista, tamaño):\n",
    "    resultado = []\n",
    "    for i in range(len(lista) - tamaño + 1):\n",
    "        sub_lista = []\n",
    "        for j in range(tamaño):\n",
    "            sub_lista.append(lista[i + j])\n",
    "        resultado.append(sub_lista)\n",
    "    return resultado\n",
    "\n",
    "print(cascada([1, 2, 3, 4], 3))\n",
    "print(cascada([1, 2, 3, 4], 2))\n",
    "print(cascada([1, 2, 3, 4], 1))\n",
    "print(cascada([], 1))"
   ]
  }
 ],
 "metadata": {
  "kernelspec": {
   "display_name": ".venv",
   "language": "python",
   "name": "python3"
  },
  "language_info": {
   "codemirror_mode": {
    "name": "ipython",
    "version": 3
   },
   "file_extension": ".py",
   "mimetype": "text/x-python",
   "name": "python",
   "nbconvert_exporter": "python",
   "pygments_lexer": "ipython3",
   "version": "3.11.10"
  }
 },
 "nbformat": 4,
 "nbformat_minor": 2
}
