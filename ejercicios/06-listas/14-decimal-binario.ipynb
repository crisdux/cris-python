{
 "cells": [
  {
   "attachments": {
    "image.png": {
     "image/png": "[encoded data removed]"
    }
   },
   "cell_type": "markdown",
   "metadata": {},
   "source": [
    "## Decimal a binario\n",
    "Convierta un número decimal entero a su representación binaria (como string).\n",
    "No esta permitido:\n",
    "\n",
    "* Utilizar la función bin()\n",
    "* Utilizar f-strings con formato binario\n",
    "\n",
    "\n",
    "![image.png](attachment:image.png)"
   ]
  },
  {
   "cell_type": "code",
   "execution_count": 47,
   "metadata": {},
   "outputs": [
    {
     "name": "stdout",
     "output_type": "stream",
     "text": [
      "1\n",
      "1011\n",
      "101010\n"
     ]
    }
   ],
   "source": [
    "def decimal_binario(num):\n",
    "    res = \"\"\n",
    "    while num >0:\n",
    "        cociente = num // 2\n",
    "        resto = num % 2\n",
    "        num = cociente\n",
    "        res += str(resto)\n",
    "    return \"\".join(list(reversed(res)))\n",
    "    \n",
    "\n",
    "print(decimal_binario(1))\n",
    "print(decimal_binario(11))\n",
    "print(decimal_binario(42))\n"
   ]
  }
 ],
 "metadata": {
  "kernelspec": {
   "display_name": ".venv",
   "language": "python",
   "name": "python3"
  },
  "language_info": {
   "codemirror_mode": {
    "name": "ipython",
    "version": 3
   },
   "file_extension": ".py",
   "mimetype": "text/x-python",
   "name": "python",
   "nbconvert_exporter": "python",
   "pygments_lexer": "ipython3",
   "version": "3.11.10"
  }
 },
 "nbformat": 4,
 "nbformat_minor": 2
}
