{
 "cells": [
  {
   "attachments": {
    "image.png": {
     "image/png": "[encoded data removed]"
    }
   },
   "cell_type": "markdown",
   "metadata": {},
   "source": [
    "## Reloj \n",
    "Dada una hora en formato HH:MM y un número de minutos (en valor entero), calcule la hora resultante (en formato HH:MM) si sumamos los minutos a la hora de entrada.\n",
    "\n",
    "Trabaje con formato de 24 horas.\n",
    "\n",
    "![image.png](attachment:image.png)"
   ]
  },
  {
   "cell_type": "code",
   "execution_count": 36,
   "metadata": {},
   "outputs": [
    {
     "name": "stdout",
     "output_type": "stream",
     "text": [
      "21:15\n",
      "12:30\n",
      "4:10\n"
     ]
    }
   ],
   "source": [
    "def calculo_horas_minutos(offset:int):\n",
    "    list_multiplos_60 = []\n",
    "    horas_final = 0\n",
    "    minutos_final = 0\n",
    "    for h in range(1,offset+1):\n",
    "        if h % 60 == 0:\n",
    "            list_multiplos_60.append(h)\n",
    "    if offset % 60 == 0:\n",
    "        horas_final = len(list_multiplos_60)\n",
    "    else:\n",
    "        horas_final = len(list_multiplos_60)\n",
    "        minutos_final = offset - list_multiplos_60[-1] \n",
    "    return horas_final, minutos_final\n",
    "\n",
    "# print(calculo_horas_minutos(240))\n",
    "# print(calculo_horas_minutos(265))\n",
    "# print(calculo_horas_minutos(315))\n",
    "\n",
    "def reloj(time:str, offset:int):\n",
    "    horas_partitition = time.partition(\":\")\n",
    "    horas_oficial = int(horas_partitition[0])\n",
    "    minutos_oficial = int(horas_partitition[-1])\n",
    "    \n",
    "    horas_agregadas = calculo_horas_minutos(offset)[0]\n",
    "    minutos_agregados = calculo_horas_minutos(offset)[1]\n",
    "    \n",
    "    if horas_oficial + horas_agregadas >= 24:\n",
    "        horas_total_aux = horas_oficial + horas_agregadas\n",
    "        minutos_total_aux = minutos_oficial+ minutos_agregados\n",
    "        if minutos_total_aux >= 60:\n",
    "            minutos_total_aux = minutos_total_aux - 60\n",
    "            horas_total_aux = horas_total_aux + 1\n",
    "        return f\"{horas_total_aux-24}:{minutos_total_aux}\"\n",
    "    else:\n",
    "        return f\"{horas_oficial + horas_agregadas}:{minutos_oficial + minutos_agregados}\"\n",
    "    \n",
    "print(reloj(\"17:15\", 240))\n",
    "print(reloj(\"8:05\", 265))\n",
    "print(reloj(\"22:55\", 315)) ##5h 15min"
   ]
  }
 ],
 "metadata": {
  "kernelspec": {
   "display_name": ".venv",
   "language": "python",
   "name": "python3"
  },
  "language_info": {
   "codemirror_mode": {
    "name": "ipython",
    "version": 3
   },
   "file_extension": ".py",
   "mimetype": "text/x-python",
   "name": "python",
   "nbconvert_exporter": "python",
   "pygments_lexer": "ipython3",
   "version": "3.11.10"
  }
 },
 "nbformat": 4,
 "nbformat_minor": 2
}
