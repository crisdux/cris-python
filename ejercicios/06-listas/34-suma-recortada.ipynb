{
 "cells": [
  {
   "attachments": {
    "image.png": {
     "image/png": "[encoded data removed]"
    }
   },
   "cell_type": "markdown",
   "metadata": {},
   "source": [
    "## Suma recortada\n",
    "Dada una lista de valores numéricos, calcule la suma de todos sus elementos sin tener en cuenta el valor máximo y el valor minimo.\n",
    "\n",
    "* Puede haber varios valores máximos o varios valores mínimos (repeticiones).\n",
    "* Puede venir la lista vacía como entrada.\n",
    "\n",
    "![image.png](attachment:image.png)"
   ]
  },
  {
   "cell_type": "code",
   "execution_count": 7,
   "metadata": {},
   "outputs": [
    {
     "name": "stdout",
     "output_type": "stream",
     "text": [
      "16\n",
      "5\n",
      "0\n",
      "0\n",
      "0\n",
      "0\n"
     ]
    }
   ],
   "source": [
    "def eliminar_repetidos(values):\n",
    "    res = []\n",
    "    for value in values:\n",
    "        if value not in res:\n",
    "            res.append(value)\n",
    "    return res\n",
    "\n",
    "# print(eliminar_repetidos([6, 2, 1, 8, 10]))\n",
    "# print(eliminar_repetidos([1, 1, 11, 2, 3]))\n",
    "# print(eliminar_repetidos( [1]))\n",
    "# print(eliminar_repetidos( [1, 1]))\n",
    "# print(eliminar_repetidos( [1, 2]))\n",
    "# print(eliminar_repetidos( []))\n",
    "\n",
    "def suma_recortada(values):\n",
    "    lista_limpia = eliminar_repetidos(values)\n",
    "    if len(lista_limpia) <= 2:\n",
    "        return 0\n",
    "    lista_ordenada = sorted(lista_limpia)\n",
    "    return sum(lista_ordenada[1:-1])\n",
    "\n",
    "print(suma_recortada([6, 2, 1, 8, 10]))\n",
    "print(suma_recortada([1, 1, 11, 2, 3]))\n",
    "print(suma_recortada([1]))\n",
    "print(suma_recortada([1, 1]))\n",
    "print(suma_recortada([1, 2]))\n",
    "print(suma_recortada([]))"
   ]
  }
 ],
 "metadata": {
  "kernelspec": {
   "display_name": ".venv",
   "language": "python",
   "name": "python3"
  },
  "language_info": {
   "codemirror_mode": {
    "name": "ipython",
    "version": 3
   },
   "file_extension": ".py",
   "mimetype": "text/x-python",
   "name": "python",
   "nbconvert_exporter": "python",
   "pygments_lexer": "ipython3",
   "version": "3.11.10"
  }
 },
 "nbformat": 4,
 "nbformat_minor": 2
}
