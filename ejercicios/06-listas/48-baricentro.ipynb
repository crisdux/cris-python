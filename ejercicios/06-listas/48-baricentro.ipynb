{
 "cells": [
  {
   "attachments": {
    "image.png": {
     "image/png": "[encoded data removed]"
    }
   },
   "cell_type": "markdown",
   "metadata": {},
   "source": [
    "## baricentro\n",
    "Dado un triángulo definido por sus tres extremos A, B y C (x,y para cada punto), calcule su baricentro utilizando la siguiente formula:\n",
    "\n",
    "![image.png](attachment:image.png)\n",
    "\n",
    "Calcule el resultado redondeando a 4 decimales.\n",
    "\n",
    "![image-2.png](attachment:image-2.png)\n"
   ]
  },
  {
   "cell_type": "code",
   "execution_count": 8,
   "metadata": {},
   "outputs": [
    {
     "name": "stdout",
     "output_type": "stream",
     "text": [
      "(8.6667, 6.6667)\n",
      "(7.3333, 4.6667)\n"
     ]
    }
   ],
   "source": [
    "def baricentro(A, B, C):\n",
    "    zipped = list(zip(A, B, C))\n",
    "    res = []\n",
    "    for tupla in zipped:\n",
    "        res.append( round(sum(tupla) / 3, 4) )\n",
    "    return res[0], res[1]\n",
    "\n",
    "print(baricentro([4, 6], [12, 4], [10, 10]))\n",
    "print(baricentro([4, 2], [12, 2], [6, 10]))"
   ]
  }
 ],
 "metadata": {
  "kernelspec": {
   "display_name": ".venv",
   "language": "python",
   "name": "python3"
  },
  "language_info": {
   "codemirror_mode": {
    "name": "ipython",
    "version": 3
   },
   "file_extension": ".py",
   "mimetype": "text/x-python",
   "name": "python",
   "nbconvert_exporter": "python",
   "pygments_lexer": "ipython3",
   "version": "3.11.10"
  }
 },
 "nbformat": 4,
 "nbformat_minor": 2
}
