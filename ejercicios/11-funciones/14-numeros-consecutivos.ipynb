{
 "cells": [
  {
   "cell_type": "markdown",
   "metadata": {},
   "source": [
    "## Numeros consecutivos\n",
    "Cree una función que nos informe sobre cuál es el primer número que se repite en x ocasiones, o más, seguidas en una lista. Debe aceptar una lista de números enteros y el número objetivo de ocasiones a encontrar.\n",
    "\n",
    "*  En el caso de que exista un número que cumpla con el número de repeticiones en secuencia hay que devolver dicho número, en otro caso, hay que devolver False.\n",
    "*  Resuelva el problema utilizando recursión."
   ]
  },
  {
   "cell_type": "code",
   "execution_count": 49,
   "metadata": {},
   "outputs": [
    {
     "name": "stdout",
     "output_type": "stream",
     "text": [
      "56\n",
      "30\n",
      "4\n",
      "False\n",
      "7\n"
     ]
    }
   ],
   "source": [
    "def numeros_consecutivos(numeros:list, target_numero:int)->int:\n",
    "    contador = 1\n",
    "    res = False\n",
    "    if target_numero == 1:\n",
    "        return numeros[0]\n",
    "    for index in range(len(numeros)-1):\n",
    "        if numeros[index] == numeros[index+1]:\n",
    "            contador = contador + 1\n",
    "            if contador == target_numero:\n",
    "                res = numeros[index]\n",
    "                break\n",
    "    return res\n",
    "        \n",
    "\n",
    "print(numeros_consecutivos([1, 74, 56, 56, 56, 332, 8, 8, 8], 3)) ## 56\n",
    "print(numeros_consecutivos([1, 10, 20, 30, 30, 30, 30, 30, 40, 50], 5))\n",
    "print(numeros_consecutivos([4, 4, 4, 4],4))\n",
    "print(numeros_consecutivos([77, 16, 99, 21, 1], 2))\n",
    "print(numeros_consecutivos([7], 1))"
   ]
  }
 ],
 "metadata": {
  "kernelspec": {
   "display_name": ".venv",
   "language": "python",
   "name": "python3"
  },
  "language_info": {
   "codemirror_mode": {
    "name": "ipython",
    "version": 3
   },
   "file_extension": ".py",
   "mimetype": "text/x-python",
   "name": "python",
   "nbconvert_exporter": "python",
   "pygments_lexer": "ipython3",
   "version": "3.11.10"
  }
 },
 "nbformat": 4,
 "nbformat_minor": 2
}
