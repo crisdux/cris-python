{
 "cells": [
  {
   "cell_type": "markdown",
   "metadata": {},
   "source": [
    "## Contador\n",
    "Cree una función que cuente el número de veces que aparece un determinado valor en una tupla.\n",
    "\n",
    "* Se puede suponer que la tupla sólo contendrá valores numéricos enteros.\n",
    "* No se puede utilizar la función predefinida count()\n",
    "* Utilice anotación de tipos y valores por defecto (según corresponda)."
   ]
  },
  {
   "cell_type": "code",
   "execution_count": 2,
   "metadata": {},
   "outputs": [
    {
     "name": "stdout",
     "output_type": "stream",
     "text": [
      "4\n",
      "5\n",
      "0\n",
      "0\n"
     ]
    }
   ],
   "source": [
    "def contador(items:tuple, target:int)-> int:\n",
    "    contador:int = 0\n",
    "    for item in items:\n",
    "        if item == target:\n",
    "            contador += 1\n",
    "    return contador\n",
    "    \n",
    "print(contador((1, 2, 3, 1, 1, 5, 6, 1), 1)) ##4\n",
    "print(contador((2, 2, 2, 2, 2),2))\n",
    "print(contador((1, 2, 3, 4, 5),0))\n",
    "print(contador((),1))"
   ]
  }
 ],
 "metadata": {
  "kernelspec": {
   "display_name": ".venv",
   "language": "python",
   "name": "python3"
  },
  "language_info": {
   "codemirror_mode": {
    "name": "ipython",
    "version": 3
   },
   "file_extension": ".py",
   "mimetype": "text/x-python",
   "name": "python",
   "nbconvert_exporter": "python",
   "pygments_lexer": "ipython3",
   "version": "3.11.10"
  }
 },
 "nbformat": 4,
 "nbformat_minor": 2
}
