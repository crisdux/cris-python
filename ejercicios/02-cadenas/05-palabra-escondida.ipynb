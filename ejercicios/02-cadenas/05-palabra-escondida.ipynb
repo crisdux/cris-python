{
 "cells": [
  {
   "cell_type": "markdown",
   "metadata": {},
   "source": [
    "## La palabra perdida\n",
    " Dado un texto de entrada, una palabra presente en el texto y una palabra de reemplazo, obtenga el mismo texto sustituyendo la palabra presente por la palabra de reemplazo. \n",
    "\n",
    " * La palabra presente sólo aparecerá una única vez en el texto. \n",
    " * Utilice únicamente operaciones de búsqueda, concatenación y troceado de cadenas de texto.\n",
    " * No se puede utilizar la función `replace()`"
   ]
  },
  {
   "cell_type": "code",
   "execution_count": 39,
   "metadata": {},
   "outputs": [
    {
     "name": "stdout",
     "output_type": "stream",
     "text": [
      "This is a terrible night on the Atlantic\n",
      "Tomorrow will be a great day in the beach\n",
      "Keep calm and enjoy Python\n"
     ]
    }
   ],
   "source": [
    "def palabra_perdida(cadena, puntero, reemplazo):\n",
    "    primera_parte = cadena[:cadena.find(puntero)]\n",
    "    nueva_cadena = cadena[cadena.find(puntero):]\n",
    "    segunda_parte = nueva_cadena[len(nueva_cadena.split(\" \")[0]):]\n",
    "    return f\"{primera_parte}{reemplazo}{segunda_parte}\"\n",
    "\n",
    "\n",
    "print(palabra_perdida(\"This is a beautiful night on the Atlantic\", \"beautiful\", \"terrible\"))\n",
    "print(palabra_perdida(\"Tomorrow will be a wonderful day in the beach\", \"wonderful\", \"great\"))\n",
    "print(palabra_perdida(\"Keep calm and write Python\", \"write\", \"enjoy\"))"
   ]
  },
  {
   "cell_type": "code",
   "execution_count": 37,
   "metadata": {},
   "outputs": [
    {
     "name": "stdout",
     "output_type": "stream",
     "text": [
      "Todo bien!\n"
     ]
    }
   ],
   "source": [
    " \n",
    "\n",
    "try:\n",
    "    assert( palabra_perdida(\"This is a beautiful night on the Atlantic\", \"beautiful\", \"terrible\") == \"This is a terrible night on the Atlantic\")\n",
    "    print(\"Todo bien!\")\n",
    "except AssertionError as error:\n",
    "    print(\"Error\", error)"
   ]
  }
 ],
 "metadata": {
  "kernelspec": {
   "display_name": ".venv",
   "language": "python",
   "name": "python3"
  },
  "language_info": {
   "codemirror_mode": {
    "name": "ipython",
    "version": 3
   },
   "file_extension": ".py",
   "mimetype": "text/x-python",
   "name": "python",
   "nbconvert_exporter": "python",
   "pygments_lexer": "ipython3",
   "version": "3.11.9"
  }
 },
 "nbformat": 4,
 "nbformat_minor": 2
}
