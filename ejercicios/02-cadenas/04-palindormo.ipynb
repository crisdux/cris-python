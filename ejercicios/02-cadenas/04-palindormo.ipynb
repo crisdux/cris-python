{
 "cells": [
  {
   "cell_type": "markdown",
   "metadata": {},
   "source": [
    "## Palindrimo\n",
    "Escriba un programa que reciba una cadena por `input()` y regrese si esta es o no [palindromo](https://es.wikipedia.org/wiki/Pal%C3%ADndromo)\n",
    "Ej: bob -> True\n",
    "carlos -> False"
   ]
  },
  {
   "cell_type": "code",
   "execution_count": 18,
   "metadata": {},
   "outputs": [
    {
     "name": "stdout",
     "output_type": "stream",
     "text": [
      "True\n"
     ]
    }
   ],
   "source": [
    "cadena = input(\"Escriba una cadena\")\n",
    "cadena_tratada = \"\".join(cadena.lower().split(\" \"))\n",
    "cadena_invertida = \"\".join(cadena_tratada[::-1].lower().split(\" \"))\n",
    "print(cadena_tratada == cadena_invertida)"
   ]
  }
 ],
 "metadata": {
  "kernelspec": {
   "display_name": ".venv",
   "language": "python",
   "name": "python3"
  },
  "language_info": {
   "codemirror_mode": {
    "name": "ipython",
    "version": 3
   },
   "file_extension": ".py",
   "mimetype": "text/x-python",
   "name": "python",
   "nbconvert_exporter": "python",
   "pygments_lexer": "ipython3",
   "version": "3.11.9"
  }
 },
 "nbformat": 4,
 "nbformat_minor": 2
}
