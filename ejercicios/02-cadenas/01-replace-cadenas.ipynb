{
 "cells": [
  {
   "cell_type": "markdown",
   "metadata": {},
   "source": [
    "## Replace de cadenas\n",
    "Dada una cadena remplazar sus caracteres individuales por:\n",
    "\n",
    "* The letter a becomes 4\n",
    "* The letter b becomes 8\n",
    "* The letter e becomes 3\n",
    "* The letter l becomes 1\n",
    "* The letter o becomes 0\n",
    "* The letter s becomes 5\n",
    "* The letter t becomes 7\n",
    "\n",
    "Por ejemplo: \n",
    "I like to eat eggs and spam.\n",
    "I 1ik3 70 347 3gg5 4nd 5p4m.\n",
    "\n",
    "La cadena debe ser pedida por `input()`. \n"
   ]
  },
  {
   "cell_type": "code",
   "execution_count": 9,
   "metadata": {},
   "outputs": [
    {
     "name": "stdout",
     "output_type": "stream",
     "text": [
      "I 1ik3 70 347 3gg5 4nd 5p4m.\n"
     ]
    }
   ],
   "source": [
    "cadena = input(\"Escriba una cadena:\")\n",
    "cadena_final = cadena.replace(\"a\", \"4\").replace(\"b\", \"8\").replace(\"e\", \"3\").replace(\"l\",\"1\").replace(\"o\",\"0\").replace(\"s\",\"5\").replace(\"t\",\"7\")\n",
    "print(cadena_final)\n"
   ]
  }
 ],
 "metadata": {
  "kernelspec": {
   "display_name": ".venv",
   "language": "python",
   "name": "python3"
  },
  "language_info": {
   "codemirror_mode": {
    "name": "ipython",
    "version": 3
   },
   "file_extension": ".py",
   "mimetype": "text/x-python",
   "name": "python",
   "nbconvert_exporter": "python",
   "pygments_lexer": "ipython3",
   "version": "3.11.9"
  }
 },
 "nbformat": 4,
 "nbformat_minor": 2
}
