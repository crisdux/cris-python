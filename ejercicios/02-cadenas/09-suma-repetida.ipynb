{
 "cells": [
  {
   "cell_type": "markdown",
   "metadata": {},
   "source": [
    "## Suma repetida\n",
    "Dado un número entero n compute el valor de n + nn + nnn.\n",
    "\n",
    "*  Por ejemplo, si n=2 hay que calcular: 2 + 22 + 222 = 246\n",
    "*  Contemplar únicamente n en el intervalo [0,9]"
   ]
  },
  {
   "cell_type": "code",
   "execution_count": 25,
   "metadata": {},
   "outputs": [
    {
     "name": "stdout",
     "output_type": "stream",
     "text": [
      "246\n",
      "369\n",
      "492\n",
      "615\n"
     ]
    }
   ],
   "source": [
    "def suma_repetida(n):\n",
    "    if(n<0 or n>9):\n",
    "        return \"Número invalido\"\n",
    "    n = str(n)\n",
    "    nn = n*2\n",
    "    nnn = n*3\n",
    "    return f\"{int(n) + int(nn) + int(nnn)}\"\n",
    "\n",
    "print(suma_repetida(2))\n",
    "print(suma_repetida(3))\n",
    "print(suma_repetida(4))\n",
    "print(suma_repetida(5))"
   ]
  }
 ],
 "metadata": {
  "kernelspec": {
   "display_name": ".venv",
   "language": "python",
   "name": "python3"
  },
  "language_info": {
   "codemirror_mode": {
    "name": "ipython",
    "version": 3
   },
   "file_extension": ".py",
   "mimetype": "text/x-python",
   "name": "python",
   "nbconvert_exporter": "python",
   "pygments_lexer": "ipython3",
   "version": "3.11.9"
  }
 },
 "nbformat": 4,
 "nbformat_minor": 2
}
