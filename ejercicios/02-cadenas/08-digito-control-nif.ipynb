{
 "cells": [
  {
   "cell_type": "markdown",
   "metadata": {},
   "source": [
    "## Digito de control nif\n",
    "Se pide obtener el [dígito de control de un NIF](https://www.interior.gob.es/opencms/ca/servicios-al-ciudadano/tramites-y-gestiones/dni/calculo-del-digito-de-control-del-nif-nie/) de entrada."
   ]
  },
  {
   "cell_type": "code",
   "execution_count": 24,
   "metadata": {},
   "outputs": [
    {
     "name": "stdout",
     "output_type": "stream",
     "text": [
      "78654355J\n",
      "65895421F\n",
      "43298006T\n"
     ]
    }
   ],
   "source": [
    "def digito_nif(nif):\n",
    "    tabla = {\"0\":\"T\", \"1\":\"R\", \"2\":\"W\", \"3\":\"A\", \"4\":\"G\", \"5\":\"M\", \"6\":\"Y\", \"7\":\"F\", \"8\":\"P\", \"9\":\"D\", \"10\":\"X\",\n",
    "    \"11\":\"B\", \"12\":\"N\", \"13\":\"J\", \"14\":\"Z\", \"15\":\"S\", \"16\":\"Q\", \"17\":\"V\", \"18\":\"H\", \"19\":\"L\", \"20\":\"C\", \"21\":\"K\", \"22\":\"E\"}\n",
    "    op = (int(nif) % 23)\n",
    "    return f\"{nif}{tabla.get(str(op))}\"\n",
    "\n",
    "\n",
    "print(digito_nif(\"78654355\"))\n",
    "print(digito_nif(\"65895421\"))\n",
    "print(digito_nif(\"43298006\"))\n",
    "    \n"
   ]
  }
 ],
 "metadata": {
  "kernelspec": {
   "display_name": ".venv",
   "language": "python",
   "name": "python3"
  },
  "language_info": {
   "codemirror_mode": {
    "name": "ipython",
    "version": 3
   },
   "file_extension": ".py",
   "mimetype": "text/x-python",
   "name": "python",
   "nbconvert_exporter": "python",
   "pygments_lexer": "ipython3",
   "version": "3.11.9"
  }
 },
 "nbformat": 4,
 "nbformat_minor": 2
}
