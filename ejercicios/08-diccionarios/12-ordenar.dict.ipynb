{
 "cells": [
  {
   "cell_type": "markdown",
   "metadata": {},
   "source": [
    "## Ordenar\n",
    "Dado un diccionario de entrada, escriba un programa que lo ordene en base a sus valores de forma ascendente. \n",
    "\n",
    "Se puede asumir que:\n",
    "* Tanto las claves como los valores del diccionario de entrada van a ser cadenas de texto.\n",
    "* Tanto las claves como los valores del diccionario de entrada no van a contener dos puntos ':'\n",
    "\n",
    "La salida tendrá que ser una lista de tuplas (clave, valor) ya ordenadas."
   ]
  },
  {
   "cell_type": "code",
   "execution_count": 15,
   "metadata": {},
   "outputs": [
    {
     "name": "stdout",
     "output_type": "stream",
     "text": [
      "[('b', 'one'), ('c', 'three'), ('a', 'two')]\n"
     ]
    }
   ],
   "source": [
    "import operator\n",
    "def dict_ordenado(items):\n",
    "    ordenado = dict(sorted(items.items(), key=operator.itemgetter(1)))\n",
    "    res = []\n",
    "    for clave, valor in ordenado.items():\n",
    "        res.append((clave, valor))\n",
    "    return res\n",
    "print(dict_ordenado({'a': 'two', 'b': 'one', 'c': 'three'}))"
   ]
  }
 ],
 "metadata": {
  "kernelspec": {
   "display_name": ".venv",
   "language": "python",
   "name": "python3"
  },
  "language_info": {
   "codemirror_mode": {
    "name": "ipython",
    "version": 3
   },
   "file_extension": ".py",
   "mimetype": "text/x-python",
   "name": "python",
   "nbconvert_exporter": "python",
   "pygments_lexer": "ipython3",
   "version": "3.11.10"
  }
 },
 "nbformat": 4,
 "nbformat_minor": 2
}
