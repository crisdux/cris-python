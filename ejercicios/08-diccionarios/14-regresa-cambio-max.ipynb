{
 "cells": [
  {
   "cell_type": "markdown",
   "metadata": {},
   "source": [
    "## Regresa cambio max \n",
    "Un cliente compra un artículo en una tienda con dinero suficiente (mayor o igual) que el importe del artículo. Por lo tanto hay que devolver el cambio. La tienda dispone de una serie concreta de monedas/billetes con un máximo de unidades de cada moneda/billete. El objetivo del ejercicio es devolver el cambio al cliente empezando por la moneda/billete más grande y llegando hasta la más pequeña. \n",
    "\n",
    "* Si el dinero es justo hay que devolver un diccionario vacío.\n",
    "* Si el cambio no es posible hay que devolver None  "
   ]
  },
  {
   "cell_type": "code",
   "execution_count": 40,
   "metadata": {},
   "outputs": [
    {
     "name": "stdout",
     "output_type": "stream",
     "text": [
      "{5: 3, 2: 2, 1: 1}\n",
      "{2: 1, 1: 3, 0.5: 4.0}\n",
      "{5: 2.0, 2: 1, 0.5: 3.0}\n",
      "{2: 5, 0.5: 2.0}\n",
      "{}\n",
      "None\n",
      "None\n"
     ]
    }
   ],
   "source": [
    "def ordenar_dict(diccioanario:dict):\n",
    "    return dict(sorted(diccioanario.items(), reverse=True))\n",
    "\n",
    "def regresa_cambio_max(cambio:float, caja:dict):\n",
    "    caja_ordenada = ordenar_dict(caja)\n",
    "    cambio_sucio = {}\n",
    "    cambio_original = cambio\n",
    "    for clave, valor in caja_ordenada.items():\n",
    "        producto_clave_valor = clave * valor\n",
    "        if producto_clave_valor < cambio:\n",
    "            cambio_sucio[clave] = valor\n",
    "            cambio = cambio - (clave * valor)\n",
    "        else:\n",
    "            nuevo_valor = cambio // clave\n",
    "            cambio_sucio[clave] = nuevo_valor\n",
    "            cambio = cambio - (clave * nuevo_valor)\n",
    "\n",
    "    cambio_limpio = {}\n",
    "    for clave, valor in cambio_sucio.items(): \n",
    "        if valor == 0:\n",
    "            continue\n",
    "        cambio_limpio[clave] = valor\n",
    "\n",
    "    suma_valores = 0\n",
    "    for clave, valor in cambio_limpio.items():\n",
    "        suma_valores += clave * valor\n",
    "    if suma_valores == cambio_original:\n",
    "        return cambio_limpio\n",
    "    else:\n",
    "        return None\n",
    "\n",
    "print(regresa_cambio_max(20, {5: 3, 2: 7, 1: 3}))\n",
    "print(regresa_cambio_max(7, {2: 1, 1: 3, 0.5: 10}))\n",
    "print(regresa_cambio_max(13.5,  {5: 20, 2: 1, 0.5: 7}))\n",
    "print(regresa_cambio_max(11, {0.1: 2, 0.5: 10, 2: 7}))\n",
    "print(regresa_cambio_max(0, {0.5: 5, 0.2: 5, 0.1: 5}))\n",
    "print(regresa_cambio_max(4.75, {1: 5, 5: 5, 0.2: 5}))\n",
    "print(regresa_cambio_max(10, {5: 1, 2: 10}))\n"
   ]
  }
 ],
 "metadata": {
  "kernelspec": {
   "display_name": ".venv",
   "language": "python",
   "name": "python3"
  },
  "language_info": {
   "codemirror_mode": {
    "name": "ipython",
    "version": 3
   },
   "file_extension": ".py",
   "mimetype": "text/x-python",
   "name": "python",
   "nbconvert_exporter": "python",
   "pygments_lexer": "ipython3",
   "version": "3.11.10"
  }
 },
 "nbformat": 4,
 "nbformat_minor": 2
}
