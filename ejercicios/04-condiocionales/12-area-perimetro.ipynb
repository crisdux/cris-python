{
 "cells": [
  {
   "cell_type": "markdown",
   "metadata": {},
   "source": [
    "## Area o perimetro\n",
    "Te dan el largo y el ancho de un polígono de 4 lados. El polígono puede ser un rectángulo o un cuadrado. Si es un cuadrado, devuelve su área. Si es un rectángulo, devuelve su perímetro.\n",
    "\n",
    "```py\n",
    "6, 10 --> 32\n",
    "3, 3 --> 9\n",
    "```\n",
    "\n",
    "Nota: para los propósitos de este ejericicio asumirás que es un cuadrado si su largo y ancho son iguales, de lo contrario es un rectángulo."
   ]
  },
  {
   "cell_type": "code",
   "execution_count": 1,
   "metadata": {},
   "outputs": [
    {
     "name": "stdout",
     "output_type": "stream",
     "text": [
      "32\n",
      "9\n"
     ]
    }
   ],
   "source": [
    "def area_perimetro(lado_A, lado_B):\n",
    "    if lado_A == lado_B:\n",
    "        return lado_A * lado_B\n",
    "    return 2*(lado_A+lado_B)\n",
    "\n",
    "print(area_perimetro(6,10))\n",
    "print(area_perimetro(3,3))"
   ]
  }
 ],
 "metadata": {
  "kernelspec": {
   "display_name": ".venv",
   "language": "python",
   "name": "python3"
  },
  "language_info": {
   "codemirror_mode": {
    "name": "ipython",
    "version": 3
   },
   "file_extension": ".py",
   "mimetype": "text/x-python",
   "name": "python",
   "nbconvert_exporter": "python",
   "pygments_lexer": "ipython3",
   "version": "3.11.10"
  }
 },
 "nbformat": 4,
 "nbformat_minor": 2
}
