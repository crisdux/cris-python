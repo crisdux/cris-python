{
 "cells": [
  {
   "cell_type": "markdown",
   "metadata": {},
   "source": [
    "## Cuarto de año\n",
    "Dado un mes como un número entero del 1 al 12, regrese a qué trimestre del año pertenece como un número entero. Por ejemplo: el mes 2 (febrero), forma parte del primer trimestre; el mes 6 (junio), forma parte del segundo trimestre; y el mes 11 (noviembre), forma parte del cuarto trimestre.\n",
    "\n",
    "\n",
    "Restriccion: `1 <= month <= 12`"
   ]
  },
  {
   "cell_type": "code",
   "execution_count": 3,
   "metadata": {},
   "outputs": [
    {
     "name": "stdout",
     "output_type": "stream",
     "text": [
      "Error\n",
      "Primer Trimestre\n",
      "Segundo Trimestre\n",
      "Tercer Trimestre\n",
      "Cuarto Trimestre\n"
     ]
    }
   ],
   "source": [
    "def trimestres(year):\n",
    "    if(year <= 0 or year >12):\n",
    "        return \"Error\"\n",
    "    if( year >=1 and year <=3):\n",
    "        return \"Primer Trimestre\"\n",
    "    elif (year >= 4 and year <= 6):\n",
    "        return \"Segundo Trimestre\"\n",
    "    elif (year >=7 and year <= 9):\n",
    "        return \"Tercer Trimestre\"\n",
    "    else:\n",
    "        return \"Cuarto Trimestre\"\n",
    "\n",
    "print(trimestres(0))\n",
    "print(trimestres(2))\n",
    "print(trimestres(6))\n",
    "print(trimestres(9))\n",
    "print(trimestres(12))"
   ]
  }
 ],
 "metadata": {
  "kernelspec": {
   "display_name": ".venv",
   "language": "python",
   "name": "python3"
  },
  "language_info": {
   "codemirror_mode": {
    "name": "ipython",
    "version": 3
   },
   "file_extension": ".py",
   "mimetype": "text/x-python",
   "name": "python",
   "nbconvert_exporter": "python",
   "pygments_lexer": "ipython3",
   "version": "3.11.10"
  }
 },
 "nbformat": 4,
 "nbformat_minor": 2
}
