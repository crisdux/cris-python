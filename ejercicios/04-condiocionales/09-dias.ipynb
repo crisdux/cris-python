{
 "cells": [
  {
   "cell_type": "markdown",
   "metadata": {},
   "source": [
    "## Dias\n",
    "Complete la función que devuelve el día de la semana según el número ingresado:\n",
    "\n",
    "* 1 returns \"Sunday\"\n",
    "* 2 returns \"Monday\"\n",
    "* 3 returns \"Tuesday\"\n",
    "* 4 returns \"Wednesday\"\n",
    "* 5 returns \"Thursday\"\n",
    "* 6 returns \"Friday\"\n",
    "* 7 returns \"Saturday\"\n",
    "* Otherwise returns \"Wrong, please enter a number between 1 and 7\""
   ]
  },
  {
   "cell_type": "code",
   "execution_count": 2,
   "metadata": {},
   "outputs": [
    {
     "name": "stdout",
     "output_type": "stream",
     "text": [
      "Domingo\n",
      "Lunes\n",
      "Martes\n",
      "Miercoles\n",
      "Jueves\n",
      "Viernes\n",
      "Sabado\n",
      "Wrong, please enter a number between 1 and 7\n"
     ]
    }
   ],
   "source": [
    "def return_dias(dias):\n",
    "    match dias:\n",
    "        case 1:\n",
    "            return \"Domingo\"\n",
    "        case 2:\n",
    "            return \"Lunes\"\n",
    "        case 3: \n",
    "            return \"Martes\"\n",
    "        case 4: \n",
    "            return \"Miercoles\"\n",
    "        case 5:\n",
    "            return \"Jueves\"\n",
    "        case 6:\n",
    "            return \"Viernes\"\n",
    "        case 7:\n",
    "            return \"Sabado\"\n",
    "        case _:\n",
    "            return \"Wrong, please enter a number between 1 and 7\"\n",
    "\n",
    "print(return_dias(1))\n",
    "print(return_dias(2))\n",
    "print(return_dias(3))\n",
    "print(return_dias(4))\n",
    "print(return_dias(5))\n",
    "print(return_dias(6))\n",
    "print(return_dias(7))\n",
    "print(return_dias(8))"
   ]
  }
 ],
 "metadata": {
  "kernelspec": {
   "display_name": ".venv",
   "language": "python",
   "name": "python3"
  },
  "language_info": {
   "codemirror_mode": {
    "name": "ipython",
    "version": 3
   },
   "file_extension": ".py",
   "mimetype": "text/x-python",
   "name": "python",
   "nbconvert_exporter": "python",
   "pygments_lexer": "ipython3",
   "version": "3.11.10"
  }
 },
 "nbformat": 4,
 "nbformat_minor": 2
}
