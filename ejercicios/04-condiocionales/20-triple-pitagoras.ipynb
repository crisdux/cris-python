{
 "cells": [
  {
   "cell_type": "markdown",
   "metadata": {},
   "source": [
    "## Triple Pitagoras\n",
    "Dada una matriz sin clasificar de 3 números enteros positivos [n1, n2, n3], determina si es posible formar una terna pitagórica usando esos 3 números enteros.\n",
    "\n",
    "Una terna pitagórica consiste en ordenar 3 números enteros, de manera que: `a2 + b2 = c2`\n",
    "\n",
    "* `[5, 3, 4]` : es posible formar una terna pitagórica utilizando estos 3 números enteros: `3^2 + 4^2 = 5^2`\n",
    "* `[3, 4, 5]` : es posible formar una terna pitagórica utilizando estos 3 números enteros: `3^2 + 4^2 = 5^2`\n",
    "* `[13, 12, 5]` : es posible formar una terna pitagórica utilizando estos 3 números enteros: `5^2 + 12^2 = 13^2`\n",
    "* `[100, 3, 999]` : NO es posible formar una terna pitagórica usando estos 3 números enteros; no importa cómo los organices, nunca encontrarás una manera de satisfacer la ecuación `a2 + b2 = c2`\n",
    "\n",
    "Valores de retorno \n",
    "Para Python: devuelve `True` o `False`.\n"
   ]
  },
  {
   "cell_type": "code",
   "execution_count": 26,
   "metadata": {},
   "outputs": [
    {
     "name": "stdout",
     "output_type": "stream",
     "text": [
      "True\n",
      "True\n",
      "True\n",
      "False\n"
     ]
    }
   ],
   "source": [
    "def terna_pitagorica(terna:list):\n",
    "    terna_ordenada = sorted(terna)\n",
    "    c = terna_ordenada.pop()\n",
    "    a, b = terna_ordenada[0], terna_ordenada[1]\n",
    "    return (a**2) + (b**2) == c**2\n",
    "\n",
    "\n",
    "print(terna_pitagorica([5,3,4]))\n",
    "print(terna_pitagorica([3,4,5]))\n",
    "print(terna_pitagorica([13,12,5]))\n",
    "print(terna_pitagorica([100, 3, 99]))\n",
    "\n",
    "\n"
   ]
  }
 ],
 "metadata": {
  "kernelspec": {
   "display_name": ".venv",
   "language": "python",
   "name": "python3"
  },
  "language_info": {
   "codemirror_mode": {
    "name": "ipython",
    "version": 3
   },
   "file_extension": ".py",
   "mimetype": "text/x-python",
   "name": "python",
   "nbconvert_exporter": "python",
   "pygments_lexer": "ipython3",
   "version": "3.11.10"
  }
 },
 "nbformat": 4,
 "nbformat_minor": 2
}
