{
 "cells": [
  {
   "cell_type": "markdown",
   "metadata": {},
   "source": [
    "## Mismo caso\n",
    "Escribe una función que verifique si dos caracteres dados son el mismo caso. \n",
    "\n",
    "Si alguno de los caracteres no es una letra, devuelve -1. \n",
    "\n",
    "Si ambos caracteres son el mismo caso, devuelve 1. \n",
    "\n",
    "Si ambos caracteres son letras, pero no el mismo caso, devuelve 0.\n",
    "\n",
    "```py\n",
    "'a' and 'g' returns 1\n",
    "\n",
    "'A' and 'C' returns 1\n",
    "\n",
    "'b' and 'G' returns 0\n",
    "\n",
    "'B' and 'g' returns 0\n",
    "\n",
    "'0' and '?' returns -1\n",
    "```"
   ]
  },
  {
   "cell_type": "code",
   "execution_count": 2,
   "metadata": {},
   "outputs": [
    {
     "name": "stdout",
     "output_type": "stream",
     "text": [
      "1\n",
      "1\n",
      "0\n",
      "0\n",
      "-1\n"
     ]
    }
   ],
   "source": [
    "def mismo_caso(caracter_1, caracter_2):\n",
    "    if not caracter_1.isalpha() or not caracter_2.isalpha():\n",
    "        return -1\n",
    "    if((caracter_1.islower() and caracter_2.islower()) or (caracter_1.isupper() and caracter_2.isupper())):\n",
    "        return 1\n",
    "    return 0\n",
    "\n",
    "\n",
    "print(mismo_caso(\"a\", \"g\"))\n",
    "print(mismo_caso(\"A\", \"C\"))\n",
    "print(mismo_caso(\"b\", \"G\"))\n",
    "print(mismo_caso(\"B\", \"g\"))\n",
    "print(mismo_caso(\"0\", \"?\"))"
   ]
  }
 ],
 "metadata": {
  "kernelspec": {
   "display_name": ".venv",
   "language": "python",
   "name": "python3"
  },
  "language_info": {
   "codemirror_mode": {
    "name": "ipython",
    "version": 3
   },
   "file_extension": ".py",
   "mimetype": "text/x-python",
   "name": "python",
   "nbconvert_exporter": "python",
   "pygments_lexer": "ipython3",
   "version": "3.11.10"
  }
 },
 "nbformat": 4,
 "nbformat_minor": 2
}
