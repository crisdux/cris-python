{
 "cells": [
  {
   "cell_type": "markdown",
   "metadata": {},
   "source": [
    "## Simple Operación\n",
    " Dados dos valores numéricos de entrada así como un operador (como símbolo string) calcule el resultado de la operación.\n",
    " * Utilice la sentencia match-case.\n",
    " * En caso de que la operación no sea suma, resta, multiplicación o división, el resultado debe ser None.\n",
    "\n",
    " "
   ]
  },
  {
   "cell_type": "code",
   "execution_count": 3,
   "metadata": {},
   "outputs": [
    {
     "name": "stdout",
     "output_type": "stream",
     "text": [
      "7\n",
      "3\n",
      "10\n",
      "2.5\n",
      "None\n"
     ]
    }
   ],
   "source": [
    "def simple_op(num_1, num_2, op):\n",
    "    match op:\n",
    "        case \"+\":\n",
    "            return num_1 + num_2\n",
    "        case \"-\":\n",
    "            return num_1 - num_2\n",
    "        case \"*\":\n",
    "            return num_1 * num_2\n",
    "        case \"/\":\n",
    "            return num_1 / num_2\n",
    "        case _:\n",
    "            return None\n",
    "\n",
    "print(simple_op(5,2, \"+\"))\n",
    "print(simple_op(5,2, \"-\"))\n",
    "print(simple_op(5,2, \"*\"))\n",
    "print(simple_op(5,2, \"/\"))\n",
    "print(simple_op(5,2, \"&\"))\n",
    "\n",
    "        \n",
    "\n"
   ]
  }
 ],
 "metadata": {
  "kernelspec": {
   "display_name": ".venv",
   "language": "python",
   "name": "python3"
  },
  "language_info": {
   "codemirror_mode": {
    "name": "ipython",
    "version": 3
   },
   "file_extension": ".py",
   "mimetype": "text/x-python",
   "name": "python",
   "nbconvert_exporter": "python",
   "pygments_lexer": "ipython3",
   "version": "3.11.10"
  }
 },
 "nbformat": 4,
 "nbformat_minor": 2
}
