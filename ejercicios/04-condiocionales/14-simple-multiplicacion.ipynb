{
 "cells": [
  {
   "cell_type": "markdown",
   "metadata": {},
   "source": [
    "## Multiplicación \n",
    "Este ejercicio consiste en multiplicar un número determinado por ocho si es par y por nueve en caso contrario."
   ]
  },
  {
   "cell_type": "code",
   "execution_count": 1,
   "metadata": {},
   "outputs": [
    {
     "name": "stdout",
     "output_type": "stream",
     "text": [
      "80\n",
      "27\n"
     ]
    }
   ],
   "source": [
    "def simple_multiplicacion(numero):\n",
    "    if numero % 2 == 0:\n",
    "        return numero *8 \n",
    "    return numero * 9\n",
    "\n",
    "print(simple_multiplicacion(10))\n",
    "print(simple_multiplicacion(3))"
   ]
  }
 ],
 "metadata": {
  "kernelspec": {
   "display_name": ".venv",
   "language": "python",
   "name": "python3"
  },
  "language_info": {
   "codemirror_mode": {
    "name": "ipython",
    "version": 3
   },
   "file_extension": ".py",
   "mimetype": "text/x-python",
   "name": "python",
   "nbconvert_exporter": "python",
   "pygments_lexer": "ipython3",
   "version": "3.11.10"
  }
 },
 "nbformat": 4,
 "nbformat_minor": 2
}
