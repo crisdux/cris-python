{
 "cells": [
  {
   "cell_type": "markdown",
   "metadata": {},
   "source": [
    "## Exclamaciones\n",
    "Elimina un signo de exclamación del final de una cadena. Para un principiante, puedes asumir que los datos de entrada son siempre una cadena, no es necesario verificarlo.\n",
    "\n",
    "```py\n",
    "\"Hi!\"     ---> \"Hi\"\n",
    "\"Hi!!!\"   ---> \"Hi!!\"\n",
    "\"!Hi\"     ---> \"!Hi\"\n",
    "\"!Hi!\"    ---> \"!Hi\"\n",
    "\"Hi! Hi!\" ---> \"Hi! Hi\"\n",
    "\"Hi\"      ---> \"Hi\"\n",
    "```"
   ]
  },
  {
   "cell_type": "code",
   "execution_count": 1,
   "metadata": {},
   "outputs": [
    {
     "name": "stdout",
     "output_type": "stream",
     "text": [
      "Hi\n",
      "Hi!!\n",
      "!Hi\n",
      "!Hi\n",
      "Hi! Hi\n",
      "Hi\n"
     ]
    }
   ],
   "source": [
    "def verifica_exclamaciones(cadena):\n",
    "    if cadena[-1] == \"!\":\n",
    "        return cadena[:-1]\n",
    "    return cadena\n",
    "\n",
    "print(verifica_exclamaciones(\"Hi!\"))\n",
    "print(verifica_exclamaciones(\"Hi!!!\" ))\n",
    "print(verifica_exclamaciones(\"!Hi\"))\n",
    "print(verifica_exclamaciones(\"!Hi!\"))\n",
    "print(verifica_exclamaciones(\"Hi! Hi!\"))\n",
    "print(verifica_exclamaciones(\"Hi\"))"
   ]
  }
 ],
 "metadata": {
  "kernelspec": {
   "display_name": ".venv",
   "language": "python",
   "name": "python3"
  },
  "language_info": {
   "codemirror_mode": {
    "name": "ipython",
    "version": 3
   },
   "file_extension": ".py",
   "mimetype": "text/x-python",
   "name": "python",
   "nbconvert_exporter": "python",
   "pygments_lexer": "ipython3",
   "version": "3.11.10"
  }
 },
 "nbformat": 4,
 "nbformat_minor": 2
}
