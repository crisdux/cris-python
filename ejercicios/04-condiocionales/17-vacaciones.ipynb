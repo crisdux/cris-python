{
 "cells": [
  {
   "cell_type": "markdown",
   "metadata": {},
   "source": [
    "## Vacaciones\n",
    "Después de un duro trimestre en la oficina, decides descansar un poco y tomarte unas vacaciones. \n",
    "\n",
    "Así que reservarás un vuelo para ti y tu novia e intentarás dejar todo el desorden atrás.\n",
    "\n",
    "Necesitará un coche de alquiler para poder desplazarse durante sus vacaciones. El responsable del alquiler de coches te hace buenas ofertas. \n",
    " \n",
    "Cada día que alquilas el auto cuesta $40. Si alquilas el auto por 7 días o más, obtienes $50 de descuento en tu total. \n",
    "\n",
    "Alternativamente, si alquilas el auto por 3 días o más, obtienes $20 de descuento en tu total. \n",
    "\n",
    "Escriba un código que proporcione el monto total para diferentes días (d)"
   ]
  },
  {
   "cell_type": "code",
   "execution_count": 9,
   "metadata": {},
   "outputs": [
    {
     "name": "stdout",
     "output_type": "stream",
     "text": [
      "80\n",
      "128.0\n",
      "160.0\n"
     ]
    }
   ],
   "source": [
    "def vacaciones(dias_alquiler):\n",
    "    total_alquiler = dias_alquiler * 40\n",
    "    if dias_alquiler < 3:\n",
    "        return total_alquiler\n",
    "    elif ( (dias_alquiler >= 3) and (dias_alquiler <= 6)):\n",
    "        descuento = (total_alquiler * 20) / 100\n",
    "        return total_alquiler - descuento\n",
    "    else:\n",
    "        descuento = (total_alquiler / 2)\n",
    "        return total_alquiler - descuento\n",
    "\n",
    "print(vacaciones(2))\n",
    "print(vacaciones(4))\n",
    "print(vacaciones(8))\n"
   ]
  }
 ],
 "metadata": {
  "kernelspec": {
   "display_name": ".venv",
   "language": "python",
   "name": "python3"
  },
  "language_info": {
   "codemirror_mode": {
    "name": "ipython",
    "version": 3
   },
   "file_extension": ".py",
   "mimetype": "text/x-python",
   "name": "python",
   "nbconvert_exporter": "python",
   "pygments_lexer": "ipython3",
   "version": "3.11.10"
  }
 },
 "nbformat": 4,
 "nbformat_minor": 2
}
