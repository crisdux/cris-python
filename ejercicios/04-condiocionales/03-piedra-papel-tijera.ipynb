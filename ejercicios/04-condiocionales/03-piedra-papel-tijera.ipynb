{
 "cells": [
  {
   "cell_type": "markdown",
   "metadata": {},
   "source": [
    "## Piedra Papel Tijera\n",
    "Acepte la opción de dos jugadoras en Piedra-Papel-Tijera y decida el resultado final.\n",
    "\n",
    "* La entrada siempre vendrá en forma de string con valores 'piedra', 'papel' o 'tijera', pero puede estar en mayúsculas, minúsculas o mezcla de ellas.\n",
    "* La salida deberá de ser un valor numérico entero:\n",
    "    * 1 si gana la primera jugadora.\n",
    "    * 2 si gana la segunda jugadora.\n",
    "    * 0 si hay empate.\n",
    "    "
   ]
  },
  {
   "cell_type": "code",
   "execution_count": 4,
   "metadata": {},
   "outputs": [
    {
     "name": "stdout",
     "output_type": "stream",
     "text": [
      "2\n",
      "1\n",
      "2\n",
      "2\n",
      "2\n",
      "0\n",
      "0\n"
     ]
    }
   ],
   "source": [
    "def piedra_papel_tijera(choise_1:str, choise_2:str):\n",
    "    choise_1_clean = choise_1.lower()\n",
    "    choise_2_clean = choise_2.lower()\n",
    "\n",
    "    if(choise_1_clean == choise_2_clean):\n",
    "        return 0\n",
    "    if((choise_1_clean == \"piedra\" and choise_2_clean == \"tijera\") or (choise_1_clean == \"papel\" and choise_2_clean == \"piedra\") or (choise_1_clean == \"tijera\" and choise_2_clean == \"papel\")):\n",
    "        return 1\n",
    "    return 2\n",
    "\n",
    "print(piedra_papel_tijera(\"piedra\", \"PAPEL\"))\n",
    "print(piedra_papel_tijera(\"tijera\", \"papel\"))\n",
    "print(piedra_papel_tijera(\"piedra\", \"papel\"))\n",
    "print(piedra_papel_tijera(\"TIJERA\", \"Piedra\"))\n",
    "print(piedra_papel_tijera(\"papel\", \"tijera\"))\n",
    "print(piedra_papel_tijera(\"papel\", \"papel\"))\n",
    "print(piedra_papel_tijera(\"tijera\", \"TIJERA\"))\n",
    "    "
   ]
  }
 ],
 "metadata": {
  "kernelspec": {
   "display_name": ".venv",
   "language": "python",
   "name": "python3"
  },
  "language_info": {
   "codemirror_mode": {
    "name": "ipython",
    "version": 3
   },
   "file_extension": ".py",
   "mimetype": "text/x-python",
   "name": "python",
   "nbconvert_exporter": "python",
   "pygments_lexer": "ipython3",
   "version": "3.11.10"
  }
 },
 "nbformat": 4,
 "nbformat_minor": 2
}
