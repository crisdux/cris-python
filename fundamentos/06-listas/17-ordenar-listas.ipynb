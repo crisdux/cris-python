{
 "cells": [
  {
   "cell_type": "markdown",
   "metadata": {},
   "source": [
    "## Ordenar listas\n",
    "Para ordenar listas tenemos:\n",
    "* `sorted`: no muta la lista original (es una funcion como `len`)\n",
    "* `sort`: muta la lista original (es un metodo como `join`)"
   ]
  },
  {
   "cell_type": "code",
   "execution_count": 11,
   "metadata": {},
   "outputs": [
    {
     "name": "stdout",
     "output_type": "stream",
     "text": [
      "[1, 20, 58, 79, 98]\n",
      "[58, 98, 20, 1, 79]\n"
     ]
    }
   ],
   "source": [
    "numeros = [58,98,20,1,79]\n",
    "print(sorted(numeros))\n",
    "print(numeros) ## no cambio la lista original"
   ]
  },
  {
   "cell_type": "code",
   "execution_count": 12,
   "metadata": {},
   "outputs": [
    {
     "name": "stdout",
     "output_type": "stream",
     "text": [
      "[9, 12, 54, 63]\n"
     ]
    }
   ],
   "source": [
    "edades = [54,12,9,63]\n",
    "edades.sort()\n",
    "print(edades) ## cambiamos la lista original"
   ]
  },
  {
   "cell_type": "markdown",
   "metadata": {},
   "source": [
    "Ambas maneras de ordenar las listas reciven un segundo parametro `reverse` para ordenar la lista en orden descendente\n"
   ]
  },
  {
   "cell_type": "code",
   "execution_count": 13,
   "metadata": {},
   "outputs": [
    {
     "name": "stdout",
     "output_type": "stream",
     "text": [
      "[11, 7, 5, 3, 2]\n"
     ]
    }
   ],
   "source": [
    "primos = [2,3,5,7,11]\n",
    "print(sorted(primos, reverse=True)) ## ordenamos de mayor a menor"
   ]
  }
 ],
 "metadata": {
  "kernelspec": {
   "display_name": ".venv",
   "language": "python",
   "name": "python3"
  },
  "language_info": {
   "codemirror_mode": {
    "name": "ipython",
    "version": 3
   },
   "file_extension": ".py",
   "mimetype": "text/x-python",
   "name": "python",
   "nbconvert_exporter": "python",
   "pygments_lexer": "ipython3",
   "version": "3.11.10"
  }
 },
 "nbformat": 4,
 "nbformat_minor": 2
}
