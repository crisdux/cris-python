{
 "cells": [
  {
   "cell_type": "markdown",
   "metadata": {},
   "source": [
    "## Lista a cadena\n",
    "para convertir una lista a caena usamos el método `join()`"
   ]
  },
  {
   "cell_type": "code",
   "execution_count": 8,
   "metadata": {},
   "outputs": [
    {
     "name": "stdout",
     "output_type": "stream",
     "text": [
      "Hola,Hi,salut,\n"
     ]
    }
   ],
   "source": [
    "saludos = [\"Hola\", \"Hi\", \"salut\", \"\"]\n",
    "print(\",\".join(saludos)) ## usamos la , para unir todos los items en una cadena"
   ]
  },
  {
   "cell_type": "code",
   "execution_count": 9,
   "metadata": {},
   "outputs": [
    {
     "name": "stdout",
     "output_type": "stream",
     "text": [
      "['25', '69', '33']\n",
      "25-69-33\n"
     ]
    }
   ],
   "source": [
    "## este metodo solo sirve si todos los items son cadenas\n",
    "\n",
    "edades = [\"25\", \"69\", 33]\n",
    "# print(\"-\".join(edades)) ## 33 es numero y no cadena, entonces join no funciona\n",
    "\n",
    "res = []\n",
    "for edad in edades:\n",
    "    res.append(str(edad))\n",
    "print(res)\n",
    "\n",
    "print(\"-\".join(res)) ## convertimos todos los items en cadenas, ahora join si funciona\n"
   ]
  }
 ],
 "metadata": {
  "kernelspec": {
   "display_name": ".venv",
   "language": "python",
   "name": "python3"
  },
  "language_info": {
   "codemirror_mode": {
    "name": "ipython",
    "version": 3
   },
   "file_extension": ".py",
   "mimetype": "text/x-python",
   "name": "python",
   "nbconvert_exporter": "python",
   "pygments_lexer": "ipython3",
   "version": "3.11.10"
  }
 },
 "nbformat": 4,
 "nbformat_minor": 2
}
