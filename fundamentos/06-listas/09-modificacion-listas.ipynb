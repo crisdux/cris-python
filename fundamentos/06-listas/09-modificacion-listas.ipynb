{
 "cells": [
  {
   "cell_type": "markdown",
   "metadata": {},
   "source": [
    "## Modificación listas\n",
    "Para modificar una lista basta con acceder con el index el item deseado y actulizaro por otro\n"
   ]
  },
  {
   "cell_type": "code",
   "execution_count": 13,
   "metadata": {},
   "outputs": [
    {
     "name": "stdout",
     "output_type": "stream",
     "text": [
      "[1, 1000, 3, 4, 5]\n"
     ]
    }
   ],
   "source": [
    "numeros = [1,2,3,4,5]\n",
    "numeros[1] = 1000\n",
    "print(numeros)"
   ]
  },
  {
   "cell_type": "markdown",
   "metadata": {},
   "source": [
    "Tambien es posible modificar intervalos enteros de una lista usando scling"
   ]
  },
  {
   "cell_type": "code",
   "execution_count": 14,
   "metadata": {},
   "outputs": [
    {
     "name": "stdout",
     "output_type": "stream",
     "text": [
      "['Carlos', 'Juan']\n",
      "['Ana', 'Cris', 'Fernando', 'Pepe', 'Rodrigo', 'Susana', 'Alicia']\n"
     ]
    }
   ],
   "source": [
    "nombres = [\"Ana\", \"Carlos\", \"Juan\", \"Pepe\", \"Rodrigo\", \"Susana\", \"Alicia\"]\n",
    "print(nombres[1:3])\n",
    "nombres[1:3] = [\"Cris\", \"Fernando\"]\n",
    "print(nombres)"
   ]
  }
 ],
 "metadata": {
  "kernelspec": {
   "display_name": ".venv",
   "language": "python",
   "name": "python3"
  },
  "language_info": {
   "codemirror_mode": {
    "name": "ipython",
    "version": 3
   },
   "file_extension": ".py",
   "mimetype": "text/x-python",
   "name": "python",
   "nbconvert_exporter": "python",
   "pygments_lexer": "ipython3",
   "version": "3.11.10"
  }
 },
 "nbformat": 4,
 "nbformat_minor": 2
}
