{
 "cells": [
  {
   "cell_type": "markdown",
   "metadata": {},
   "source": [
    "## contar ocurrencias\n",
    "Para poder contar cuantas veces se repite un mismo item en una lista tenemos el método `count` similar al que tenemos para las cadenas."
   ]
  },
  {
   "cell_type": "code",
   "execution_count": 3,
   "metadata": {},
   "outputs": [
    {
     "name": "stdout",
     "output_type": "stream",
     "text": [
      "2\n"
     ]
    }
   ],
   "source": [
    "## recordemos las cadenas\n",
    "nombre = \"Cristian\"\n",
    "print(nombre.count(\"i\")) ## 2 veces aparece la i en nombre"
   ]
  },
  {
   "cell_type": "code",
   "execution_count": 4,
   "metadata": {},
   "outputs": [
    {
     "name": "stdout",
     "output_type": "stream",
     "text": [
      "2\n",
      "0\n",
      "0\n"
     ]
    }
   ],
   "source": [
    "## con listas:\n",
    "amigos = [\"Ana\", \"Pedro\", \"Ramiro\", \"Osvaldo\", \"Rosario\", \"Pedro\"]\n",
    "print(amigos.count(\"Pedro\")) ## 2 veces \n",
    "print(amigos.count(\"Pepe\")) ## 0 veces \n",
    "print(amigos.count(\"pedro\")) ## Pedro != pedro"
   ]
  }
 ],
 "metadata": {
  "kernelspec": {
   "display_name": ".venv",
   "language": "python",
   "name": "python3"
  },
  "language_info": {
   "codemirror_mode": {
    "name": "ipython",
    "version": 3
   },
   "file_extension": ".py",
   "mimetype": "text/x-python",
   "name": "python",
   "nbconvert_exporter": "python",
   "pygments_lexer": "ipython3",
   "version": "3.11.10"
  }
 },
 "nbformat": 4,
 "nbformat_minor": 2
}
