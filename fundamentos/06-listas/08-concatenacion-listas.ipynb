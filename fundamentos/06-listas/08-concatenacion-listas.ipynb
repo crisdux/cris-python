{
 "cells": [
  {
   "cell_type": "markdown",
   "metadata": {},
   "source": [
    "## Concatenacion de listas\n",
    "Hay dos maneras:\n",
    "* Sin mutar la lista: usamos `+` o `+=`\n",
    "* Mutando la lista: usamos el metodo `extend`"
   ]
  },
  {
   "cell_type": "code",
   "execution_count": 16,
   "metadata": {},
   "outputs": [
    {
     "name": "stdout",
     "output_type": "stream",
     "text": [
      "['español', 'frances', 'japones', 'chino mandarin']\n",
      "['español', 'frances']\n",
      "['japones', 'chino mandarin']\n"
     ]
    }
   ],
   "source": [
    "idiomas = [\"español\", \"frances\"]\n",
    "mas_idiomas = [\"japones\", \"chino mandarin\"]\n",
    "\n",
    "## sin mutar:\n",
    "print(idiomas + mas_idiomas)\n",
    "print(idiomas)\n",
    "print(mas_idiomas) ## no se modifican las listas originales "
   ]
  },
  {
   "cell_type": "code",
   "execution_count": 17,
   "metadata": {},
   "outputs": [
    {
     "name": "stdout",
     "output_type": "stream",
     "text": [
      "[2, 4, 6, 8, 1, 3, 5, 7]\n",
      "[1, 3, 5, 7]\n"
     ]
    }
   ],
   "source": [
    "numeros_pares = [2,4,6,8]\n",
    "numeros_impares = [1,3,5,7]\n",
    "\n",
    "## mutando las listas\n",
    "numeros_pares.extend(numeros_impares)\n",
    "print(numeros_pares) ## modificamos el arreglo numeros_pares\n",
    "print(numeros_impares) ## esta no se modifico, solo las lista objetivo\n"
   ]
  },
  {
   "cell_type": "code",
   "execution_count": 18,
   "metadata": {},
   "outputs": [
    {
     "name": "stdout",
     "output_type": "stream",
     "text": [
      "['canino', 'molar', 'muela', 'c', 'o', 'l', 'm', 'i', 'l', 'l', 'o']\n"
     ]
    }
   ],
   "source": [
    "## extend solo sirve para concatenar una lista con otra, entonces puede causar resultados inesperados sino hacemos esto\n",
    "\n",
    "dientes = [\"canino\", \"molar\", \"muela\"]\n",
    "dientes.extend(\"colmillo\")\n",
    "print(dientes)"
   ]
  },
  {
   "cell_type": "code",
   "execution_count": 20,
   "metadata": {},
   "outputs": [
    {
     "name": "stdout",
     "output_type": "stream",
     "text": [
      "['Coca Cola', 'Pepsi', 'Salvieti', ['Coca Quina', 'Tampico']]\n"
     ]
    }
   ],
   "source": [
    "## asi mismo append() tampoco nos sirve para concatenar items\n",
    "\n",
    "refrescos = [\"Coca Cola\", \"Pepsi\", \"Salvieti\"]\n",
    "refrescos.append([\"Coca Quina\", \"Tampico\"])\n",
    "print(refrescos) ## genera una lista anidada"
   ]
  },
  {
   "cell_type": "code",
   "execution_count": 21,
   "metadata": {},
   "outputs": [
    {
     "ename": "TypeError",
     "evalue": "can only concatenate list (not \"str\") to list",
     "output_type": "error",
     "traceback": [
      "\u001b[0;31m---------------------------------------------------------------------------\u001b[0m",
      "\u001b[0;31mTypeError\u001b[0m                                 Traceback (most recent call last)",
      "Cell \u001b[0;32mIn[21], line 2\u001b[0m\n\u001b[1;32m      1\u001b[0m colores \u001b[38;5;241m=\u001b[39m [\u001b[38;5;124m\"\u001b[39m\u001b[38;5;124mazul\u001b[39m\u001b[38;5;124m\"\u001b[39m, \u001b[38;5;124m\"\u001b[39m\u001b[38;5;124mnegro\u001b[39m\u001b[38;5;124m\"\u001b[39m, \u001b[38;5;124m\"\u001b[39m\u001b[38;5;124mrojo\u001b[39m\u001b[38;5;124m\"\u001b[39m]\n\u001b[0;32m----> 2\u001b[0m \u001b[38;5;28mprint\u001b[39m(\u001b[43mcolores\u001b[49m\u001b[43m \u001b[49m\u001b[38;5;241;43m+\u001b[39;49m\u001b[43m \u001b[49m\u001b[38;5;124;43m\"\u001b[39;49m\u001b[38;5;124;43mvioleta\u001b[39;49m\u001b[38;5;124;43m\"\u001b[39;49m)\n\u001b[1;32m      4\u001b[0m \u001b[38;5;28mprint\u001b[39m(colores)\n",
      "\u001b[0;31mTypeError\u001b[0m: can only concatenate list (not \"str\") to list"
     ]
    }
   ],
   "source": [
    "## tampoco nos sirve el operador + para concatenar listas con cadenas, tienen que ser si o si listas\n",
    "colores = [\"azul\", \"negro\", \"rojo\"]\n",
    "print(colores + \"violeta\")\n",
    "\n",
    "print(colores)"
   ]
  },
  {
   "cell_type": "code",
   "execution_count": 22,
   "metadata": {},
   "outputs": [
    {
     "name": "stdout",
     "output_type": "stream",
     "text": [
      "['azul', 'negro', 'rojo', 'violeta']\n"
     ]
    }
   ],
   "source": [
    "print(colores + [\"violeta\"])"
   ]
  }
 ],
 "metadata": {
  "kernelspec": {
   "display_name": ".venv",
   "language": "python",
   "name": "python3"
  },
  "language_info": {
   "codemirror_mode": {
    "name": "ipython",
    "version": 3
   },
   "file_extension": ".py",
   "mimetype": "text/x-python",
   "name": "python",
   "nbconvert_exporter": "python",
   "pygments_lexer": "ipython3",
   "version": "3.11.10"
  }
 },
 "nbformat": 4,
 "nbformat_minor": 2
}
