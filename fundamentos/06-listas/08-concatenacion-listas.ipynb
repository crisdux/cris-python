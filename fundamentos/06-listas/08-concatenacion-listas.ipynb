{
 "cells": [
  {
   "cell_type": "markdown",
   "metadata": {},
   "source": [
    "## Concatenacion de listas\n",
    "Hay dos maneras:\n",
    "* Sin mutar la lista: usamos `+` o `+=`\n",
    "* Mutando la lista: usamos el metodo `extend`"
   ]
  },
  {
   "cell_type": "code",
   "execution_count": 14,
   "metadata": {},
   "outputs": [
    {
     "name": "stdout",
     "output_type": "stream",
     "text": [
      "['español', 'frances', 'japones', 'chino mandarin']\n",
      "['español', 'frances']\n",
      "['japones', 'chino mandarin']\n"
     ]
    }
   ],
   "source": [
    "idiomas = [\"español\", \"frances\"]\n",
    "mas_idiomas = [\"japones\", \"chino mandarin\"]\n",
    "\n",
    "## sin mutar:\n",
    "print(idiomas + mas_idiomas)\n",
    "print(idiomas)\n",
    "print(mas_idiomas) ## no se modifican las listas originales "
   ]
  },
  {
   "cell_type": "code",
   "execution_count": 15,
   "metadata": {},
   "outputs": [
    {
     "name": "stdout",
     "output_type": "stream",
     "text": [
      "[2, 4, 6, 8, 1, 3, 5, 7]\n",
      "[1, 3, 5, 7]\n"
     ]
    }
   ],
   "source": [
    "numeros_pares = [2,4,6,8]\n",
    "numeros_impares = [1,3,5,7]\n",
    "\n",
    "## mutando las listas\n",
    "numeros_pares.extend(numeros_impares)\n",
    "print(numeros_pares) ## modificamos el arreglo numeros_pares\n",
    "print(numeros_impares) ## esta no se modifico, solo las lista objetivo\n"
   ]
  }
 ],
 "metadata": {
  "kernelspec": {
   "display_name": ".venv",
   "language": "python",
   "name": "python3"
  },
  "language_info": {
   "codemirror_mode": {
    "name": "ipython",
    "version": 3
   },
   "file_extension": ".py",
   "mimetype": "text/x-python",
   "name": "python",
   "nbconvert_exporter": "python",
   "pygments_lexer": "ipython3",
   "version": "3.11.10"
  }
 },
 "nbformat": 4,
 "nbformat_minor": 2
}
