{
 "cells": [
  {
   "cell_type": "markdown",
   "metadata": {},
   "source": [
    "## Convertir cadena a lista\n",
    "Podemos hacer esto de do maneras:\n",
    "* usando la función `list()`\n",
    "* usando el método `split()`\n",
    "\n"
   ]
  },
  {
   "cell_type": "code",
   "execution_count": 1,
   "metadata": {},
   "outputs": [
    {
     "name": "stdout",
     "output_type": "stream",
     "text": [
      "['r', 'o', 'j', 'o', '-', 'a', 'z', 'u', 'l', '-', 'a', 'm', 'a', 'r', 'i', 'l', 'l', 'o', '-', 'v', 'i', 'o', 'l', 'e', 't', 'a']\n"
     ]
    }
   ],
   "source": [
    "colores = \"rojo-azul-amarillo-violeta\"\n",
    "print(list(colores)) ## separa cada caracter en un item de la lista"
   ]
  },
  {
   "cell_type": "code",
   "execution_count": 2,
   "metadata": {},
   "outputs": [
    {
     "name": "stdout",
     "output_type": "stream",
     "text": [
      "['rojo', 'azul', 'amarillo', 'violeta']\n"
     ]
    }
   ],
   "source": [
    "## para tener mas control sobre esto podemos usar split\n",
    "print(colores.split(\"-\")) ## pasamos el caracter por el cual queremos que haga la separacion, en este caso \"-\"\n"
   ]
  }
 ],
 "metadata": {
  "kernelspec": {
   "display_name": ".venv",
   "language": "python",
   "name": "python3"
  },
  "language_info": {
   "codemirror_mode": {
    "name": "ipython",
    "version": 3
   },
   "file_extension": ".py",
   "mimetype": "text/x-python",
   "name": "python",
   "nbconvert_exporter": "python",
   "pygments_lexer": "ipython3",
   "version": "3.11.10"
  }
 },
 "nbformat": 4,
 "nbformat_minor": 2
}
