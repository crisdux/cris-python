{
 "cells": [
  {
   "cell_type": "markdown",
   "metadata": {},
   "source": [
    "## lista enumerada\n",
    "Para enumerar listas (obtener el index de cade item) usamos la función `enumerate`"
   ]
  },
  {
   "cell_type": "code",
   "execution_count": 4,
   "metadata": {},
   "outputs": [
    {
     "name": "stdout",
     "output_type": "stream",
     "text": [
      "0 Ana\n",
      "1 Carlos\n",
      "2 Juan\n",
      "3 Omar\n"
     ]
    }
   ],
   "source": [
    "nombres = [\"Ana\", \"Carlos\", \"Juan\", \"Omar\"]\n",
    "for index, nombre in enumerate(nombres):\n",
    "    print(index, nombre)"
   ]
  },
  {
   "cell_type": "markdown",
   "metadata": {},
   "source": [
    "Por defecto el indice comienza en 0, pero podemos modificar esto con el parametro `start`"
   ]
  },
  {
   "cell_type": "code",
   "execution_count": 5,
   "metadata": {},
   "outputs": [
    {
     "name": "stdout",
     "output_type": "stream",
     "text": [
      "100 Ana\n",
      "101 Carlos\n",
      "102 Juan\n",
      "103 Omar\n"
     ]
    }
   ],
   "source": [
    "for index, nombre in enumerate(nombres, start=100):\n",
    "    print(index, nombre)"
   ]
  }
 ],
 "metadata": {
  "kernelspec": {
   "display_name": ".venv",
   "language": "python",
   "name": "python3"
  },
  "language_info": {
   "codemirror_mode": {
    "name": "ipython",
    "version": 3
   },
   "file_extension": ".py",
   "mimetype": "text/x-python",
   "name": "python",
   "nbconvert_exporter": "python",
   "pygments_lexer": "ipython3",
   "version": "3.11.10"
  }
 },
 "nbformat": 4,
 "nbformat_minor": 2
}
