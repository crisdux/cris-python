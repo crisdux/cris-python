{
 "cells": [
  {
   "cell_type": "markdown",
   "metadata": {},
   "source": [
    "## Obtenter item\n",
    "Para obtener un item especifico de una lista usamos la sintaxis de corches y le pasamos el indice del tem que deseamos recuperar. \n",
    "\n",
    "Recuerda que las listas son estructuras iterablee tienen sus items indexados"
   ]
  },
  {
   "cell_type": "code",
   "execution_count": 2,
   "metadata": {},
   "outputs": [
    {
     "name": "stdout",
     "output_type": "stream",
     "text": [
      "Cris\n",
      "Carlos\n",
      "Allison\n"
     ]
    }
   ],
   "source": [
    "nombres = [\"Cris\", \"Ana\", \"Carlos\", \"Allison\"]\n",
    "print(nombres[0]) ## el primer item: \"Cris\"\n",
    "print(nombres[2]) ## el tercer item: \"Carlos\"\n",
    "print(nombres[-1]) ## siempre el ultimo item: \"Allison\""
   ]
  },
  {
   "cell_type": "code",
   "execution_count": 5,
   "metadata": {},
   "outputs": [
    {
     "ename": "IndexError",
     "evalue": "list index out of range",
     "output_type": "error",
     "traceback": [
      "\u001b[0;31m---------------------------------------------------------------------------\u001b[0m",
      "\u001b[0;31mIndexError\u001b[0m                                Traceback (most recent call last)",
      "Cell \u001b[0;32mIn[5], line 1\u001b[0m\n\u001b[0;32m----> 1\u001b[0m \u001b[38;5;28mprint\u001b[39m(\u001b[43mnombres\u001b[49m\u001b[43m[\u001b[49m\u001b[38;5;241;43m100\u001b[39;49m\u001b[43m]\u001b[49m)\n\u001b[1;32m      2\u001b[0m \u001b[38;5;28mprint\u001b[39m(nombres[\u001b[38;5;241m-\u001b[39m\u001b[38;5;241m100\u001b[39m])\n",
      "\u001b[0;31mIndexError\u001b[0m: list index out of range"
     ]
    }
   ],
   "source": [
    "print(nombres[100])\n",
    "print(nombres[-100])\n",
    "\n",
    "## si nos pasamos del intervalo de index del array nos dara error "
   ]
  }
 ],
 "metadata": {
  "kernelspec": {
   "display_name": ".venv",
   "language": "python",
   "name": "python3"
  },
  "language_info": {
   "codemirror_mode": {
    "name": "ipython",
    "version": 3
   },
   "file_extension": ".py",
   "mimetype": "text/x-python",
   "name": "python",
   "nbconvert_exporter": "python",
   "pygments_lexer": "ipython3",
   "version": "3.11.10"
  }
 },
 "nbformat": 4,
 "nbformat_minor": 2
}
