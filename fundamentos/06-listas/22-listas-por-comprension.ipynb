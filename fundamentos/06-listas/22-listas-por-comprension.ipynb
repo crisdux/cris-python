{
 "cells": [
  {
   "cell_type": "markdown",
   "metadata": {},
   "source": [
    "## Listas por comprension\n",
    "Es una manera de crear listas en una sola linea de codigo y con menos codigo.\n",
    "Tiene 3 partes:\n",
    "\n",
    "* value: representa al item individual que tendra la lista en cada iteracion\n",
    "* loop: representa ea iteracion que se hara en la lista\n",
    "* condition: la condicion para filtrar los items de la lista\n",
    "\n",
    "Se veria mas o menos asi: \n",
    "\n",
    "```py\n",
    "lista_compresion = [VALUE LOOP CONDITION] ## [V L C]\n",
    "```\n",
    "\n"
   ]
  },
  {
   "cell_type": "code",
   "execution_count": 5,
   "metadata": {},
   "outputs": [
    {
     "name": "stdout",
     "output_type": "stream",
     "text": [
      "[1, 2, 8, 44, 35, 9]\n",
      "[1, 2, 8, 44, 35, 9]\n",
      "[44, 35]\n"
     ]
    }
   ],
   "source": [
    "## convertir la siguiente cadena a una lista de numeros:\n",
    "cadena = \"1,2,8,44,35,9\"\n",
    "\n",
    "resultado = []\n",
    "for numero in cadena.split(\",\"):\n",
    "    resultado.append(int(numero))\n",
    "print(resultado) ## [1, 2, 8, 44, 35, 9]\n",
    "\n",
    "## ahora usamos listas por compresion\n",
    "\n",
    "lista_compresion = [ int(numero) for numero in cadena.split(\",\") ] ## con unsa sola linea logramos lo mismo\n",
    "print(lista_compresion)## [1, 2, 8, 44, 35, 9]\n",
    "\n",
    "## tambien podemos agregarle condiociones, \n",
    "## queremos que solo se muestren los numeros que tenga 2 digitos\n",
    "\n",
    "lista_compresion_2 = [ int(numero) for numero in cadena.split(\",\") if len(numero) == 2 ]\n",
    "print(lista_compresion_2)\n"
   ]
  }
 ],
 "metadata": {
  "kernelspec": {
   "display_name": ".venv",
   "language": "python",
   "name": "python3"
  },
  "language_info": {
   "codemirror_mode": {
    "name": "ipython",
    "version": 3
   },
   "file_extension": ".py",
   "mimetype": "text/x-python",
   "name": "python",
   "nbconvert_exporter": "python",
   "pygments_lexer": "ipython3",
   "version": "3.11.10"
  }
 },
 "nbformat": 4,
 "nbformat_minor": 2
}
