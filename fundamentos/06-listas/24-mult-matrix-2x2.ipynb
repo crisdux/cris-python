{
 "cells": [
  {
   "cell_type": "markdown",
   "metadata": {},
   "source": [
    "## Multiplicar matrices 2x2\n",
    "Escriba un programa que permita multiplicar matrices únicamente de 2 filas por 2 columnas."
   ]
  },
  {
   "cell_type": "code",
   "execution_count": 21,
   "metadata": {},
   "outputs": [
    {
     "name": "stdout",
     "output_type": "stream",
     "text": [
      "[[22, 40], [33, 79]]\n"
     ]
    }
   ],
   "source": [
    "def multiplicacion_matriz(A,B):\n",
    "    res = [[0,0],[0,0]]\n",
    "    for i in range(2):\n",
    "        for j in range(2):\n",
    "            for k in range(2):\n",
    "                res[i][j] += A[i][k] * B[k][j] \n",
    "    return res\n",
    "\n",
    "print(multiplicacion_matriz([[6, 4], [8, 9]],  [[3, 2], [1, 7]] ))\n"
   ]
  }
 ],
 "metadata": {
  "kernelspec": {
   "display_name": ".venv",
   "language": "python",
   "name": "python3"
  },
  "language_info": {
   "codemirror_mode": {
    "name": "ipython",
    "version": 3
   },
   "file_extension": ".py",
   "mimetype": "text/x-python",
   "name": "python",
   "nbconvert_exporter": "python",
   "pygments_lexer": "ipython3",
   "version": "3.11.10"
  }
 },
 "nbformat": 4,
 "nbformat_minor": 2
}
