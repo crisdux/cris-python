{
 "cells": [
  {
   "cell_type": "markdown",
   "metadata": {},
   "source": [
    "## Copia de listas\n",
    "Para copiar listas de manera efectiva usamos el metodo `copy()`"
   ]
  },
  {
   "cell_type": "code",
   "execution_count": 6,
   "metadata": {},
   "outputs": [
    {
     "name": "stdout",
     "output_type": "stream",
     "text": [
      "132366199621568\n",
      "132366199621568\n"
     ]
    }
   ],
   "source": [
    "jazzistas = [\"Dave Bubreck\", \"Chet Baker\", \"Miles Davis\", \"John Coltrane\"]\n",
    "copia_jazzistas = jazzistas\n",
    "print(id(jazzistas))\n",
    "print(id(copia_jazzistas)) \n",
    "## ambas variables apuntan a la misma direccion de memoria\n",
    "## entonces si modifico una tambien se modifica la otra\n"
   ]
  },
  {
   "cell_type": "code",
   "execution_count": 7,
   "metadata": {},
   "outputs": [
    {
     "name": "stdout",
     "output_type": "stream",
     "text": [
      "132366199588736\n",
      "132366199622144\n",
      "[1, 2, 3, 4, 5, '100']\n",
      "[1, 2, 3, 4, 5]\n"
     ]
    }
   ],
   "source": [
    "## la manera correcta de hacer esto es usando copy()\n",
    "\n",
    "numeros = [1,2,3,4,5]\n",
    "copia_numeros = numeros.copy()\n",
    "print(id(numeros))\n",
    "print(id(copia_numeros))\n",
    "\n",
    "## las posiciones en memoria de mabas variable son diferentes, por lo tanto\n",
    "## son variables independientes\n",
    "\n",
    "numeros.append(\"100\")\n",
    "print(numeros) ## mutamos numeros\n",
    "print(copia_numeros) ## pero la copia se mantiene sin cambios"
   ]
  }
 ],
 "metadata": {
  "kernelspec": {
   "display_name": ".venv",
   "language": "python",
   "name": "python3"
  },
  "language_info": {
   "codemirror_mode": {
    "name": "ipython",
    "version": 3
   },
   "file_extension": ".py",
   "mimetype": "text/x-python",
   "name": "python",
   "nbconvert_exporter": "python",
   "pygments_lexer": "ipython3",
   "version": "3.11.10"
  }
 },
 "nbformat": 4,
 "nbformat_minor": 2
}
