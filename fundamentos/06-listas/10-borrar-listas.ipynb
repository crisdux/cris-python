{
 "cells": [
  {
   "cell_type": "markdown",
   "metadata": {},
   "source": [
    "## Borrar listas\n",
    "En Python tenemos 4 maneras de borrar items de listas:\n",
    "* Por su indice: usando `del` la lista y su indice a borrar.\n",
    "* Por su valor: usando el método `remove`\n",
    "* Borrando y obteniendo el valor eliminado: usando `pop`\n",
    "* Borrando intervalos enteros: usando slicing\n",
    "\n",
    "Veamos cada una de ellas:"
   ]
  },
  {
   "cell_type": "code",
   "execution_count": 94,
   "metadata": {},
   "outputs": [
    {
     "name": "stdout",
     "output_type": "stream",
     "text": [
      "['periodico', 'radio', 'redes sociales']\n"
     ]
    }
   ],
   "source": [
    "## usando del\n",
    "medios = [\"periodico\", \"radio\", \"tv\", \"redes sociales\"]\n",
    "del medios[2] ## borra el item con index 2: osea \"tv\"\n",
    "print(medios)\n",
    "\n",
    "# del medios[100] ## si salimos del rango de indices, entonces tenemos un error\n",
    "# print(medios)"
   ]
  },
  {
   "cell_type": "code",
   "execution_count": 95,
   "metadata": {},
   "outputs": [
    {
     "name": "stdout",
     "output_type": "stream",
     "text": [
      "[1, 2, 3, 4, 6]\n"
     ]
    }
   ],
   "source": [
    "## usando remove()\n",
    "numeros = [1,2,3,4,5,6]\n",
    "numeros.remove(5) ## eliminamos por valor, osea el item 5, no el item con index 5\n",
    "\n",
    "print(numeros)"
   ]
  },
  {
   "cell_type": "code",
   "execution_count": 96,
   "metadata": {},
   "outputs": [],
   "source": [
    "# numeros.remove(100)\n",
    "# print(numeros) ## error si intenamos borrar un items que no existe."
   ]
  },
  {
   "cell_type": "code",
   "execution_count": 97,
   "metadata": {},
   "outputs": [
    {
     "name": "stdout",
     "output_type": "stream",
     "text": [
      "['pop', 'rock', 'jazz', 'blues', 'cumbia', 'regaee']\n",
      "clasica\n",
      "['pop', 'rock', 'jazz', 'blues', 'cumbia']\n"
     ]
    }
   ],
   "source": [
    "## borrar por pop()\n",
    "generos = [\"pop\", \"rock\", \"jazz\", \"clasica\", \"blues\", \"cumbia\", \"regaee\"]\n",
    "item = generos.pop(3) ## borrar el item con index 3 y lo regresa\n",
    "print(generos)\n",
    "print(item)\n",
    "\n",
    "## sino pasamos argumento entonces elimina el ultimo item\n",
    "generos.pop()\n",
    "print(generos)\n",
    "\n",
    "# generos.pop(-100) ## error si nos pasamos del index\n",
    "# print(generos)"
   ]
  },
  {
   "cell_type": "code",
   "execution_count": 98,
   "metadata": {},
   "outputs": [
    {
     "name": "stdout",
     "output_type": "stream",
     "text": [
      "['zampoña', 'quena', 'bajo']\n",
      "['bateria', 'guitarra']\n"
     ]
    }
   ],
   "source": [
    "## borrar intervalos completos con slicing\n",
    "instrumentos = [\"bateria\", \"zampoña\", \"quena\", \"bajo\", \"guitarra\"]\n",
    "intervalo = instrumentos[1:4]\n",
    "print(intervalo)\n",
    "instrumentos[1:4] = []\n",
    "print(instrumentos)"
   ]
  },
  {
   "cell_type": "markdown",
   "metadata": {},
   "source": [
    "## Borrado completo de listas\n",
    "Para borrar toda una lista entonces tenemos 2 opciones:\n",
    "* metodo `clear`\n",
    "* igualar a lista vacia"
   ]
  },
  {
   "cell_type": "code",
   "execution_count": 99,
   "metadata": {},
   "outputs": [
    {
     "name": "stdout",
     "output_type": "stream",
     "text": [
      "[]\n",
      "['Scorpions', 'AC/DC']\n",
      "[]\n"
     ]
    }
   ],
   "source": [
    "bandas = [\"Coldplay\", \"Muse\", \"Keane\"]\n",
    "bandas.clear()\n",
    "print(bandas)\n",
    "\n",
    "bandas = [\"Scorpions\", \"AC/DC\"]\n",
    "print(bandas)\n",
    "bandas = []\n",
    "print(bandas)"
   ]
  }
 ],
 "metadata": {
  "kernelspec": {
   "display_name": ".venv",
   "language": "python",
   "name": "python3"
  },
  "language_info": {
   "codemirror_mode": {
    "name": "ipython",
    "version": 3
   },
   "file_extension": ".py",
   "mimetype": "text/x-python",
   "name": "python",
   "nbconvert_exporter": "python",
   "pygments_lexer": "ipython3",
   "version": "3.11.10"
  }
 },
 "nbformat": 4,
 "nbformat_minor": 2
}
