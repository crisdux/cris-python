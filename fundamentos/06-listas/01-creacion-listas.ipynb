{
 "cells": [
  {
   "cell_type": "markdown",
   "metadata": {},
   "source": [
    "## Creación Listas\n",
    "Las listas son estructuras de datos que permiten almacenar varios valores en una sola variable. En Python las listas pueden contener elementos de varios tipos de datos al mismo tiempo y se crean con `[]`. \n",
    "\n",
    "Las listas son estructuras de datos mutables, lo que significa que podemos agregar, editar, y eliminar items de una lista sin ningun tipo de problema."
   ]
  },
  {
   "cell_type": "code",
   "execution_count": 10,
   "metadata": {},
   "outputs": [
    {
     "name": "stdout",
     "output_type": "stream",
     "text": [
      "[1, 2, 3]\n",
      "['Rosa', 'margarita', 'petunia']\n",
      "[True, False]\n",
      "[1, 5, 'Hola mundo', True, None, [1, 2, '3', 4], {'a': 1, 'b': 2}, []]\n"
     ]
    }
   ],
   "source": [
    "numeros = [1,2,3]\n",
    "print(numeros)\n",
    "flores = [\"Rosa\", \"margarita\", \"petunia\"]\n",
    "print(flores)\n",
    "mi_switch = [True, False]\n",
    "print(mi_switch)\n",
    "lista_random = [1,5, \"Hola mundo\", True, None, [1,2,\"3\",4], {\"a\": 1, \"b\":2}, []]\n",
    "print(lista_random)"
   ]
  },
  {
   "cell_type": "markdown",
   "metadata": {},
   "source": [
    "Tambien tenemos disponible las función `list()` que converite cualquier iterable a una lista:"
   ]
  },
  {
   "cell_type": "code",
   "execution_count": 11,
   "metadata": {},
   "outputs": [
    {
     "name": "stdout",
     "output_type": "stream",
     "text": [
      "['c', 'r', 'i', 's']\n",
      "[5, 6, 7, 8, 9, 10]\n",
      "['a', 'b']\n",
      "[1, 2, 3]\n"
     ]
    },
    {
     "ename": "TypeError",
     "evalue": "'int' object is not iterable",
     "output_type": "error",
     "traceback": [
      "\u001b[0;31m---------------------------------------------------------------------------\u001b[0m",
      "\u001b[0;31mTypeError\u001b[0m                                 Traceback (most recent call last)",
      "Cell \u001b[0;32mIn[11], line 5\u001b[0m\n\u001b[1;32m      3\u001b[0m \u001b[38;5;28mprint\u001b[39m(\u001b[38;5;28mlist\u001b[39m({\u001b[38;5;124m\"\u001b[39m\u001b[38;5;124ma\u001b[39m\u001b[38;5;124m\"\u001b[39m:\u001b[38;5;241m1\u001b[39m, \u001b[38;5;124m\"\u001b[39m\u001b[38;5;124mb\u001b[39m\u001b[38;5;124m\"\u001b[39m: \u001b[38;5;241m2\u001b[39m}))\n\u001b[1;32m      4\u001b[0m \u001b[38;5;28mprint\u001b[39m(\u001b[38;5;28mlist\u001b[39m((\u001b[38;5;241m1\u001b[39m,\u001b[38;5;241m2\u001b[39m,\u001b[38;5;241m3\u001b[39m,)))\n\u001b[0;32m----> 5\u001b[0m \u001b[38;5;28mprint\u001b[39m(\u001b[38;5;28;43mlist\u001b[39;49m\u001b[43m(\u001b[49m\u001b[38;5;241;43m1\u001b[39;49m\u001b[43m)\u001b[49m) \u001b[38;5;66;03m## un numero no es un iterable\u001b[39;00m\n",
      "\u001b[0;31mTypeError\u001b[0m: 'int' object is not iterable"
     ]
    }
   ],
   "source": [
    "print(list(\"cris\"))\n",
    "print(list(range(5,11)))\n",
    "print(list({\"a\":1, \"b\": 2}))\n",
    "print(list((1,2,3,)))\n",
    "print(list(1)) ## un numero no es un iterable"
   ]
  },
  {
   "cell_type": "markdown",
   "metadata": {},
   "source": [
    "Finalmente podemos crear listas vacias de dos maneras: usando corchetes vacios o llamando a la función `list()` sin parametros:"
   ]
  },
  {
   "cell_type": "code",
   "execution_count": 12,
   "metadata": {},
   "outputs": [
    {
     "name": "stdout",
     "output_type": "stream",
     "text": [
      "[]\n",
      "[]\n"
     ]
    }
   ],
   "source": [
    "print(list())\n",
    "print([])"
   ]
  }
 ],
 "metadata": {
  "kernelspec": {
   "display_name": ".venv",
   "language": "python",
   "name": "python3"
  },
  "language_info": {
   "codemirror_mode": {
    "name": "ipython",
    "version": 3
   },
   "file_extension": ".py",
   "mimetype": "text/x-python",
   "name": "python",
   "nbconvert_exporter": "python",
   "pygments_lexer": "ipython3",
   "version": "3.11.10"
  }
 },
 "nbformat": 4,
 "nbformat_minor": 2
}
