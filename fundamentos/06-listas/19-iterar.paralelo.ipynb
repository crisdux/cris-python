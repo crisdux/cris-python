{
 "cells": [
  {
   "cell_type": "markdown",
   "metadata": {},
   "source": [
    "## Iterar en paralelo\n",
    "Para iterar en paralelo podemos usar la función `zip` que iterara item por item de 2 listas o mas"
   ]
  },
  {
   "cell_type": "code",
   "execution_count": 4,
   "metadata": {},
   "outputs": [
    {
     "name": "stdout",
     "output_type": "stream",
     "text": [
      "ana 20\n",
      "pepe 25\n",
      "juan 32\n"
     ]
    }
   ],
   "source": [
    "nombres = [\"ana\", \"pepe\", \"juan\"]\n",
    "edades = [20,25,32]\n",
    "\n",
    "for nombre, edad in zip(nombres, edades):\n",
    "    print(nombre, edad)"
   ]
  },
  {
   "cell_type": "markdown",
   "metadata": {},
   "source": [
    "Si las listas no son de la misma longitud entonces `zip` iterara hasta terminar con las lista mas pequeña"
   ]
  },
  {
   "cell_type": "code",
   "execution_count": 5,
   "metadata": {},
   "outputs": [
    {
     "name": "stdout",
     "output_type": "stream",
     "text": [
      "celular 1500 1450\n",
      "tv 3000 2800\n",
      "micro ondas 1200 1100\n"
     ]
    }
   ],
   "source": [
    "productos = [\"celular\", \"tv\", \"micro ondas\", \"radio\", \"pc\"]\n",
    "precios = [1500, 3000, 1200]\n",
    "precios_ofertas = [1450, 2800, 1100]\n",
    "\n",
    "## la lista mas pequeña es precio o precios_ofertas con 3 de lengitud, entonces solo iteramos en paralelo las primeras 3 posiciones\n",
    "\n",
    "for producto, precio, precio_oferta in zip(productos, precios, precios_ofertas):\n",
    "    print(producto, precio, precio_oferta)\n",
    "\n"
   ]
  }
 ],
 "metadata": {
  "kernelspec": {
   "display_name": ".venv",
   "language": "python",
   "name": "python3"
  },
  "language_info": {
   "codemirror_mode": {
    "name": "ipython",
    "version": 3
   },
   "file_extension": ".py",
   "mimetype": "text/x-python",
   "name": "python",
   "nbconvert_exporter": "python",
   "pygments_lexer": "ipython3",
   "version": "3.11.10"
  }
 },
 "nbformat": 4,
 "nbformat_minor": 2
}
