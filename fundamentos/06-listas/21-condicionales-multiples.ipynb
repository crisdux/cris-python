{
 "cells": [
  {
   "cell_type": "markdown",
   "metadata": {},
   "source": [
    "## Condiocionales multiples\n",
    "Pthon tiene funciones integradas para comprobar varias condiciones:\n",
    "* `all` para probar que todas las condiciones se tienen que cumplir\n",
    "* `any` para comprobar que al menos una condición se debe cumplir"
   ]
  },
  {
   "cell_type": "markdown",
   "metadata": {},
   "source": [
    "Digamos que queremos comprobar las siguientes condiciones para una cadena:\n",
    "* que tenga mas de 10 caracteres\n",
    "* que empiece por una mayuscula \n",
    "* y que tenga que terminar por un punto"
   ]
  },
  {
   "cell_type": "code",
   "execution_count": 10,
   "metadata": {},
   "outputs": [
    {
     "name": "stdout",
     "output_type": "stream",
     "text": [
      "Pasa\n",
      "Pasa (all)\n"
     ]
    }
   ],
   "source": [
    "## haciendo las condiciones por separado:\n",
    "\n",
    "cadena = \"Buenos días señor sol.\"\n",
    "if (len(cadena) >= 10) and (cadena[0].isupper()) and (cadena[-1] == \".\"):\n",
    "    print(\"Pasa\")\n",
    "else:\n",
    "    print(\"No pasa\")\n",
    "\n",
    "## usando all:\n",
    "mayor_igual_10 = len(cadena) >= 10 # True\n",
    "empezar_mayuscula = cadena[0].isupper() #True\n",
    "terminar_punto = cadena[-1] == \".\" #True\n",
    "\n",
    "if all([mayor_igual_10, empezar_mayuscula, terminar_punto]): ## todas las condiciones estan en una lista\n",
    "    print(\"Pasa (all)\")\n",
    "else:\n",
    "    print(\"No pasa (all)\")\n",
    "\n"
   ]
  }
 ],
 "metadata": {
  "kernelspec": {
   "display_name": ".venv",
   "language": "python",
   "name": "python3"
  },
  "language_info": {
   "codemirror_mode": {
    "name": "ipython",
    "version": 3
   },
   "file_extension": ".py",
   "mimetype": "text/x-python",
   "name": "python",
   "nbconvert_exporter": "python",
   "pygments_lexer": "ipython3",
   "version": "3.11.10"
  }
 },
 "nbformat": 4,
 "nbformat_minor": 2
}
