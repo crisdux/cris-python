{
 "cells": [
  {
   "cell_type": "markdown",
   "metadata": {},
   "source": [
    "## Invertir una lista\n",
    "Python tiene 3 maneras de invertir una lista:\n",
    "* usando sling: no muta la lista original\n",
    "* usando `reversed()`: no muta la lista original, pero necesitamos usar `list`. Es una funcion como `len` no un método.\n",
    "* usando `reverse()`: muta la lista original. Si es un método."
   ]
  },
  {
   "cell_type": "code",
   "execution_count": 11,
   "metadata": {},
   "outputs": [
    {
     "name": "stdout",
     "output_type": "stream",
     "text": [
      "[True, False]\n",
      "[False, True]\n"
     ]
    }
   ],
   "source": [
    "booleanos = [True, False]\n",
    "new_booleanos = booleanos[::-1]\n",
    "\n",
    "print(booleanos) ## original se mantiene inmutable\n",
    "print(new_booleanos) ## invertimos"
   ]
  },
  {
   "cell_type": "code",
   "execution_count": 12,
   "metadata": {},
   "outputs": [
    {
     "name": "stdout",
     "output_type": "stream",
     "text": [
      "[1, 2, 3]\n",
      "[3, 2, 1]\n"
     ]
    }
   ],
   "source": [
    "numeros = [1,2,3]\n",
    "new_numeros = list(reversed(numeros))\n",
    "\n",
    "print(numeros)\n",
    "print(new_numeros)"
   ]
  },
  {
   "cell_type": "code",
   "execution_count": 14,
   "metadata": {},
   "outputs": [
    {
     "name": "stdout",
     "output_type": "stream",
     "text": [
      "['u', 'o', 'i', 'e', 'a']\n"
     ]
    }
   ],
   "source": [
    "vocales = [\"a\", \"e\", \"i\", \"o\", \"u\"]\n",
    "new_vocales = vocales.reverse()\n",
    "\n",
    "print(vocales) ## modifica la lista original"
   ]
  }
 ],
 "metadata": {
  "kernelspec": {
   "display_name": ".venv",
   "language": "python",
   "name": "python3"
  },
  "language_info": {
   "codemirror_mode": {
    "name": "ipython",
    "version": 3
   },
   "file_extension": ".py",
   "mimetype": "text/x-python",
   "name": "python",
   "nbconvert_exporter": "python",
   "pygments_lexer": "ipython3",
   "version": "3.11.10"
  }
 },
 "nbformat": 4,
 "nbformat_minor": 2
}
