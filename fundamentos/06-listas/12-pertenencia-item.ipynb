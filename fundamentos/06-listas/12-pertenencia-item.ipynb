{
 "cells": [
  {
   "cell_type": "markdown",
   "metadata": {},
   "source": [
    "## Pertenencia de un item\n",
    "Podemos usar el metodo `index` para verificar si un item esta un una lista, pero para no meternos con los indices de cada item otra opcion es usar el operador `in`"
   ]
  },
  {
   "cell_type": "code",
   "execution_count": 1,
   "metadata": {},
   "outputs": [
    {
     "name": "stdout",
     "output_type": "stream",
     "text": [
      "True\n",
      "False\n"
     ]
    }
   ],
   "source": [
    "numeros = [1,2,3,4,5]\n",
    "print(3 in numeros) \n",
    "print(\"3\" in numeros)\n",
    "\n",
    "## siempre regresa un bool dependiendo el caso"
   ]
  }
 ],
 "metadata": {
  "kernelspec": {
   "display_name": ".venv",
   "language": "python",
   "name": "python3"
  },
  "language_info": {
   "codemirror_mode": {
    "name": "ipython",
    "version": 3
   },
   "file_extension": ".py",
   "mimetype": "text/x-python",
   "name": "python",
   "nbconvert_exporter": "python",
   "pygments_lexer": "ipython3",
   "version": "3.11.10"
  }
 },
 "nbformat": 4,
 "nbformat_minor": 2
}
