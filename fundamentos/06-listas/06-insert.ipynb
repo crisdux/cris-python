{
 "cells": [
  {
   "cell_type": "markdown",
   "metadata": {},
   "source": [
    "## Agregar elementos en cualquier parte de la lista\n",
    "Para lograr esto tenemos el metodo `insert()` que recibe dos parametros:\n",
    "* indice: indicamos en que posición queremos hacer la insercion\n",
    "* item: el elemento que se desea agregar"
   ]
  },
  {
   "cell_type": "code",
   "execution_count": 2,
   "metadata": {},
   "outputs": [
    {
     "name": "stdout",
     "output_type": "stream",
     "text": [
      "['LG', 'Xiaomi', 'Apple', 'Samsung']\n"
     ]
    }
   ],
   "source": [
    "marcas = [\"LG\", \"Apple\", \"Samsung\"]\n",
    "marcas.insert(1, \"Xiaomi\")\n",
    "print(marcas) ## destruye la lista original"
   ]
  },
  {
   "cell_type": "markdown",
   "metadata": {},
   "source": [
    "Si indicamos indices que no estan presentes en la lista no obtenemos ningun tipo de error"
   ]
  },
  {
   "cell_type": "code",
   "execution_count": 3,
   "metadata": {},
   "outputs": [
    {
     "name": "stdout",
     "output_type": "stream",
     "text": [
      "['LG', 'Xiaomi', 'Apple', 'Samsung', 'Asus']\n"
     ]
    }
   ],
   "source": [
    "marcas.insert(100, \"Asus\")\n",
    "print(marcas) ## agrega en la ultima posicion\n"
   ]
  }
 ],
 "metadata": {
  "kernelspec": {
   "display_name": ".venv",
   "language": "python",
   "name": "python3"
  },
  "language_info": {
   "codemirror_mode": {
    "name": "ipython",
    "version": 3
   },
   "file_extension": ".py",
   "mimetype": "text/x-python",
   "name": "python",
   "nbconvert_exporter": "python",
   "pygments_lexer": "ipython3",
   "version": "3.11.10"
  }
 },
 "nbformat": 4,
 "nbformat_minor": 2
}
