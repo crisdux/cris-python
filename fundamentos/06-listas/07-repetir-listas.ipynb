{
 "cells": [
  {
   "cell_type": "markdown",
   "metadata": {},
   "source": [
    "## Repetir listas\n",
    "Para lograr esto sono necesitamos multuplicar las lista por un entero"
   ]
  },
  {
   "cell_type": "code",
   "execution_count": 1,
   "metadata": {},
   "outputs": [
    {
     "name": "stdout",
     "output_type": "stream",
     "text": [
      "['Bolivar', 'The Strongest', 'Bolivar', 'The Strongest', 'Bolivar', 'The Strongest']\n"
     ]
    }
   ],
   "source": [
    "equipos = [\"Bolivar\", \"The Strongest\"]\n",
    "print(equipos * 3) ## repetimos los items de la lista uno tras otro"
   ]
  }
 ],
 "metadata": {
  "kernelspec": {
   "display_name": ".venv",
   "language": "python",
   "name": "python3"
  },
  "language_info": {
   "codemirror_mode": {
    "name": "ipython",
    "version": 3
   },
   "file_extension": ".py",
   "mimetype": "text/x-python",
   "name": "python",
   "nbconvert_exporter": "python",
   "pygments_lexer": "ipython3",
   "version": "3.11.10"
  }
 },
 "nbformat": 4,
 "nbformat_minor": 2
}
