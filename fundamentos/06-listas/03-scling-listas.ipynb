{
 "cells": [
  {
   "cell_type": "markdown",
   "metadata": {},
   "source": [
    "## Scling de listas\n",
    "Para poder cortar listas usamos las mismas reglas que aprendimos para cortar cadenas:\n",
    "\n",
    "* `inicio`: desde uue item\n",
    "* `fin`: hasta que item (obligatorio)\n",
    "* `salto`: de cuanto en cuanto"
   ]
  },
  {
   "cell_type": "code",
   "execution_count": 12,
   "metadata": {},
   "outputs": [
    {
     "name": "stdout",
     "output_type": "stream",
     "text": [
      "[25, 78, 10, 33]\n",
      "[59, 25, 78]\n",
      "[59, 78]\n",
      "[33, 10, 78]\n",
      "[33, 10, 78, 25, 59, 52]\n",
      "\n",
      "[52, 59, 25, 78, 10, 33]\n"
     ]
    }
   ],
   "source": [
    "numeros = [52, 59, 25, 78, 10, 33]\n",
    "print(numeros[2:]) ## desde el index 2 hasta el final\n",
    "print(numeros[1:4]) ## desde el idex 1 hasta el 4-1\n",
    "print(numeros[1:-1:2]) ## desde el index 1 hasta el final, de dos en dos\n",
    "print(numeros[-1:-4:-1]) ## desde el final hasta el -4 de -1 en -1 (se corta la lsita de der a izq)\n",
    "print(numeros[::-1]) ## desde el inicio hasta el final todos los items de der a izq -> osea invertimos toda la lista\n",
    "print(\"\")\n",
    "print(numeros) ## la lista original no cambia, solo se crean nuevas copias"
   ]
  },
  {
   "cell_type": "markdown",
   "metadata": {},
   "source": [
    "Al igual que con las cadenas no debemos preocuparnos si intentamos pasarle indices que no existen en la lista, python nos ayuda para que esto no de error"
   ]
  },
  {
   "cell_type": "code",
   "execution_count": 13,
   "metadata": {},
   "outputs": [
    {
     "name": "stdout",
     "output_type": "stream",
     "text": [
      "[25, 78, 10, 33]\n",
      "[33, 78, 59]\n"
     ]
    }
   ],
   "source": [
    "print(numeros[2:1000]) ## desde el index 2 hasta el 1000, pero 1000 no existe, entonces sera hasta el final de la lista\n",
    "print(numeros[-1:-1000:-2]) ## desde el ultimo item hasta el -1000 de der a izq, de dos en dos, pero como no hay el item -1000 entonces hasta el primer item de la lista"
   ]
  }
 ],
 "metadata": {
  "kernelspec": {
   "display_name": ".venv",
   "language": "python",
   "name": "python3"
  },
  "language_info": {
   "codemirror_mode": {
    "name": "ipython",
    "version": 3
   },
   "file_extension": ".py",
   "mimetype": "text/x-python",
   "name": "python",
   "nbconvert_exporter": "python",
   "pygments_lexer": "ipython3",
   "version": "3.11.10"
  }
 },
 "nbformat": 4,
 "nbformat_minor": 2
}
