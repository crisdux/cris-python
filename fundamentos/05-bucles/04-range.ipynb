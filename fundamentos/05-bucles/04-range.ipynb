{
 "cells": [
  {
   "cell_type": "markdown",
   "metadata": {},
   "source": [
    "## range\n",
    "Para poder iterar sobre valores consecutivos python nos ofrece la función `range` que recibe tres parametros:\n",
    "\n",
    "* `inicio`: marca el inicio de la secuencia\n",
    "* `final`: marca el final de la secuencia -1 (obligatorio)\n",
    "* `salto`: marca de cuanto en cuanto queremos que sea el incremento del ciclo\n",
    "\n",
    "`range` siempre regresa un objeto iterable, por lo tanto lo podemos recorrer con un ciclo for."
   ]
  },
  {
   "cell_type": "code",
   "execution_count": 8,
   "metadata": {},
   "outputs": [
    {
     "name": "stdout",
     "output_type": "stream",
     "text": [
      "0 1 2 3 4 5 6 7 8 9 \n",
      "5 6 7 8 9 \n",
      "10 13 16 19 \n",
      "0 1 2 3 4 5 6 7 8 9 10 11 12 13 14 15 16 17 18 19 \n",
      "2 1 0 "
     ]
    }
   ],
   "source": [
    "for i in range(0, 10): ## desde 0 hasta 9\n",
    "    print(i, end=\" \")\n",
    "\n",
    "print(\"\")\n",
    "\n",
    "for j in range(5, 10): ## desde 5 hasta 9\n",
    "    print(j, end=\" \")\n",
    "\n",
    "print(\"\")\n",
    "\n",
    "for k in range(10, 20, 3): ## desde 10 hasta 19 de 3 en 3\n",
    "    print(k, end=\" \")\n",
    "\n",
    "print(\"\")\n",
    "\n",
    "for x in range(20): ## desde 0 hasta 19\n",
    "    print(x, end=\" \")\n",
    "\n",
    "print(\"\")\n",
    "\n",
    "for y in range(2, -1, -1): ## desde 2 hasta 0 (-1+1) de -1 en -1 (va de derecha a izq)\n",
    "    print(y, end=\" \") \n"
   ]
  },
  {
   "cell_type": "code",
   "execution_count": null,
   "metadata": {},
   "outputs": [],
   "source": []
  }
 ],
 "metadata": {
  "kernelspec": {
   "display_name": ".venv",
   "language": "python",
   "name": "python3"
  },
  "language_info": {
   "codemirror_mode": {
    "name": "ipython",
    "version": 3
   },
   "file_extension": ".py",
   "mimetype": "text/x-python",
   "name": "python",
   "nbconvert_exporter": "python",
   "pygments_lexer": "ipython3",
   "version": "3.11.10"
  }
 },
 "nbformat": 4,
 "nbformat_minor": 2
}
