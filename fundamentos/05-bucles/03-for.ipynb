{
 "cells": [
  {
   "cell_type": "markdown",
   "metadata": {},
   "source": [
    "## for\n",
    "El bucle `for` no sirve cuando de ante mano sabemos cuantos iteraciones tendra nuestro bucle. \n",
    "Nos sirve para recorrer cualquier tipo de elemento que se pueda iterar como por ejemplo un cadena, una lista, un diccionario, etc."
   ]
  },
  {
   "cell_type": "code",
   "execution_count": 3,
   "metadata": {},
   "outputs": [
    {
     "name": "stdout",
     "output_type": "stream",
     "text": [
      "C\n",
      "r\n",
      "i\n",
      "s\n",
      "t\n",
      "i\n",
      "a\n",
      "n\n"
     ]
    }
   ],
   "source": [
    "## ejemplo #1\n",
    "\n",
    "nombre = \"Cristian\"\n",
    "\n",
    "for letra in nombre:\n",
    "    print(letra)"
   ]
  },
  {
   "cell_type": "code",
   "execution_count": 5,
   "metadata": {},
   "outputs": [
    {
     "name": "stdout",
     "output_type": "stream",
     "text": [
      "h\n",
      "o\n",
      "l\n"
     ]
    }
   ],
   "source": [
    "## podemos usar un break con for\n",
    "\n",
    "cadena = \"hola mundo\"\n",
    "for i in cadena:\n",
    "    if i == \"a\":\n",
    "        break ## cuando encuentre una \"a\" en cadena se sale\n",
    "    print(i)\n"
   ]
  }
 ],
 "metadata": {
  "kernelspec": {
   "display_name": ".venv",
   "language": "python",
   "name": "python3"
  },
  "language_info": {
   "codemirror_mode": {
    "name": "ipython",
    "version": 3
   },
   "file_extension": ".py",
   "mimetype": "text/x-python",
   "name": "python",
   "nbconvert_exporter": "python",
   "pygments_lexer": "ipython3",
   "version": "3.11.10"
  }
 },
 "nbformat": 4,
 "nbformat_minor": 2
}
