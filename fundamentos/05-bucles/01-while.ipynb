{
 "cells": [
  {
   "cell_type": "markdown",
   "metadata": {},
   "source": [
    "## while\n",
    "El bucle while es uno de los mas usados en python. \n",
    "Este bucle ejecutará un conjunto de instrucciones siempre y cuando nuestra condición se cumpla (sea `True`) caso contrario se dará por terminado el bucle.\n",
    "Usamos este bucle cuando no sabemos a priori cuantas iteraciones necesitamos para terminar el bucle, sino que depende al 100% que la condición se deje de cumplir para terminar la ejecución del bucle. Esto puede ser 1 iteración, 5 o 100; todas las que sean necesarias."
   ]
  },
  {
   "cell_type": "code",
   "execution_count": 2,
   "metadata": {},
   "outputs": [
    {
     "name": "stdout",
     "output_type": "stream",
     "text": [
      "Te saludo!\n",
      "Te saludo!\n",
      "Te saludo!\n",
      "Adios!\n"
     ]
    }
   ],
   "source": [
    "## ejemplo 1\n",
    "\n",
    "letra = \"S\" ## es importante darle un valor de entrada\n",
    "while letra == \"S\":\n",
    "    print(\"Te saludo!\")\n",
    "    letra = input(\"Desea otro saludo? [S/N]\")\n",
    "print(\"Adios!\")\n"
   ]
  },
  {
   "cell_type": "code",
   "execution_count": 17,
   "metadata": {},
   "outputs": [
    {
     "name": "stdout",
     "output_type": "stream",
     "text": [
      "Te saludo!\n",
      "Te saludo!\n",
      "Te saludo!\n",
      "Te saludo!\n",
      "Numero max de saludos alcanzado\n",
      "Adios\n"
     ]
    }
   ],
   "source": [
    "## ejemplo #2\n",
    "## podemos establer un punto de quiebre en el bucle, un maximo de iteraciones \n",
    "\n",
    "# maximo_saludos = 4\n",
    "# contador_saludos= 0\n",
    "\n",
    "# letra = \"S\"\n",
    "# while letra == \"S\" or letra == \"s\":\n",
    "#     print(\"Te saludo!\")\n",
    "#     contador_saludos = contador_saludos + 1\n",
    "#     if contador_saludos >= 4: ## varible que controla la salida del bucle\n",
    "#         print(\"Numero max de saludos alcanzado\")\n",
    "#         break ## salimos del bucle\n",
    "#     ## importante establecer que la variable letra pueda cambiar\n",
    "#     letra = input(\"Quiere otro saludo? [S/N]\") \n",
    "# print(\"Adios\")"
   ]
  }
 ],
 "metadata": {
  "kernelspec": {
   "display_name": ".venv",
   "language": "python",
   "name": "python3"
  },
  "language_info": {
   "codemirror_mode": {
    "name": "ipython",
    "version": 3
   },
   "file_extension": ".py",
   "mimetype": "text/x-python",
   "name": "python",
   "nbconvert_exporter": "python",
   "pygments_lexer": "ipython3",
   "version": "3.11.10"
  }
 },
 "nbformat": 4,
 "nbformat_minor": 2
}
