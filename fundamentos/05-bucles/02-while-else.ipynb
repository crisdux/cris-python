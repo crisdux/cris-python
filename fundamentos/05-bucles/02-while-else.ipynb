{
 "cells": [
  {
   "cell_type": "markdown",
   "metadata": {},
   "source": [
    "## While con else\n",
    "En Python los bucles tienen una caracteristica basante peculiar, pueden contener una sentencia `else` al finalizar el bucle.\n",
    "\n",
    "Este `else` es opcional y solo se ejecuta cuando el bucle entero termino de manera organica, es decir que no fue interrumpido por una sentencia `break`.\n",
    "\n",
    "Veamos un ejemplo:"
   ]
  },
  {
   "cell_type": "code",
   "execution_count": 1,
   "metadata": {},
   "outputs": [
    {
     "name": "stdout",
     "output_type": "stream",
     "text": [
      "Te saludo\n",
      "Te saludo\n",
      "El programa termino sin ser interrumpido por un break\n",
      "Adios\n"
     ]
    }
   ],
   "source": [
    "max_saludos = 5\n",
    "contador_saludos = 0\n",
    "condicion = \"S\"\n",
    "\n",
    "while condicion == \"S\":\n",
    "    print(\"Te saludo\")\n",
    "    contador_saludos += 1\n",
    "    if contador_saludos >= max_saludos:\n",
    "        print(\"Cantidad de saludos max alcanzado\")\n",
    "        break ## si se ejecuta el break, entonces nunca entra al bucle\n",
    "    condicion = input(\"Desea otro saludo:[S/N]\")\n",
    "else:\n",
    "    ## solo se ejecuta cuando el bucle termina de manera natural\n",
    "    print(\"El programa termino sin ser interrumpido por un break\")\n",
    "print(\"Adios\")\n"
   ]
  }
 ],
 "metadata": {
  "kernelspec": {
   "display_name": ".venv",
   "language": "python",
   "name": "python3"
  },
  "language_info": {
   "codemirror_mode": {
    "name": "ipython",
    "version": 3
   },
   "file_extension": ".py",
   "mimetype": "text/x-python",
   "name": "python",
   "nbconvert_exporter": "python",
   "pygments_lexer": "ipython3",
   "version": "3.11.10"
  }
 },
 "nbformat": 4,
 "nbformat_minor": 2
}
