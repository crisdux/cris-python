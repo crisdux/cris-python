{
 "cells": [
  {
   "cell_type": "code",
   "execution_count": null,
   "metadata": {},
   "outputs": [],
   "source": []
  },
  {
   "cell_type": "code",
   "execution_count": 17,
   "metadata": {},
   "outputs": [],
   "source": [
    "file = open(\"data/estudiantes.txt\", \"a\")\n",
    "amigos = [\"Alicia\", \"Sonia\", \"Roberto\"]\n",
    "for amigo in amigos:\n",
    "    file.write(amigo + \"\\n\")\n",
    "file.close()"
   ]
  },
  {
   "cell_type": "code",
   "execution_count": 18,
   "metadata": {},
   "outputs": [
    {
     "name": "stdout",
     "output_type": "stream",
     "text": [
      "['ana', 'pepe', 'juan', 'Alicia', 'Sonia', 'Roberto']\n"
     ]
    }
   ],
   "source": [
    "nuevo_file = open(\"data/estudiantes.txt\", \"r\")\n",
    "amigos_totales = []\n",
    "for data in nuevo_file:\n",
    "    amigos_totales.append(data.strip())\n",
    "print(amigos_totales)\n",
    "nuevo_file.close()\n"
   ]
  }
 ],
 "metadata": {
  "kernelspec": {
   "display_name": ".venv",
   "language": "python",
   "name": "python3"
  },
  "language_info": {
   "codemirror_mode": {
    "name": "ipython",
    "version": 3
   },
   "file_extension": ".py",
   "mimetype": "text/x-python",
   "name": "python",
   "nbconvert_exporter": "python",
   "pygments_lexer": "ipython3",
   "version": "3.11.10"
  }
 },
 "nbformat": 4,
 "nbformat_minor": 2
}
