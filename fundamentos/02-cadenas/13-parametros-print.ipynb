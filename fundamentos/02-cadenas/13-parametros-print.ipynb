{
 "cells": [
  {
   "cell_type": "markdown",
   "metadata": {},
   "source": [
    "## Print\n",
    "\n",
    "La función `print` cuenta con dos paramtros interesantes que podemos usar:\n",
    "* `sep`: por defecto `print` imprime elementos separandolos por espacios, con este parametro podemos cambiar esto\n",
    "* `end`: por defecto `find` imprime un salto de linea al finalizar la impresión, con este parametro podemos cambiar eso.\n",
    "\n",
    "Veamos algunos ejemplos"
   ]
  },
  {
   "cell_type": "code",
   "execution_count": 9,
   "metadata": {},
   "outputs": [
    {
     "name": "stdout",
     "output_type": "stream",
     "text": [
      "Hola mundo\n",
      "Hola mundo Como estas?\n",
      "Buenos dias - mundo bello\n",
      "Hoy hace un dia lluvioso y nublado***\n",
      "Tenemos calor -> tenemos frio <- "
     ]
    }
   ],
   "source": [
    "## print admite imprimir varios elementos separados por comas, el resultado estara separado por espacios\n",
    "\n",
    "print(\"Hola mundo\")\n",
    "print(\"Hola mundo\", \"Como estas?\")\n",
    "\n",
    "## podemos usar sep para modificar este espacio en blanco\n",
    "nombre = \"Cris\"\n",
    "print(\"Buenos dias\", \"mundo bello\", sep=\" - \")\n",
    "\n",
    "## podemos cambiar el salto de line final con end\n",
    "print(\"Hoy hace un dia lluvioso y nublado\", end=\"***\")\n",
    "print()\n",
    "## podemos usar ambos al mismo tiempo\n",
    "print(\"Tenemos calor\", \"tenemos frio\", sep=\" -> \", end=\" <- \")"
   ]
  }
 ],
 "metadata": {
  "kernelspec": {
   "display_name": ".venv",
   "language": "python",
   "name": "python3"
  },
  "language_info": {
   "codemirror_mode": {
    "name": "ipython",
    "version": 3
   },
   "file_extension": ".py",
   "mimetype": "text/x-python",
   "name": "python",
   "nbconvert_exporter": "python",
   "pygments_lexer": "ipython3",
   "version": "3.11.9"
  }
 },
 "nbformat": 4,
 "nbformat_minor": 2
}
