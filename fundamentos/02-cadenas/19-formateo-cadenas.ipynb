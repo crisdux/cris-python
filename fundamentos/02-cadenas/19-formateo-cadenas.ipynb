{
 "cells": [
  {
   "cell_type": "markdown",
   "metadata": {},
   "source": [
    "## Formateo de cadenas\n",
    "Podemos formatear cadenas de varinas maneras maneras usando f-strings, desde la cantidad de decimales, la longitud total de la cadena, etc."
   ]
  },
  {
   "cell_type": "code",
   "execution_count": 27,
   "metadata": {},
   "outputs": [
    {
     "name": "stdout",
     "output_type": "stream",
     "text": [
      "3.141592653589793\n",
      "3.142\n",
      "  569.3\n",
      "00569.3\n"
     ]
    }
   ],
   "source": [
    "## formateo de floats\n",
    "\n",
    "import math\n",
    "\n",
    "print(math.pi)\n",
    "print(f\"{math.pi:.3f}\") ## muestra solo 3 decimales \n",
    "\n",
    "precio = 569.255\n",
    "print(f\"{precio:7.1f}\") ## string:longitud.decimales\n",
    "print(f\"{precio:07.1f}\") ## string:longitud.decimales"
   ]
  },
  {
   "cell_type": "code",
   "execution_count": 32,
   "metadata": {},
   "outputs": [
    {
     "name": "stdout",
     "output_type": "stream",
     "text": [
      "       188\n",
      "0000000188\n"
     ]
    }
   ],
   "source": [
    "## formateo de enteros\n",
    "\n",
    "costo = 188\n",
    "print(f\"{costo:10d}\") ## 10 de longitud total\n",
    "print(f\"{costo:010d}\") ## podemos completar con 0's tambien"
   ]
  },
  {
   "cell_type": "code",
   "execution_count": 49,
   "metadata": {},
   "outputs": [
    {
     "name": "stdout",
     "output_type": "stream",
     "text": [
      "|  nombre |     apellido     | edad    |\n",
      "| nombre | ****apellido**** | edad   |\n"
     ]
    }
   ],
   "source": [
    "## formateo en cadenas \n",
    "\n",
    "nombre = \"nombre\"\n",
    "apellido = \"apellido\"\n",
    "edad = \"edad\"\n",
    "\n",
    "print(f\"| {nombre:>7} | {apellido:^16} | {edad:<7} |\")\n",
    "print(f\"| {nombre:>6} | {apellido:*^16} | {edad:<6} |\")"
   ]
  },
  {
   "cell_type": "code",
   "execution_count": 52,
   "metadata": {},
   "outputs": [
    {
     "name": "stdout",
     "output_type": "stream",
     "text": [
      "1010\n",
      "12\n",
      "a\n"
     ]
    }
   ],
   "source": [
    "## Convertir numeros a otras bases con f-string\n",
    "\n",
    "numero = 10\n",
    "print(f\"{numero:b}\") ## binario\n",
    "print(f\"{numero:o}\") ## octal \n",
    "print(f\"{numero:x}\") ## hecadecimal"
   ]
  }
 ],
 "metadata": {
  "kernelspec": {
   "display_name": ".venv",
   "language": "python",
   "name": "python3"
  },
  "language_info": {
   "codemirror_mode": {
    "name": "ipython",
    "version": 3
   },
   "file_extension": ".py",
   "mimetype": "text/x-python",
   "name": "python",
   "nbconvert_exporter": "python",
   "pygments_lexer": "ipython3",
   "version": "3.11.9"
  }
 },
 "nbformat": 4,
 "nbformat_minor": 2
}
