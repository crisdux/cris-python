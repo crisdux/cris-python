{
 "cells": [
  {
   "cell_type": "markdown",
   "metadata": {},
   "source": [
    "## Operaciones básicas\n",
    "3 son las operaciones básicas con cadenas:\n",
    "1. Concatenación: unir 2 o mas cadenas\n",
    "2. Indexación: acceder a un caracter en especifico de una cadena\n",
    "3. Slicing (cortado): obtener un trozo o una subcadena de la cadena original"
   ]
  },
  {
   "cell_type": "markdown",
   "metadata": {},
   "source": [
    "## Concatenación\n",
    "* El operador `+` nos sirve para concatenar cadenas.\n",
    "* El operador `+` cuando lo usamos con números nos sirve para sumar, pero cuando lo usamos con cadenas nos sirve para concatenar."
   ]
  },
  {
   "cell_type": "code",
   "execution_count": 1,
   "metadata": {},
   "outputs": [
    {
     "name": "stdout",
     "output_type": "stream",
     "text": [
      "CristianVillca\n"
     ]
    }
   ],
   "source": [
    "nombre = \"Cristian\"\n",
    "apellido = \"Villca\"\n",
    "print(nombre + apellido) ## imprime la cadena toda junta"
   ]
  },
  {
   "cell_type": "code",
   "execution_count": 2,
   "metadata": {},
   "outputs": [
    {
     "name": "stdout",
     "output_type": "stream",
     "text": [
      "Cristian Villca\n"
     ]
    }
   ],
   "source": [
    "nombre = \"Cristian\"\n",
    "apellido = \"Villca\"\n",
    "print(nombre + \" \" + apellido)"
   ]
  },
  {
   "cell_type": "markdown",
   "metadata": {},
   "source": [
    "## Indexación\n",
    "* Para poder indexar una cadena debemos tener en cuenta que los caracteres se empiezan a \"contar\" desde el 0.\n",
    "* Para poder acceder al caracter del index establecido usamos la sintaxis de `[]`.\n",
    "* Es importante recordar que solo podemos acceder a posiciónes que existan dentro de la cadena.\n"
   ]
  },
  {
   "cell_type": "code",
   "execution_count": 3,
   "metadata": {},
   "outputs": [
    {
     "name": "stdout",
     "output_type": "stream",
     "text": [
      "p es el 3er caracter\n",
      "e es el último caracter\n"
     ]
    }
   ],
   "source": [
    "texto = \"apple pie\"\n",
    "print(texto[2] + \" es el 3er caracter\") ## obtiene el caracter de texto en la posición 2 contado desde 0 -> p\n",
    "print(texto[-1] + \" es el último caracter\") ## es posible usar index negativos"
   ]
  },
  {
   "attachments": {
    "image-2.png": {
     "image/png": "[encoded data removed]"
    },
    "image.png": {
     "image/png": "[encoded data removed]"
    }
   },
   "cell_type": "markdown",
   "metadata": {},
   "source": [
    "### Indexación positiva y negativa\n",
    "Los caracteres se indexan de la siguiente manera:\n",
    "\n",
    "![cadena](attachment:image.png)\n",
    "\n",
    "![cadena](attachment:image-2.png)\n",
    "\n",
    "Inclusive los espacios son considerados un caracter.\n"
   ]
  },
  {
   "cell_type": "code",
   "execution_count": 4,
   "metadata": {},
   "outputs": [
    {
     "ename": "IndexError",
     "evalue": "string index out of range",
     "output_type": "error",
     "traceback": [
      "\u001b[0;31m---------------------------------------------------------------------------\u001b[0m",
      "\u001b[0;31mIndexError\u001b[0m                                Traceback (most recent call last)",
      "Cell \u001b[0;32mIn[4], line 2\u001b[0m\n\u001b[1;32m      1\u001b[0m texto \u001b[38;5;241m=\u001b[39m \u001b[38;5;124m\"\u001b[39m\u001b[38;5;124mapple pie\u001b[39m\u001b[38;5;124m\"\u001b[39m\n\u001b[0;32m----> 2\u001b[0m \u001b[38;5;28mprint\u001b[39m(\u001b[43mtexto\u001b[49m\u001b[43m[\u001b[49m\u001b[38;5;241;43m10\u001b[39;49m\u001b[43m]\u001b[49m) \u001b[38;5;66;03m## el index no puede ser superior al la longitud de la cadena\u001b[39;00m\n",
      "\u001b[0;31mIndexError\u001b[0m: string index out of range"
     ]
    }
   ],
   "source": [
    "texto = \"apple pie\"\n",
    "print(texto[10]) ## el index no puede ser superior al la longitud de la cadena"
   ]
  },
  {
   "cell_type": "code",
   "execution_count": null,
   "metadata": {},
   "outputs": [
    {
     "ename": "IndexError",
     "evalue": "string index out of range",
     "output_type": "error",
     "traceback": [
      "\u001b[0;31m---------------------------------------------------------------------------\u001b[0m",
      "\u001b[0;31mIndexError\u001b[0m                                Traceback (most recent call last)",
      "Cell \u001b[0;32mIn[10], line 2\u001b[0m\n\u001b[1;32m      1\u001b[0m texto \u001b[38;5;241m=\u001b[39m \u001b[38;5;124m\"\u001b[39m\u001b[38;5;124mapple pie\u001b[39m\u001b[38;5;124m\"\u001b[39m\n\u001b[0;32m----> 2\u001b[0m \u001b[38;5;28mprint\u001b[39m(\u001b[43mtexto\u001b[49m\u001b[43m[\u001b[49m\u001b[38;5;241;43m-\u001b[39;49m\u001b[38;5;241;43m10\u001b[39;49m\u001b[43m]\u001b[49m)\n",
      "\u001b[0;31mIndexError\u001b[0m: string index out of range"
     ]
    }
   ],
   "source": [
    "texto = \"apple pie\"\n",
    "print(texto[-10]) ## tampoc puede ser inferior"
   ]
  },
  {
   "cell_type": "markdown",
   "metadata": {},
   "source": [
    "## Slicing\n",
    "\n",
    "El slicing de cadenas es útil para poder acceder a un conjunto de caracteres con una sintaxis mas sencilla, para lograr esto debemos usar `texto[inicio:fin]` donde `inicio` y `fin` son enteros que representa el subconjunto de caracteres que deseamos cortar, el `fin` siempre es el entero pasado -1 caracter."
   ]
  },
  {
   "cell_type": "code",
   "execution_count": null,
   "metadata": {},
   "outputs": [
    {
     "name": "stdout",
     "output_type": "stream",
     "text": [
      "Boo\n"
     ]
    }
   ],
   "source": [
    "# ¿Qué ocurre si queremos acceder a un conjunto de caracteres de una misma cadena?\n",
    "# Podemos hacer algo como lo siguiente: \n",
    "nombre_perro = \"Booby\"\n",
    "print(nombre_perro[0] + nombre_perro[1] + nombre_perro[2])"
   ]
  },
  {
   "cell_type": "code",
   "execution_count": null,
   "metadata": {},
   "outputs": [
    {
     "name": "stdout",
     "output_type": "stream",
     "text": [
      "Boo\n",
      "Boo\n",
      "by\n",
      "y\n",
      "oby\n",
      "Booby\n"
     ]
    }
   ],
   "source": [
    "nombre_perro = \"Booby\"\n",
    "print(nombre_perro[0:3]) # seleccionamos desde el primer caracter hasta hasta el 3ro - 1\n",
    "print(nombre_perro[:3]) # selecionamos desde el primer caracter hasta el 3ro - 1\n",
    "print(nombre_perro[3:]) # seleccionamos desde el 3ro caracter hasta el final\n",
    "print(nombre_perro[-1:]) # seleccionamos el ultimo caracter\n",
    "print(nombre_perro[-3:]) # seleccionamos los ultimos 3 caracteres\n",
    "print(nombre_perro[:]) # de inicio a fin se toma toda la cadena"
   ]
  },
  {
   "cell_type": "code",
   "execution_count": null,
   "metadata": {},
   "outputs": [
    {
     "name": "stdout",
     "output_type": "stream",
     "text": [
      "Michi\n"
     ]
    }
   ],
   "source": [
    "# tambien tenemos index negativos\n",
    "nombre_gato = \"Michifuz\"\n",
    "print(nombre_gato[-8:-3])"
   ]
  },
  {
   "cell_type": "code",
   "execution_count": null,
   "metadata": {},
   "outputs": [
    {
     "name": "stdout",
     "output_type": "stream",
     "text": [
      "Michifuz\n",
      "Michifuz\n"
     ]
    }
   ],
   "source": [
    "## no hay errores si nos pasamos de los limites:\n",
    "print(nombre_gato[:20])\n",
    "print(nombre_gato[-10:20])\n"
   ]
  }
 ],
 "metadata": {
  "kernelspec": {
   "display_name": ".venv",
   "language": "python",
   "name": "python3"
  },
  "language_info": {
   "codemirror_mode": {
    "name": "ipython",
    "version": 3
   },
   "file_extension": ".py",
   "mimetype": "text/x-python",
   "name": "python",
   "nbconvert_exporter": "python",
   "pygments_lexer": "ipython3",
   "version": "3.11.9"
  }
 },
 "nbformat": 4,
 "nbformat_minor": 2
}
