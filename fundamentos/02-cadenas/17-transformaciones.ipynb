{
 "cells": [
  {
   "cell_type": "markdown",
   "metadata": {},
   "source": [
    "## Tranformaciones de texto\n",
    "Son métodos que sirven para cambiar entre diferentes variantes las matusculas y minusculas de las cadenas:\n",
    "\n",
    "* `upper()`: todo a mayusculas\n",
    "* `lower()`: todo a minusculas\n",
    "* `capitalize()`: la primera letra a mayuscula, el resto minuscula\n",
    "* `title()`: cada primera letra de cada palabra en mayuscula\n",
    "* `swapcase()`: convierte las mayusculas en minusculas y viceversa"
   ]
  },
  {
   "cell_type": "code",
   "execution_count": 2,
   "metadata": {},
   "outputs": [
    {
     "name": "stdout",
     "output_type": "stream",
     "text": [
      "MI BANDA FAVORITA ES RADIOHEAD\n",
      "mi banda favorita es radiohead\n",
      "Mi banda favorita es radiohead\n",
      "Mi Banda Favorita Es Radiohead\n",
      "mI BANDA FAVORITA ES RADIOHEAD\n"
     ]
    }
   ],
   "source": [
    "cadena = \"Mi banda favorita es radiohead\"\n",
    "print(cadena.upper())\n",
    "print(cadena.lower())\n",
    "print(cadena.capitalize())\n",
    "print(cadena.title())\n",
    "print(cadena.swapcase())"
   ]
  },
  {
   "cell_type": "code",
   "execution_count": null,
   "metadata": {},
   "outputs": [],
   "source": []
  }
 ],
 "metadata": {
  "kernelspec": {
   "display_name": ".venv",
   "language": "python",
   "name": "python3"
  },
  "language_info": {
   "codemirror_mode": {
    "name": "ipython",
    "version": 3
   },
   "file_extension": ".py",
   "mimetype": "text/x-python",
   "name": "python",
   "nbconvert_exporter": "python",
   "pygments_lexer": "ipython3",
   "version": "3.11.9"
  }
 },
 "nbformat": 4,
 "nbformat_minor": 2
}
