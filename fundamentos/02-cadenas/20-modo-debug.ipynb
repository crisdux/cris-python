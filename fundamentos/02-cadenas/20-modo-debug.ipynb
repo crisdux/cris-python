{
 "cells": [
  {
   "cell_type": "markdown",
   "metadata": {},
   "source": [
    "## Modo debug\n",
    "Desde Python 3.8 podemos usar el modo debug agregando un `=` al lado de nuestras variables para poder imprimir su valor"
   ]
  },
  {
   "cell_type": "code",
   "execution_count": 10,
   "metadata": {},
   "outputs": [
    {
     "name": "stdout",
     "output_type": "stream",
     "text": [
      "Cris | nombre='Cris'\n",
      "28 | edad=28\n",
      "82.5 | peso=82.5\n"
     ]
    }
   ],
   "source": [
    "nombre = \"Cris\"\n",
    "edad = 28\n",
    "peso = 82.5\n",
    "\n",
    "print(nombre, f\"{nombre=}\", sep=\" | \") ## podemos imprimir el nombre de la variable y su valor con = y f-string\n",
    "print(edad, f\"{edad=}\", sep=\" | \")\n",
    "print(peso, f\"{peso=}\", sep=\" | \")"
   ]
  }
 ],
 "metadata": {
  "kernelspec": {
   "display_name": ".venv",
   "language": "python",
   "name": "python3"
  },
  "language_info": {
   "codemirror_mode": {
    "name": "ipython",
    "version": 3
   },
   "file_extension": ".py",
   "mimetype": "text/x-python",
   "name": "python",
   "nbconvert_exporter": "python",
   "pygments_lexer": "ipython3",
   "version": "3.11.9"
  }
 },
 "nbformat": 4,
 "nbformat_minor": 2
}
