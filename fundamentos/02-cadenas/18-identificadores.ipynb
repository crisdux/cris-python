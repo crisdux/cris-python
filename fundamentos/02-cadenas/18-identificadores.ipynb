{
 "cells": [
  {
   "cell_type": "markdown",
   "metadata": {},
   "source": [
    "## Identificadores\n",
    "Son parecidos a los métodos de tranfoamciones, solo que estos regresan simpre valores boleanos y ademas se encargan de verificar si la cedena pertenece a un mismo conjunto de valores, como por ejemplo, si la cadena es numerica, alfa-numerica, numerica, etc.\n",
    "\n",
    "* `isalnum()`: verifica si una cadena es alpha-numerica (solo tiene numeros y letras)\n",
    "* `isnumeric`: verifica si una cadena solo tiene caracteres numericos\n",
    "* `isalpha()`: verifica si una cadena solo tiene caracteres de letras\n",
    "* `isupper()`: verifica si una cadena tiene todos su caracteres en mayusculas\n",
    "* `islower()`: verifica si una cadena tiene todos sus valores en minusculas\n",
    "* `istitle()`: verifica si las primeras letras de todas las palabras de una cadena comienza por mayuscula"
   ]
  },
  {
   "cell_type": "code",
   "execution_count": 8,
   "metadata": {},
   "outputs": [
    {
     "name": "stdout",
     "output_type": "stream",
     "text": [
      "True\n",
      "False\n",
      "False\n",
      "False\n",
      "True\n",
      "False\n"
     ]
    }
   ],
   "source": [
    "cadena = \"holamundo123\"\n",
    "print(cadena.isalnum()) ## True: solo tiene numeros y letras (sin caracteres especiales ni espacios)\n",
    "print(cadena.isnumeric()) ## False: no tiene solo numeros, tambien tiene letras\n",
    "print(cadena.isalpha()) ## False: no tiene solo letras, tambien tiene numeros\n",
    "print(cadena.isupper()) ## False: no es una cadena solo con mayusculas\n",
    "print(cadena.islower()) ## True: es una cadena solo un minusculas\n",
    "print(cadena.istitle()) ## False: no tiene todos los primeros caracteres de cada palabra en mayuscula"
   ]
  },
  {
   "cell_type": "code",
   "execution_count": null,
   "metadata": {},
   "outputs": [],
   "source": []
  },
  {
   "cell_type": "code",
   "execution_count": null,
   "metadata": {},
   "outputs": [],
   "source": []
  }
 ],
 "metadata": {
  "kernelspec": {
   "display_name": ".venv",
   "language": "python",
   "name": "python3"
  },
  "language_info": {
   "codemirror_mode": {
    "name": "ipython",
    "version": 3
   },
   "file_extension": ".py",
   "mimetype": "text/x-python",
   "name": "python",
   "nbconvert_exporter": "python",
   "pygments_lexer": "ipython3",
   "version": "3.11.9"
  }
 },
 "nbformat": 4,
 "nbformat_minor": 2
}
