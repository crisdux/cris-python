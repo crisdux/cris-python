{
 "cells": [
  {
   "cell_type": "markdown",
   "metadata": {},
   "source": [
    "## `count`\n",
    "Podemos contar la cantidad de caracteres especificos que tiene una cadena usando método `count`."
   ]
  },
  {
   "cell_type": "code",
   "execution_count": 3,
   "metadata": {},
   "outputs": [
    {
     "name": "stdout",
     "output_type": "stream",
     "text": [
      "2\n",
      "0\n",
      "0\n"
     ]
    }
   ],
   "source": [
    "nombre = \"Cristian\"\n",
    "print(nombre.count(\"i\")) ## \"Cristian\" tiene 2 \"i\"\n",
    "print(nombre.count(\"m\")) ## \"Cristian\" tiene 0 \"m\"\n",
    "print(nombre.count(\" \")) ## \"Cristian\" tiene 0 \" \" (espacios en blanco)"
   ]
  }
 ],
 "metadata": {
  "kernelspec": {
   "display_name": ".venv",
   "language": "python",
   "name": "python3"
  },
  "language_info": {
   "codemirror_mode": {
    "name": "ipython",
    "version": 3
   },
   "file_extension": ".py",
   "mimetype": "text/x-python",
   "name": "python",
   "nbconvert_exporter": "python",
   "pygments_lexer": "ipython3",
   "version": "3.11.9"
  }
 },
 "nbformat": 4,
 "nbformat_minor": 2
}
