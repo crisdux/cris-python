{
 "cells": [
  {
   "cell_type": "markdown",
   "metadata": {},
   "source": [
    "## Busqueda en cadenas\n",
    "\n",
    "Como ya hemos visto en Pythons en muchas maneras de poder realizar busquedas en cadenas dependiendo al caso de uso que estemos tratando de implementar, repasemos algunos de ellos: "
   ]
  },
  {
   "cell_type": "code",
   "execution_count": 6,
   "metadata": {},
   "outputs": [],
   "source": [
    "frase = \"\"\"El verdadero pintor es aquel que es capaz de pintar escenas \n",
    "extraordinarias en medio de un desierto vacío\"\"\""
   ]
  },
  {
   "cell_type": "markdown",
   "metadata": {},
   "source": [
    "### `startswith` y  `endswith`\n",
    "`startswith` y `endswith`: verifican si nuestra cadena empieza o termina con una subcadena pasada por parametro. Siempre nos regresa un booleano."
   ]
  },
  {
   "cell_type": "code",
   "execution_count": 7,
   "metadata": {},
   "outputs": [
    {
     "name": "stdout",
     "output_type": "stream",
     "text": [
      "True\n",
      "False\n"
     ]
    }
   ],
   "source": [
    "print(frase.startswith(\"El\")) ## la frase empieza por \"El\"?\n",
    "print(frase.endswith(\"lleno\")) ## la frase termina por \"lleno\""
   ]
  },
  {
   "cell_type": "markdown",
   "metadata": {},
   "source": [
    "## `in`\n",
    "También regresa un booleano pero en esta ocación `in` se encarga de verificar si una cadena esta incluida en otra."
   ]
  },
  {
   "cell_type": "code",
   "execution_count": 10,
   "metadata": {},
   "outputs": [
    {
     "name": "stdout",
     "output_type": "stream",
     "text": [
      "True\n",
      "False\n",
      "False\n"
     ]
    }
   ],
   "source": [
    "print(\"desierto\" in frase) ## \"desierto\" esta incluida en frase?\n",
    "print(\"pintora\" in frase) ## \"pintora esta incluida en frase\"?\n",
    "\n",
    "## podemos usar negaciones \n",
    "print(\"verdadero pintor es aquel\" not in frase) ## \"verdadero pintor es aquel\" no esta incluido en frase?\n"
   ]
  },
  {
   "cell_type": "markdown",
   "metadata": {},
   "source": [
    "### `find`\n",
    "Al igual que el operador `in` se encarga de verificar si una sub-cadena esta incluida en una cadena pero **no** regresa un boleano, sino que regresa el index de la coincidencia de la cadena a buscar, sino encunetra nada entonces regresa `-1`.\n",
    "\n",
    "Es importante destacar que `find` solo regresa la primera coindidencia de la busqueda, ignorando las demas si es que existieran.\n",
    "\n",
    "Esto no puede ser de útilidad ya que si el numero que regresa `find` es mayor a 0 entonces significa que la subcadena si pertenece a la cadena original, caso contrario si regresa un `-1` entonces significa que la subcadena no pertenece a la cadena original."
   ]
  },
  {
   "cell_type": "code",
   "execution_count": 14,
   "metadata": {},
   "outputs": [
    {
     "name": "stdout",
     "output_type": "stream",
     "text": [
      "52\n",
      "-1\n",
      "😃\n"
     ]
    }
   ],
   "source": [
    "print(frase.find(\"escenas\")) ## la subcadena \"escenas\" esta en la posición 52 de la cadena\n",
    "\n",
    "## sino encuntra nada entonces regresa -1 \n",
    "print(frase.find(\"Hola mundo\")) ## -1\n",
    "\n",
    "## podemos usarlo con condicionales:\n",
    "if(frase.find(\"hola mundo\") > 0): ## regresa -1 por que \"hola mundo\" no esta en la frase original\n",
    "    print(\"👽\")\n",
    "else:\n",
    "    print(\"😃\") ## entonces entramos al else e imprimimos 😃\n",
    "\n"
   ]
  },
  {
   "cell_type": "markdown",
   "metadata": {},
   "source": [
    "## `index`\n",
    "Funciona de la misma manera que `find` pero con la diferencia que cuando la subcadena no pertenece a la acdena original entonces lanza un error en lugar de `-1`."
   ]
  },
  {
   "cell_type": "code",
   "execution_count": 17,
   "metadata": {},
   "outputs": [
    {
     "name": "stdout",
     "output_type": "stream",
     "text": [
      "52\n"
     ]
    },
    {
     "ename": "ValueError",
     "evalue": "substring not found",
     "output_type": "error",
     "traceback": [
      "\u001b[0;31m---------------------------------------------------------------------------\u001b[0m",
      "\u001b[0;31mValueError\u001b[0m                                Traceback (most recent call last)",
      "Cell \u001b[0;32mIn[17], line 4\u001b[0m\n\u001b[1;32m      1\u001b[0m \u001b[38;5;28mprint\u001b[39m(frase\u001b[38;5;241m.\u001b[39mindex(\u001b[38;5;124m\"\u001b[39m\u001b[38;5;124mescenas\u001b[39m\u001b[38;5;124m\"\u001b[39m)) \u001b[38;5;66;03m## encuntra que \"escenas\" esta en el index 52\u001b[39;00m\n\u001b[1;32m      3\u001b[0m \u001b[38;5;66;03m## sino encuntra nada entonces regresa error\u001b[39;00m\n\u001b[0;32m----> 4\u001b[0m \u001b[38;5;28mprint\u001b[39m(\u001b[43mfrase\u001b[49m\u001b[38;5;241;43m.\u001b[39;49m\u001b[43mindex\u001b[49m\u001b[43m(\u001b[49m\u001b[38;5;124;43m\"\u001b[39;49m\u001b[38;5;124;43mHola mundo\u001b[39;49m\u001b[38;5;124;43m\"\u001b[39;49m\u001b[43m)\u001b[49m) \u001b[38;5;66;03m## -1\u001b[39;00m\n",
      "\u001b[0;31mValueError\u001b[0m: substring not found"
     ]
    }
   ],
   "source": [
    "print(frase.index(\"escenas\")) ## encuntra que \"escenas\" esta en el index 52\n",
    "\n",
    "## sino encuntra nada entonces regresa error\n",
    "print(frase.index(\"Hola mundo\")) ## -1"
   ]
  }
 ],
 "metadata": {
  "kernelspec": {
   "display_name": ".venv",
   "language": "python",
   "name": "python3"
  },
  "language_info": {
   "codemirror_mode": {
    "name": "ipython",
    "version": 3
   },
   "file_extension": ".py",
   "mimetype": "text/x-python",
   "name": "python",
   "nbconvert_exporter": "python",
   "pygments_lexer": "ipython3",
   "version": "3.11.9"
  }
 },
 "nbformat": 4,
 "nbformat_minor": 2
}
