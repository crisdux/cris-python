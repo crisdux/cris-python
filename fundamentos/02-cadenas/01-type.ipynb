{
 "cells": [
  {
   "cell_type": "markdown",
   "metadata": {},
   "source": [
    "## Operador `type`\n",
    "El operador `type` de python es útil para poder averiguar el tipo de dato de una variable."
   ]
  },
  {
   "cell_type": "code",
   "execution_count": 2,
   "metadata": {},
   "outputs": [
    {
     "name": "stdout",
     "output_type": "stream",
     "text": [
      "Cristian\n",
      "<class 'str'>\n"
     ]
    }
   ],
   "source": [
    "nombre = \"Cristian\"\n",
    "print(nombre)\n",
    "print(type(nombre))"
   ]
  },
  {
   "cell_type": "markdown",
   "metadata": {},
   "source": [
    "`<class 'str'>` significa que nuestra variable `nombre` es de tipo string. \n",
    "\n",
    "Las cadenas en python son considerados **tipos de datos fundamentales** puesto que no pueden ser reducidos a tipos de datos mas simples. \n",
    "\n",
    "Las cadenas en python cumplen con tres caracteristicas:\n",
    "1. Son un conjunto de caracteres.\n",
    "2. Tienen una longitud establecida (función `len()`).\n",
    "3. Cada caracter esta debidamente indexado en la cadena, lo que significa que tiene una posición establecida."
   ]
  }
 ],
 "metadata": {
  "kernelspec": {
   "display_name": ".venv",
   "language": "python",
   "name": "python3"
  },
  "language_info": {
   "codemirror_mode": {
    "name": "ipython",
    "version": 3
   },
   "file_extension": ".py",
   "mimetype": "text/x-python",
   "name": "python",
   "nbconvert_exporter": "python",
   "pygments_lexer": "ipython3",
   "version": "3.11.9"
  }
 },
 "nbformat": 4,
 "nbformat_minor": 2
}
