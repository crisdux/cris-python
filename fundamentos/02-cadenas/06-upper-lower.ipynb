{
 "cells": [
  {
   "cell_type": "markdown",
   "metadata": {},
   "source": [
    "## upper y lower\n",
    "`upper` y `lower` son métodos de cadenas que permiten convertir una cadena en mayusculas y minusculas respectivamente."
   ]
  },
  {
   "cell_type": "code",
   "execution_count": 4,
   "metadata": {},
   "outputs": [
    {
     "name": "stdout",
     "output_type": "stream",
     "text": [
      "INTEL CORE I9\n",
      "intel core i9\n"
     ]
    }
   ],
   "source": [
    "procesador = \"Intel Core I9\"\n",
    "procesador_upper = procesador.upper()\n",
    "procesador_lower = procesador.lower()\n",
    "print(procesador_upper)\n",
    "print(procesador_lower)"
   ]
  },
  {
   "cell_type": "markdown",
   "metadata": {},
   "source": [
    "Recuerda que las cadenas son inmutables, entonces al aplicar métodos de cadenas estas no sufren cambios, sino que se crean copias de la cadena con los cambios aplicados en ellas.\n",
    "\n",
    "Podemos apreciar esto aplicadndo el método `id` que nos regresa la referencia en memoria donde estan almacenadas nuestras variables y verificamos que efectivamente son variables diferentes. "
   ]
  },
  {
   "cell_type": "code",
   "execution_count": 8,
   "metadata": {},
   "outputs": [
    {
     "name": "stdout",
     "output_type": "stream",
     "text": [
      "134779301430320\n",
      "134779301431920\n"
     ]
    }
   ],
   "source": [
    "print(id(procesador))\n",
    "print(id(procesador_upper))"
   ]
  }
 ],
 "metadata": {
  "kernelspec": {
   "display_name": ".venv",
   "language": "python",
   "name": "python3"
  },
  "language_info": {
   "codemirror_mode": {
    "name": "ipython",
    "version": 3
   },
   "file_extension": ".py",
   "mimetype": "text/x-python",
   "name": "python",
   "nbconvert_exporter": "python",
   "pygments_lexer": "ipython3",
   "version": "3.11.9"
  }
 },
 "nbformat": 4,
 "nbformat_minor": 2
}
