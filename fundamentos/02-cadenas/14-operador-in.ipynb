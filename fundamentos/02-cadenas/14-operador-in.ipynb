{
 "cells": [
  {
   "cell_type": "markdown",
   "metadata": {},
   "source": [
    "## El operador `in`\n",
    "Este operador nos sirve para verificar si una subcadena perrtenece o esta incluida dentro de una cadena. \n",
    "Siempre nos regresa un valor booleano.\n"
   ]
  },
  {
   "cell_type": "code",
   "execution_count": 2,
   "metadata": {},
   "outputs": [
    {
     "name": "stdout",
     "output_type": "stream",
     "text": [
      "True\n",
      "False\n"
     ]
    }
   ],
   "source": [
    "cadena = \"Habia una vez una hermosa princesa...\"\n",
    "print(\"hermosa\" in cadena) ## la sub cadena hermosa si esta en la cadena\n",
    "\n",
    "print(\"habia\" in cadena) ## case sensitive"
   ]
  },
  {
   "cell_type": "code",
   "execution_count": 4,
   "metadata": {},
   "outputs": [
    {
     "name": "stdout",
     "output_type": "stream",
     "text": [
      "False\n"
     ]
    }
   ],
   "source": [
    "## de igual menera podemos verificar si la subcadena no esta incluida \n",
    "\n",
    "frase = \"He cometido el peor pecado que un hombre puede comerter: no he sido feliz\"\n",
    "print(\"pecado\" not in frase) ## False, el subcadena \"pecado\" si esta en la frase\n",
    "\n"
   ]
  }
 ],
 "metadata": {
  "kernelspec": {
   "display_name": ".venv",
   "language": "python",
   "name": "python3"
  },
  "language_info": {
   "codemirror_mode": {
    "name": "ipython",
    "version": 3
   },
   "file_extension": ".py",
   "mimetype": "text/x-python",
   "name": "python",
   "nbconvert_exporter": "python",
   "pygments_lexer": "ipython3",
   "version": "3.11.9"
  }
 },
 "nbformat": 4,
 "nbformat_minor": 2
}
