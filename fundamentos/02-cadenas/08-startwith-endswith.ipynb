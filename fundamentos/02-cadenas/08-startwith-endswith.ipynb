{
 "cells": [
  {
   "cell_type": "markdown",
   "metadata": {},
   "source": [
    "## startswith - endswith\n",
    "Permiten verificar si una cadena empieza o termina con otra sub cadena. \n",
    "Estos métodos siempre regresan un valor booleano (`True` o `False`).\n",
    "Ambos métodos son **case-sentive** o sensibles a mayusculas y minusculas. "
   ]
  },
  {
   "cell_type": "code",
   "execution_count": 6,
   "metadata": {},
   "outputs": [
    {
     "name": "stdout",
     "output_type": "stream",
     "text": [
      "False\n",
      "True\n",
      "True\n",
      "False\n"
     ]
    }
   ],
   "source": [
    "cadena = \"Hola mundo desde Bolivia\"\n",
    "print(cadena.startswith(\"hola\")) # Hola =! hola\n",
    "print(cadena.startswith(\"Hola\"))\n",
    "\n",
    "print(cadena.endswith(\"via\"))\n",
    "print(cadena.endswith(\"viA\"))"
   ]
  }
 ],
 "metadata": {
  "kernelspec": {
   "display_name": ".venv",
   "language": "python",
   "name": "python3"
  },
  "language_info": {
   "codemirror_mode": {
    "name": "ipython",
    "version": 3
   },
   "file_extension": ".py",
   "mimetype": "text/x-python",
   "name": "python",
   "nbconvert_exporter": "python",
   "pygments_lexer": "ipython3",
   "version": "3.11.9"
  }
 },
 "nbformat": 4,
 "nbformat_minor": 2
}
