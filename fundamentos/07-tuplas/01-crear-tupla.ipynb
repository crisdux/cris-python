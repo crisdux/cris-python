{
 "cells": [
  {
   "cell_type": "markdown",
   "metadata": {},
   "source": [
    "## Creación de tuplas\n",
    "Las tuplas son estructuras de datos como las listas pero inmutables, es decir que no podemos cambiar sus valores una vez la tupla fue creada.\n",
    "\n",
    "Para crear una tupla usamos una sintaxis similar a las listas, solo que en vez de usar `[]` usamos `()` de la siguiente manera:"
   ]
  },
  {
   "cell_type": "code",
   "execution_count": 6,
   "metadata": {},
   "outputs": [
    {
     "name": "stdout",
     "output_type": "stream",
     "text": [
      "<class 'list'> <class 'tuple'>\n"
     ]
    }
   ],
   "source": [
    "mi_lista = [1,2,3]\n",
    "mi_tupla = (1,2,3)\n",
    "\n",
    "print(type(mi_lista), type(mi_tupla))"
   ]
  },
  {
   "cell_type": "markdown",
   "metadata": {},
   "source": [
    "Cuando queremos crear una tupla de un solo elemento debemos hacerlo con una coma al final, sino crearemos una cadena, por ejemplo:"
   ]
  },
  {
   "cell_type": "code",
   "execution_count": 7,
   "metadata": {},
   "outputs": [
    {
     "name": "stdout",
     "output_type": "stream",
     "text": [
      "<class 'str'>\n",
      "<class 'tuple'>\n"
     ]
    }
   ],
   "source": [
    "ciudades = (\"Paris\")\n",
    "print(type(ciudades))\n",
    "\n",
    "paises = (\"Francia\",) ## esta coma es super importante\n",
    "print(type(paises)) "
   ]
  },
  {
   "cell_type": "markdown",
   "metadata": {},
   "source": [
    "Finamlente es posible poder crear tuplas sin parentensis d ela siguiente manera:"
   ]
  },
  {
   "cell_type": "code",
   "execution_count": 10,
   "metadata": {},
   "outputs": [
    {
     "name": "stdout",
     "output_type": "stream",
     "text": [
      "<class 'tuple'> <class 'tuple'> <class 'tuple'>\n"
     ]
    }
   ],
   "source": [
    "numeros = 1, \n",
    "nombres = \"Cris\", \"Ana\", \"Fer\"\n",
    "temperaturas = 25.6, 78.9, 58.33\n",
    "\n",
    "print(type(numeros), type(nombres), type(temperaturas))"
   ]
  }
 ],
 "metadata": {
  "kernelspec": {
   "display_name": ".venv",
   "language": "python",
   "name": "python3"
  },
  "language_info": {
   "codemirror_mode": {
    "name": "ipython",
    "version": 3
   },
   "file_extension": ".py",
   "mimetype": "text/x-python",
   "name": "python",
   "nbconvert_exporter": "python",
   "pygments_lexer": "ipython3",
   "version": "3.11.10"
  }
 },
 "nbformat": 4,
 "nbformat_minor": 2
}
