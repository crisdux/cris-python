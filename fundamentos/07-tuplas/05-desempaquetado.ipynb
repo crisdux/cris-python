{
 "cells": [
  {
   "cell_type": "markdown",
   "metadata": {},
   "source": [
    "## Desempaquetado\n",
    "Para poder desempaquetar una tupla podemos hacerlo de la misma manera que con una lista\n"
   ]
  },
  {
   "cell_type": "code",
   "execution_count": 8,
   "metadata": {},
   "outputs": [
    {
     "name": "stdout",
     "output_type": "stream",
     "text": [
      "Cris dux 28\n"
     ]
    }
   ],
   "source": [
    "valores = (\"Cris\", \"dux\", 28)\n",
    "nombre, apodo, edad = valores\n",
    "print(nombre, apodo, edad)"
   ]
  },
  {
   "cell_type": "markdown",
   "metadata": {},
   "source": [
    "Tambien podemos agrupar items en un desempaquetado con el operador `*`\n"
   ]
  },
  {
   "cell_type": "code",
   "execution_count": 9,
   "metadata": {},
   "outputs": [
    {
     "name": "stdout",
     "output_type": "stream",
     "text": [
      "H ['o', 'l'] a\n"
     ]
    }
   ],
   "source": [
    "mi_tupla = (\"H\", \"o\", \"l\", \"a\")\n",
    "primero, *resto, ultimo = mi_tupla\n",
    "print(primero, resto, ultimo)"
   ]
  }
 ],
 "metadata": {
  "kernelspec": {
   "display_name": ".venv",
   "language": "python",
   "name": "python3"
  },
  "language_info": {
   "codemirror_mode": {
    "name": "ipython",
    "version": 3
   },
   "file_extension": ".py",
   "mimetype": "text/x-python",
   "name": "python",
   "nbconvert_exporter": "python",
   "pygments_lexer": "ipython3",
   "version": "3.11.10"
  }
 },
 "nbformat": 4,
 "nbformat_minor": 2
}
