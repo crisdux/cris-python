{
 "cells": [
  {
   "cell_type": "markdown",
   "metadata": {},
   "source": [
    "## Tuplas por comprensión\n",
    "Al igual que con las listas podemos crear tuplas por comprensión con una sintaxis practicamente igual.\n",
    "\n",
    "Por defecto una tupla por comprension regresa un generador, entones es importante recordar usar el operador `tuple` para lograr lo pretendido"
   ]
  },
  {
   "cell_type": "code",
   "execution_count": 2,
   "metadata": {},
   "outputs": [
    {
     "name": "stdout",
     "output_type": "stream",
     "text": [
      "(41, 42, 43, 44, 45, 46, 47, 48, 49, 50)\n"
     ]
    }
   ],
   "source": [
    "mi_tupla = tuple((i for i in range(1,51) if i > 40))\n",
    "print(mi_tupla)"
   ]
  }
 ],
 "metadata": {
  "kernelspec": {
   "display_name": ".venv",
   "language": "python",
   "name": "python3"
  },
  "language_info": {
   "codemirror_mode": {
    "name": "ipython",
    "version": 3
   },
   "file_extension": ".py",
   "mimetype": "text/x-python",
   "name": "python",
   "nbconvert_exporter": "python",
   "pygments_lexer": "ipython3",
   "version": "3.11.10"
  }
 },
 "nbformat": 4,
 "nbformat_minor": 2
}
