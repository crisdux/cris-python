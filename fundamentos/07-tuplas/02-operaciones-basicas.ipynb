{
 "cells": [
  {
   "cell_type": "markdown",
   "metadata": {},
   "source": [
    "## Oepraciones básicas\n",
    "Al igual que con las listas podemos impletar 3 operaciones básicas:\n",
    "* acceder por indice\n",
    "* longitud de una tupla\n",
    "* slicing de tuplas"
   ]
  },
  {
   "cell_type": "code",
   "execution_count": 5,
   "metadata": {},
   "outputs": [
    {
     "name": "stdout",
     "output_type": "stream",
     "text": [
      "4\n",
      "10\n",
      "(2, 4, 6, 8)\n"
     ]
    }
   ],
   "source": [
    "mi_tupla = (1,2,3,4,5,6,7,8,9,10)\n",
    "print(mi_tupla[3])\n",
    "print(len(mi_tupla))\n",
    "print(mi_tupla[1:9:2])"
   ]
  }
 ],
 "metadata": {
  "kernelspec": {
   "display_name": ".venv",
   "language": "python",
   "name": "python3"
  },
  "language_info": {
   "codemirror_mode": {
    "name": "ipython",
    "version": 3
   },
   "file_extension": ".py",
   "mimetype": "text/x-python",
   "name": "python",
   "nbconvert_exporter": "python",
   "pygments_lexer": "ipython3",
   "version": "3.11.10"
  }
 },
 "nbformat": 4,
 "nbformat_minor": 2
}
