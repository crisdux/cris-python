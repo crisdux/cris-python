{
 "cells": [
  {
   "cell_type": "markdown",
   "metadata": {},
   "source": [
    "## Set\n",
    "Un set o conjunto de datos en python esuna estructura que no permite valores repetidos y cuyos valores no tienen un orden establecido. Se parece mucho al concepto matematico de conjunto."
   ]
  },
  {
   "cell_type": "code",
   "execution_count": 4,
   "metadata": {},
   "outputs": [
    {
     "name": "stdout",
     "output_type": "stream",
     "text": [
      "{'Pepe', 'Roberto', 'Ana', 'Juan'} <class 'set'>\n",
      "{} <class 'dict'>\n",
      "set() <class 'set'>\n"
     ]
    }
   ],
   "source": [
    "amigos = {\"Ana\", \"Pepe\", \"Juan\", \"Ana\", \"Roberto\"}\n",
    "print(amigos, type(amigos)) ## elimina el item \"Ana\" porque un set no admite itemes repetidos\n",
    "\n",
    "## para crear un set vacio usamos la función set\n",
    "set_vacio = {} ## error, esto es un dict\n",
    "print(set_vacio, type(set_vacio)) \n",
    "\n",
    "otro_set_vacio = set()\n",
    "print(otro_set_vacio, type(otro_set_vacio))"
   ]
  }
 ],
 "metadata": {
  "kernelspec": {
   "display_name": ".venv",
   "language": "python",
   "name": "python3"
  },
  "language_info": {
   "codemirror_mode": {
    "name": "ipython",
    "version": 3
   },
   "file_extension": ".py",
   "mimetype": "text/x-python",
   "name": "python",
   "nbconvert_exporter": "python",
   "pygments_lexer": "ipython3",
   "version": "3.11.10"
  }
 },
 "nbformat": 4,
 "nbformat_minor": 2
}
