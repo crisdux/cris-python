{
 "cells": [
  {
   "cell_type": "markdown",
   "metadata": {},
   "source": [
    "## Agregar item set\n",
    "Debido a que un set no es una estructura de datos indexada no es posible acceder a un item particular de el ni tampoco poder modificar un item a nuestro criterio.\n",
    "\n",
    "Lo que si podemos hacer es agregar nuevos items a un set, esto se logra con la función `add`"
   ]
  },
  {
   "cell_type": "code",
   "execution_count": 1,
   "metadata": {},
   "outputs": [
    {
     "name": "stdout",
     "output_type": "stream",
     "text": [
      "{'fresa', 'limon', 'mango', 'zandia', 'pera'}\n"
     ]
    }
   ],
   "source": [
    "frutas = [\"mango\", \"limon\", \"pera\", \"fresa\"]\n",
    "frutas_set = set(frutas)\n",
    "frutas_set.add(\"zandia\") ## zandia se agrega al set, pero no sabemos a que posición del mismo\n",
    "print(frutas_set) "
   ]
  }
 ],
 "metadata": {
  "kernelspec": {
   "display_name": ".venv",
   "language": "python",
   "name": "python3"
  },
  "language_info": {
   "codemirror_mode": {
    "name": "ipython",
    "version": 3
   },
   "file_extension": ".py",
   "mimetype": "text/x-python",
   "name": "python",
   "nbconvert_exporter": "python",
   "pygments_lexer": "ipython3",
   "version": "3.11.10"
  }
 },
 "nbformat": 4,
 "nbformat_minor": 2
}
