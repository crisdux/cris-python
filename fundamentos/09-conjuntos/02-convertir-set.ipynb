{
 "cells": [
  {
   "cell_type": "markdown",
   "metadata": {},
   "source": [
    "## Covertir set\n",
    "Podemos convetir cualquier iterable de python a conjunto.\n",
    "Es muy importante recordar que los items de los set no tienen ningun orden en particular"
   ]
  },
  {
   "cell_type": "code",
   "execution_count": 12,
   "metadata": {},
   "outputs": [
    {
     "name": "stdout",
     "output_type": "stream",
     "text": [
      "{'t', 'n', 'r', 'C', 'a', 's', 'i'}\n",
      "{'Juan', 'Ana', 'Pepe'}\n",
      "{1, 2, 3, 4, 5}\n",
      "{'cola', 'tipo', 'nombre', 'edad'}\n"
     ]
    }
   ],
   "source": [
    "nombre = \"Cristian\"\n",
    "print(set(nombre))\n",
    "\n",
    "amigos = [\"Ana\", \"Pepe\", \"Juan\"]\n",
    "print(set(amigos))\n",
    "\n",
    "numeros = (1,2,3,4,5,1)\n",
    "print(set(numeros))\n",
    "\n",
    "animal = {\n",
    "    \"nombre\": \"Boby\",\n",
    "    \"tipo\": \"perro\",\n",
    "    \"cola\": True,\n",
    "    \"edad\": 4\n",
    "}\n",
    "\n",
    "print(set(animal)) ## para un dict regresamos todas las claves"
   ]
  }
 ],
 "metadata": {
  "kernelspec": {
   "display_name": ".venv",
   "language": "python",
   "name": "python3"
  },
  "language_info": {
   "codemirror_mode": {
    "name": "ipython",
    "version": 3
   },
   "file_extension": ".py",
   "mimetype": "text/x-python",
   "name": "python",
   "nbconvert_exporter": "python",
   "pygments_lexer": "ipython3",
   "version": "3.11.10"
  }
 },
 "nbformat": 4,
 "nbformat_minor": 2
}
