{
 "cells": [
  {
   "cell_type": "markdown",
   "metadata": {},
   "source": [
    "## set inmutable\n",
    "Podemos crear sets que no se puedan modificar usando la función `frozenset()`. El resultado sera el mismo que lo es una tupla para una lista, una estructura de datos inmutable"
   ]
  },
  {
   "cell_type": "code",
   "execution_count": 2,
   "metadata": {},
   "outputs": [
    {
     "name": "stdout",
     "output_type": "stream",
     "text": [
      "frozenset({'e', 'd', 'a', 'b', 'c'})\n"
     ]
    },
    {
     "ename": "AttributeError",
     "evalue": "'frozenset' object has no attribute 'add'",
     "output_type": "error",
     "traceback": [
      "\u001b[0;31m---------------------------------------------------------------------------\u001b[0m",
      "\u001b[0;31mAttributeError\u001b[0m                            Traceback (most recent call last)",
      "Cell \u001b[0;32mIn[2], line 4\u001b[0m\n\u001b[1;32m      2\u001b[0m set_inmutable \u001b[38;5;241m=\u001b[39m \u001b[38;5;28mfrozenset\u001b[39m(my_set)\n\u001b[1;32m      3\u001b[0m \u001b[38;5;28mprint\u001b[39m(set_inmutable)\n\u001b[0;32m----> 4\u001b[0m \u001b[43mset_inmutable\u001b[49m\u001b[38;5;241;43m.\u001b[39;49m\u001b[43madd\u001b[49m(\u001b[38;5;124m\"\u001b[39m\u001b[38;5;124mf\u001b[39m\u001b[38;5;124m\"\u001b[39m)\n",
      "\u001b[0;31mAttributeError\u001b[0m: 'frozenset' object has no attribute 'add'"
     ]
    }
   ],
   "source": [
    "my_set = {\"a\", \"b\", \"c\", \"d\", \"e\"}\n",
    "set_inmutable = frozenset(my_set)\n",
    "print(set_inmutable)\n",
    "set_inmutable.add(\"f\") ## no se puede agregar mas elementos a un frozenset"
   ]
  }
 ],
 "metadata": {
  "kernelspec": {
   "display_name": ".venv",
   "language": "python",
   "name": "python3"
  },
  "language_info": {
   "codemirror_mode": {
    "name": "ipython",
    "version": 3
   },
   "file_extension": ".py",
   "mimetype": "text/x-python",
   "name": "python",
   "nbconvert_exporter": "python",
   "pygments_lexer": "ipython3",
   "version": "3.11.10"
  }
 },
 "nbformat": 4,
 "nbformat_minor": 2
}
