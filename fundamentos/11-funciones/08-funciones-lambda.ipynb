{
 "cells": [
  {
   "cell_type": "markdown",
   "metadata": {},
   "source": [
    "## Funciones lambda\n",
    "Las funciones lambda en python son funciones que tienen las siguientes caracteriristicas:\n",
    "* Se declaran en una sola linea sin usar la palabra reservada `def` sino `lambda`.\n",
    "* Tienen `return` implicito\n",
    "* Se usan por lo general en funciones que sirven como argumento para otras funciones mejorando la legibilidad del codigo"
   ]
  },
  {
   "cell_type": "code",
   "execution_count": 3,
   "metadata": {},
   "outputs": [
    {
     "name": "stdout",
     "output_type": "stream",
     "text": [
      "7\n",
      "7\n"
     ]
    }
   ],
   "source": [
    "def def_suma(a,b):\n",
    "    return a +b\n",
    "\n",
    "lambda_suma = lambda a, b: a + b\n",
    "# lambda parametros: expresion a retornar\n",
    "\n",
    "print(def_suma(2,5))\n",
    "print(lambda_suma(2,5))"
   ]
  }
 ],
 "metadata": {
  "kernelspec": {
   "display_name": ".venv",
   "language": "python",
   "name": "python3"
  },
  "language_info": {
   "codemirror_mode": {
    "name": "ipython",
    "version": 3
   },
   "file_extension": ".py",
   "mimetype": "text/x-python",
   "name": "python",
   "nbconvert_exporter": "python",
   "pygments_lexer": "ipython3",
   "version": "3.11.10"
  }
 },
 "nbformat": 4,
 "nbformat_minor": 2
}
