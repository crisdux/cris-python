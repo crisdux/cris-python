{
 "cells": [
  {
   "cell_type": "markdown",
   "metadata": {},
   "source": [
    "## Argumentos posicionales\n",
    "En Python tenemos 2 tipos de parametros, los posicionales y los nominales.\n",
    "\n",
    "Los posicionales se caractereizan por que deben ser pasados a la función en el mismo orden en el que fueron declarados.\n",
    "\n",
    "Mientras que los nominales son argumentos nombrados y que por ello mismo no es necesario que se los pase en el mismo orden en que fueron declarados.\n",
    "\n",
    "An ambos casos los parametros se escriben igual, la unica diferencia esta en como llamamamos a la función, con parametros por posición o por nombre."
   ]
  },
  {
   "cell_type": "code",
   "execution_count": 1,
   "metadata": {},
   "outputs": [
    {
     "name": "stdout",
     "output_type": "stream",
     "text": [
      "Hola, soy 25 Suarez y tengo Ana años\n"
     ]
    }
   ],
   "source": [
    "def saludo(nombre, apellido, edad):\n",
    "    return f\"Hola, soy {nombre} {apellido} y tengo {edad} años\"\n",
    "\n",
    "print(saludo(25, \"Suarez\", \"Ana\")) ## pasamos en diferente orden los argumentos posicionales\n",
    "\n"
   ]
  },
  {
   "cell_type": "code",
   "execution_count": 2,
   "metadata": {},
   "outputs": [
    {
     "name": "stdout",
     "output_type": "stream",
     "text": [
      "Hola, soy Ana Suarez y tengo 25 años\n"
     ]
    }
   ],
   "source": [
    "def saludo2(nombre, apellido, edad):\n",
    "    return f\"Hola, soy {nombre} {apellido} y tengo {edad} años\"\n",
    "\n",
    "print(saludo2(edad=25, apellido=\"Suarez\", nombre=\"Ana\")) ## pasamos los argumentos nominalmente, entonces no imoprta el orden"
   ]
  }
 ],
 "metadata": {
  "kernelspec": {
   "display_name": ".venv",
   "language": "python",
   "name": "python3"
  },
  "language_info": {
   "codemirror_mode": {
    "name": "ipython",
    "version": 3
   },
   "file_extension": ".py",
   "mimetype": "text/x-python",
   "name": "python",
   "nbconvert_exporter": "python",
   "pygments_lexer": "ipython3",
   "version": "3.11.10"
  }
 },
 "nbformat": 4,
 "nbformat_minor": 2
}
