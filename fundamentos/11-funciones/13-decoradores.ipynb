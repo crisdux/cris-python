{
 "cells": [
  {
   "cell_type": "markdown",
   "metadata": {},
   "source": [
    "## Decoradores\n",
    "Los decoradores son funciones que sirven para modificar el comportamiento de tras funciones sin necesitad de cambiar su codigo.\n",
    "\n",
    "Es una muy buena manera de poder reutilizar codigo sin alterar el codigo original de la funcion que queremos decorar."
   ]
  },
  {
   "cell_type": "code",
   "execution_count": 30,
   "metadata": {},
   "outputs": [
    {
     "name": "stdout",
     "output_type": "stream",
     "text": [
      "13\n",
      "0b1101\n"
     ]
    }
   ],
   "source": [
    "\n",
    "## escribimos un decorador\n",
    "def decimal_a_binario(fun):\n",
    "    def envoltura(a, b):\n",
    "        res = fun(a, b)\n",
    "        return bin(res)\n",
    "    return envoltura\n",
    "\n",
    "def suma(a, b): ## funcion simple\n",
    "    return a + b\n",
    "\n",
    "print(suma(5,8)) ##13\n",
    "\n",
    "@decimal_a_binario\n",
    "def suma(a, b): ## funcio decorada, cambiamos su funcionamiento sin alterar su codigo original\n",
    "    return a + b\n",
    "\n",
    "print(suma(5,8)) ## regresa el 13 convertido a bianario"
   ]
  },
  {
   "cell_type": "code",
   "execution_count": 31,
   "metadata": {},
   "outputs": [
    {
     "name": "stdout",
     "output_type": "stream",
     "text": [
      "Antes del saludo\n",
      "Hola mundo\n",
      "Despues del saludo\n",
      "None\n"
     ]
    }
   ],
   "source": [
    "## otro ejemplo\n",
    "\n",
    "def modificar_saludo(fn):\n",
    "    def envoltura():\n",
    "        print(\"Antes del saludo\")\n",
    "        print(fn())\n",
    "        print(\"Despues del saludo\")\n",
    "    return envoltura\n",
    "\n",
    "@modificar_saludo\n",
    "def saludo():\n",
    "    return \"Hola mundo\"\n",
    "\n",
    "print(saludo())\n",
    "\n"
   ]
  },
  {
   "cell_type": "code",
   "execution_count": 34,
   "metadata": {},
   "outputs": [
    {
     "name": "stdout",
     "output_type": "stream",
     "text": [
      "2\n",
      "None\n",
      "None\n",
      "None\n"
     ]
    }
   ],
   "source": [
    "## otro ejemplo es manipular los parametros de la funcion\n",
    "\n",
    "\n",
    "def solo_enteros(fn):\n",
    "    def wrapper(*args, **kwargs)->int:\n",
    "        if len(args) == 2 and not kwargs: ## tiene que tener 2 parametros posicionales\n",
    "            param1, param2 = args\n",
    "            if type(param1) == int and type(param2) == int: ## ambos deben ser numeros enteros\n",
    "                return fn(param1, param2)\n",
    "        return None\n",
    "    return wrapper\n",
    "\n",
    "\n",
    "@solo_enteros\n",
    "def suma(a, b): ## quiero que siempre reciba 2 parametros y que sean enteros siempre, sino regresar None\n",
    "    return a + b\n",
    "\n",
    "\n",
    "print(suma(1,1))\n",
    "print(suma(1,\"1\"))\n",
    "print(suma(1, 1.1))\n",
    "print(suma(1,2,3))\n"
   ]
  }
 ],
 "metadata": {
  "kernelspec": {
   "display_name": ".venv",
   "language": "python",
   "name": "python3"
  },
  "language_info": {
   "codemirror_mode": {
    "name": "ipython",
    "version": 3
   },
   "file_extension": ".py",
   "mimetype": "text/x-python",
   "name": "python",
   "nbconvert_exporter": "python",
   "pygments_lexer": "ipython3",
   "version": "3.11.10"
  }
 },
 "nbformat": 4,
 "nbformat_minor": 2
}
