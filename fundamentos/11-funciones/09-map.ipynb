{
 "cells": [
  {
   "cell_type": "markdown",
   "metadata": {},
   "source": [
    "## map\n",
    "Un map en python luce de la siguiente manera: `map(funcion, lista)`\n",
    "El map sirve para aplicar una funcion sobre cada item de una lista. El map regresa siempre un generador, por lo que debemos convertirlo a lista"
   ]
  },
  {
   "cell_type": "code",
   "execution_count": 3,
   "metadata": {},
   "outputs": [
    {
     "name": "stdout",
     "output_type": "stream",
     "text": [
      "[1, 4, 9, 16, 25]\n",
      "['Juan', 'Ana', 'Carlos']\n"
     ]
    }
   ],
   "source": [
    "numeros_cuadrado = list(map(lambda x: x**2, [1,2,3,4,5]))\n",
    "print(numeros_cuadrado)\n",
    "\n",
    "nombres_corregidos = list(map(lambda x: x[0].upper()+x[1:].lower(), [\"juan\", \"ana\", \"carlos\"]))\n",
    "print(nombres_corregidos)"
   ]
  }
 ],
 "metadata": {
  "kernelspec": {
   "display_name": ".venv",
   "language": "python",
   "name": "python3"
  },
  "language_info": {
   "codemirror_mode": {
    "name": "ipython",
    "version": 3
   },
   "file_extension": ".py",
   "mimetype": "text/x-python",
   "name": "python",
   "nbconvert_exporter": "python",
   "pygments_lexer": "ipython3",
   "version": "3.11.10"
  }
 },
 "nbformat": 4,
 "nbformat_minor": 2
}
