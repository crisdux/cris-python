{
 "cells": [
  {
   "cell_type": "markdown",
   "metadata": {},
   "source": [
    "## Closure\n",
    "Un clousure en python es una función especial que se caracteriza por guardar un estado.\n",
    "De cumplir con los siguientes puntos:\n",
    "* Debe ser una función anidada\n",
    "* La funcion interna debe acceder a las variables de la funcién externa\n",
    "* La la función externa debe regresar a la función interna en su cuerpo\n",
    "\n",
    "Los closures con útiles por que pueden recordar variables de la función externa aun cuando esta haya terminado su ejecución por lo que se puede decir que son funciones con estado o con memoria."
   ]
  },
  {
   "cell_type": "code",
   "execution_count": 7,
   "metadata": {},
   "outputs": [
    {
     "name": "stdout",
     "output_type": "stream",
     "text": [
      "1\n",
      "2\n"
     ]
    }
   ],
   "source": [
    "## ejemplo 1: contador\n",
    "def mi_contador():\n",
    "    contador = 0\n",
    "    def cuenta(): ## cuenta es una funcion anidada\n",
    "        nonlocal contador\n",
    "        contador = contador + 1 ## la funcion interna accede a contador de la funcion externa\n",
    "        return contador\n",
    "    return cuenta ## la función externa regresa la funcion interna\n",
    "\n",
    "contador = mi_contador()\n",
    "print(contador()) ## 1\n",
    "print(contador()) ## deberia imprimir 1 de nuevo, pero recuerda que contador = 1 entonces regresa 2\n"
   ]
  },
  {
   "cell_type": "code",
   "execution_count": 8,
   "metadata": {},
   "outputs": [
    {
     "name": "stdout",
     "output_type": "stream",
     "text": [
      "Hola Juan\n",
      "Hi Jhon\n"
     ]
    }
   ],
   "source": [
    "## ejemplo 2: personalizar funciones\n",
    "\n",
    "def saludar(saludo:str):\n",
    "    def saludo_personalizado(nombre:str):\n",
    "        return f\"{saludo} {nombre}\"\n",
    "    return saludo_personalizado\n",
    "\n",
    "saludo_español = saludar(\"Hola\")\n",
    "print(saludo_español(\"Juan\"))\n",
    "\n",
    "print(saludar(\"Hi\")(\"Jhon\")) "
   ]
  }
 ],
 "metadata": {
  "kernelspec": {
   "display_name": ".venv",
   "language": "python",
   "name": "python3"
  },
  "language_info": {
   "codemirror_mode": {
    "name": "ipython",
    "version": 3
   },
   "file_extension": ".py",
   "mimetype": "text/x-python",
   "name": "python",
   "nbconvert_exporter": "python",
   "pygments_lexer": "ipython3",
   "version": "3.11.10"
  }
 },
 "nbformat": 4,
 "nbformat_minor": 2
}
