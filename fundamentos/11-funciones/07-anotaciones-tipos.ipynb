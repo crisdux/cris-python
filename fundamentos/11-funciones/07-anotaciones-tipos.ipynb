{
 "cells": [
  {
   "cell_type": "markdown",
   "metadata": {},
   "source": [
    "## Las anotaciones de tipos\n",
    "Las anotaciones de tipos son una manera que tiene python para indicar de que tipo de datos son los parametros de una función y que tipo de dato regresa.\n",
    "\n",
    "Esta notacion es netamente visual para el programador ya que en realidad no obliga a escribir bien los parametros, solo sirve como una guia para autodocumentar el código escrito."
   ]
  },
  {
   "cell_type": "code",
   "execution_count": 2,
   "metadata": {},
   "outputs": [
    {
     "name": "stdout",
     "output_type": "stream",
     "text": [
      "255.2\n",
      "HolaMundo\n"
     ]
    }
   ],
   "source": [
    "def mi_funcion(a:int, b:float)-> float:\n",
    "    return a + b\n",
    "\n",
    "print(mi_funcion(2, 253.2)) ## bien, cumple la anotacion de tipo\n",
    "print(mi_funcion(\"Hola\", \"Mundo\")) ## mal, pero igual se ejecuta"
   ]
  },
  {
   "cell_type": "code",
   "execution_count": 1,
   "metadata": {},
   "outputs": [
    {
     "name": "stdout",
     "output_type": "stream",
     "text": [
      "100\n"
     ]
    }
   ],
   "source": [
    "## tambien funciona con valores por defecto\n",
    "def test(a:int, b:int = 50)-> int:\n",
    "    return a * b\n",
    "\n",
    "print(test(2))\n",
    "\n"
   ]
  }
 ],
 "metadata": {
  "kernelspec": {
   "display_name": ".venv",
   "language": "python",
   "name": "python3"
  },
  "language_info": {
   "codemirror_mode": {
    "name": "ipython",
    "version": 3
   },
   "file_extension": ".py",
   "mimetype": "text/x-python",
   "name": "python",
   "nbconvert_exporter": "python",
   "pygments_lexer": "ipython3",
   "version": "3.11.10"
  }
 },
 "nbformat": 4,
 "nbformat_minor": 2
}
