{
 "cells": [
  {
   "cell_type": "markdown",
   "metadata": {},
   "source": [
    "## Argumentos solo posicionales\n",
    "Podemos escribir parametros posiciones usado `/` en una funcion, donde todos los parametros antes del operador deben ser posicionales"
   ]
  },
  {
   "cell_type": "code",
   "execution_count": 3,
   "metadata": {},
   "outputs": [
    {
     "name": "stdout",
     "output_type": "stream",
     "text": [
      "14\n"
     ]
    }
   ],
   "source": [
    "def test(a, b, /, c, d=1): ## a y b deben ser posicionales de manera obligatoria\n",
    "    return a + b + c + d\n",
    "\n",
    "print(test(1, 2, 8, 3))\n"
   ]
  },
  {
   "cell_type": "code",
   "execution_count": 5,
   "metadata": {},
   "outputs": [
    {
     "name": "stdout",
     "output_type": "stream",
     "text": [
      "(3, 12)\n"
     ]
    }
   ],
   "source": [
    "## podemos unir * con /\n",
    "\n",
    "def fn_especial(x, y, /, *, a=5, b=10): ## x, y deben ser si o si posicionales. a,b deben ser si o si nominales\n",
    "    return x+y, a*b\n",
    "\n",
    "print(fn_especial(1,2, a=3, b=4))"
   ]
  }
 ],
 "metadata": {
  "kernelspec": {
   "display_name": ".venv",
   "language": "python",
   "name": "python3"
  },
  "language_info": {
   "codemirror_mode": {
    "name": "ipython",
    "version": 3
   },
   "file_extension": ".py",
   "mimetype": "text/x-python",
   "name": "python",
   "nbconvert_exporter": "python",
   "pygments_lexer": "ipython3",
   "version": "3.11.10"
  }
 },
 "nbformat": 4,
 "nbformat_minor": 2
}
