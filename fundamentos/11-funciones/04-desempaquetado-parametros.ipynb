{
 "cells": [
  {
   "cell_type": "markdown",
   "metadata": {},
   "source": [
    "## Desempaquetado de parametros\n",
    "Usando el operador `*` un parametro se convierte en una tupla y usando el operador `**` se convierte en un diccionario."
   ]
  },
  {
   "cell_type": "code",
   "execution_count": 2,
   "metadata": {},
   "outputs": [
    {
     "name": "stdout",
     "output_type": "stream",
     "text": [
      "[4, 5]\n"
     ]
    }
   ],
   "source": [
    "def iter_lista(*values): ##values es una tupla\n",
    "    res = []\n",
    "    for i in values:\n",
    "        if i >=4:\n",
    "            res.append(i)\n",
    "    return res\n",
    "\n",
    "print(iter_lista(1,2,3,4,5))"
   ]
  },
  {
   "cell_type": "code",
   "execution_count": 3,
   "metadata": {},
   "outputs": [
    {
     "name": "stdout",
     "output_type": "stream",
     "text": [
      "[('nombre', 'Cris'), ('edad', 28)]\n"
     ]
    }
   ],
   "source": [
    "def iter_dict(**persona): ## persona es un dict\n",
    "    res = []\n",
    "    for clave, valor in persona.items():\n",
    "        res.append((clave, valor))\n",
    "    return res\n",
    "\n",
    "print(iter_dict(nombre=\"Cris\", edad=28))"
   ]
  }
 ],
 "metadata": {
  "kernelspec": {
   "display_name": ".venv",
   "language": "python",
   "name": "python3"
  },
  "language_info": {
   "codemirror_mode": {
    "name": "ipython",
    "version": 3
   },
   "file_extension": ".py",
   "mimetype": "text/x-python",
   "name": "python",
   "nbconvert_exporter": "python",
   "pygments_lexer": "ipython3",
   "version": "3.11.10"
  }
 },
 "nbformat": 4,
 "nbformat_minor": 2
}
