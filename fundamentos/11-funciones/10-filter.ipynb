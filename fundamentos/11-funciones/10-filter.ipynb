{
 "cells": [
  {
   "cell_type": "markdown",
   "metadata": {},
   "source": [
    "## filter\n",
    "Al igual que map filter es una funcion que se ve como: `filter(funcion, lista)`\n",
    "Sirve para poder filtrar una lista de datos segun la condicion que le pasemos"
   ]
  },
  {
   "cell_type": "code",
   "execution_count": 3,
   "metadata": {},
   "outputs": [
    {
     "name": "stdout",
     "output_type": "stream",
     "text": [
      "[96, 47, 22]\n",
      "[96, 47, 22]\n"
     ]
    }
   ],
   "source": [
    "mayores_18 = list(filter(lambda x: x>18, [8,15,96,47,22]))\n",
    "print(mayores_18)\n",
    "\n",
    "## podemos lograr esto tambien usando listas por comprension\n",
    "mayores_18_compresion = [x for x in [8,15,96,47,22] if x>18]\n",
    "print(mayores_18_compresion)\n"
   ]
  }
 ],
 "metadata": {
  "kernelspec": {
   "display_name": ".venv",
   "language": "python",
   "name": "python3"
  },
  "language_info": {
   "codemirror_mode": {
    "name": "ipython",
    "version": 3
   },
   "file_extension": ".py",
   "mimetype": "text/x-python",
   "name": "python",
   "nbconvert_exporter": "python",
   "pygments_lexer": "ipython3",
   "version": "3.11.10"
  }
 },
 "nbformat": 4,
 "nbformat_minor": 2
}
