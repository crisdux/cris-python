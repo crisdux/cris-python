{
 "cells": [
  {
   "cell_type": "markdown",
   "metadata": {},
   "source": [
    "## Parametros vs argumentos\n",
    "Los parametros son las variables locales que recibe una función para poder ejecutar su cuerpo mietras que los argumentos son los valores en duro que le pasamos a la función al mmomento de su llamada.\n",
    "\n",
    "Los parametros se declaran junto con la función mientras que los argumentos se los pase al momento de invocar la función.\n"
   ]
  },
  {
   "cell_type": "code",
   "execution_count": 1,
   "metadata": {},
   "outputs": [
    {
     "name": "stdout",
     "output_type": "stream",
     "text": [
      "Cris\n"
     ]
    }
   ],
   "source": [
    "def get_nombre(nombre): ## nombre es un parametro\n",
    "    return nombre\n",
    "\n",
    "print(get_nombre(\"Cris\")) ## Cris es el argumento que se le pasa a la función"
   ]
  }
 ],
 "metadata": {
  "kernelspec": {
   "display_name": ".venv",
   "language": "python",
   "name": "python3"
  },
  "language_info": {
   "codemirror_mode": {
    "name": "ipython",
    "version": 3
   },
   "file_extension": ".py",
   "mimetype": "text/x-python",
   "name": "python",
   "nbconvert_exporter": "python",
   "pygments_lexer": "ipython3",
   "version": "3.11.10"
  }
 },
 "nbformat": 4,
 "nbformat_minor": 2
}
