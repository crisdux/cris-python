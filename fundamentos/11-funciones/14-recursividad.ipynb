{
 "cells": [
  {
   "cell_type": "markdown",
   "metadata": {},
   "source": [
    "## Recursividad\n",
    "La recursividad es una tecnica en programacion que consiste en llamar a una funcion dentro del cuerpo de la misma. Esto permite resolver problemas desde un efoque diferente y en muchos casos elegante. \n",
    "\n",
    "Es similar a usar bucles. Recuerda que cuando usamos bucles podemos caer en un asecuencia infinita si el bucle no esta bien escrito, lo mismo pasa al usar funciones recursivas, podemos hacer que la funcion ds ejecute hasta el infinito haciendo que consuma toda la RAM del ordenador y este queee colgado.\n",
    "\n",
    "### Las caracteristicas de una función recursiva son:\n",
    "* Debe ser llamada dentro del cuerpo de la funcion\n",
    "* Debemos establer un caso base o punto de parada para que el programa se detenga en un momento dado y deje de llamarse a si misma de manera ideterminada.\n",
    "* Debemos tener el claro cual sera el punto de inicio y cual el punto final al momento de usar la funcion recursiva, esto hara que sea mas facil escribirla\n",
    "* En cada nueva llamada a la función nos debemos acercar mas y mas al caso base, osea debemos ir consuminedo el intervalo de valores (inicio y fin) que recibira la función para ahcer bien su trabajo."
   ]
  },
  {
   "cell_type": "code",
   "execution_count": 1,
   "metadata": {},
   "outputs": [
    {
     "name": "stdout",
     "output_type": "stream",
     "text": [
      "120\n"
     ]
    }
   ],
   "source": [
    "## factorial\n",
    "def factorial(n):\n",
    "    if n == 1:\n",
    "        return 1\n",
    "    else:\n",
    "        return n * factorial(n - 1) ## en cada iteracion restamos 1 al valor dado, eso hace que nos acerquemos mas al caso base\n",
    "        ## 5 * factorial(5-1)\n",
    "        ## 4 * factorial(4-1)...\n",
    "print(factorial(5)) ## 5 * 4 * 3 * 2 * 1, el intervalo comienza en 5 y termina en 1\n"
   ]
  },
  {
   "cell_type": "code",
   "execution_count": 5,
   "metadata": {},
   "outputs": [
    {
     "name": "stdout",
     "output_type": "stream",
     "text": [
      "ola h olah\n",
      "la o lao\n",
      "a l al\n",
      " a a\n",
      "aloh\n"
     ]
    }
   ],
   "source": [
    "## dar vuelta una cadena\n",
    "def revertir_cadena(cadena:str):\n",
    "    if len(cadena) == 0:\n",
    "        return cadena\n",
    "    else:\n",
    "        print(cadena[1:], cadena[0], cadena[1:] + cadena[0])\n",
    "        return revertir_cadena(cadena[1:]) + cadena[0]\n",
    "\n",
    "print(revertir_cadena(\"hola\")) ## aloh"
   ]
  }
 ],
 "metadata": {
  "kernelspec": {
   "display_name": ".venv",
   "language": "python",
   "name": "python3"
  },
  "language_info": {
   "codemirror_mode": {
    "name": "ipython",
    "version": 3
   },
   "file_extension": ".py",
   "mimetype": "text/x-python",
   "name": "python",
   "nbconvert_exporter": "python",
   "pygments_lexer": "ipython3",
   "version": "3.11.10"
  }
 },
 "nbformat": 4,
 "nbformat_minor": 2
}
