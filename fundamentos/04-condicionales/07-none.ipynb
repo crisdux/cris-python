{
 "cells": [
  {
   "cell_type": "markdown",
   "metadata": {},
   "source": [
    "## None\n",
    "None es una palabra reservada de python que nos ayuda a establecer la carancia de valor para una variable.\n",
    "Al momento de usarlo con concionales es importante hacerlo con el operador `is`.\n",
    "`is` permite comparar unicamente el espacio en memoria que ocupa y no asi el valor como tal."
   ]
  },
  {
   "cell_type": "code",
   "execution_count": 4,
   "metadata": {},
   "outputs": [
    {
     "name": "stdout",
     "output_type": "stream",
     "text": [
      "nunca entre al if\n"
     ]
    }
   ],
   "source": [
    "vacio = None \n",
    "\n",
    "if vacio:\n",
    "    print(\"entre al if\")\n",
    "else:\n",
    "    print(\"nunca entre al if\")"
   ]
  },
  {
   "cell_type": "code",
   "execution_count": 5,
   "metadata": {},
   "outputs": [
    {
     "name": "stdout",
     "output_type": "stream",
     "text": [
      "135304234889840\n",
      "135304234889840\n"
     ]
    }
   ],
   "source": [
    "print(id(vacio))\n",
    "print(id(None))\n",
    "\n",
    "## tanto vacio como None tienen el mismo espacio de memoria\n",
    "## esto pasa por que python precarga algunas variables para los programas, siendo None uno de estos\n"
   ]
  },
  {
   "cell_type": "code",
   "execution_count": 6,
   "metadata": {},
   "outputs": [
    {
     "name": "stdout",
     "output_type": "stream",
     "text": [
      "entra al if\n",
      "----\n",
      "entra al if\n"
     ]
    }
   ],
   "source": [
    "## entonces por que no usar == para comparar None? \n",
    "## en la practica parece que represeta lo mismo\n",
    "\n",
    "if vacio == None:\n",
    "    print(\"entra al if\")\n",
    "else:\n",
    "    print(\"no entra al if\")\n",
    "\n",
    "print(\"----\")\n",
    "\n",
    "if vacio is None:\n",
    "    print(\"entra al if\")\n",
    "else:\n",
    "    print(\"no entra al if\")\n",
    "\n",
    "## en este caso == pareciera que es lo mismo que is\n",
    "## pero is se encarga unicamete de comparar los espacios en memoria que ocupa un obejto\n",
    "## en nuestro ejemplo tanto vacio como None ocupan la misma direccion, por ello entra al if"
   ]
  }
 ],
 "metadata": {
  "kernelspec": {
   "display_name": ".venv",
   "language": "python",
   "name": "python3"
  },
  "language_info": {
   "codemirror_mode": {
    "name": "ipython",
    "version": 3
   },
   "file_extension": ".py",
   "mimetype": "text/x-python",
   "name": "python",
   "nbconvert_exporter": "python",
   "pygments_lexer": "ipython3",
   "version": "3.11.10"
  }
 },
 "nbformat": 4,
 "nbformat_minor": 2
}
