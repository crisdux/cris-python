{
 "cells": [
  {
   "cell_type": "markdown",
   "metadata": {},
   "source": [
    "## `if` de una sola linea\n",
    "Es posible escribir un `if` en una sola linea. Se recomienda su uso para condiciones de si o no."
   ]
  },
  {
   "cell_type": "code",
   "execution_count": 1,
   "metadata": {},
   "outputs": [
    {
     "name": "stdout",
     "output_type": "stream",
     "text": [
      "incio\n",
      "caro\n",
      "final\n"
     ]
    }
   ],
   "source": [
    "print(\"incio\")\n",
    "precio = 700\n",
    "mensaje = \"barato\" if (precio < 300) else \"caro\"\n",
    "\"\"\" se lee de izq a derecha: mensaje tendra el valor de barato\n",
    "si precio es menor que 300, caso contrario tendra el valor de caro.\n",
    "Como precio es 700 entonce no se cumple la condicion, por ende mensaje = caro\n",
    "\"\"\"\n",
    "print(mensaje)\n",
    "\n",
    "print(\"final\")"
   ]
  }
 ],
 "metadata": {
  "kernelspec": {
   "display_name": ".venv",
   "language": "python",
   "name": "python3"
  },
  "language_info": {
   "codemirror_mode": {
    "name": "ipython",
    "version": 3
   },
   "file_extension": ".py",
   "mimetype": "text/x-python",
   "name": "python",
   "nbconvert_exporter": "python",
   "pygments_lexer": "ipython3",
   "version": "3.11.10"
  }
 },
 "nbformat": 4,
 "nbformat_minor": 2
}
