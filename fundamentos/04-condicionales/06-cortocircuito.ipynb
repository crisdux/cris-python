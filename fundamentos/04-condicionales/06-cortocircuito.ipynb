{
 "cells": [
  {
   "cell_type": "markdown",
   "metadata": {},
   "source": [
    "## CortoCircuito \n",
    "En Python hay ocaciones en que toda una cadena de condiciones no tendran sentido que se ejecuten, por ejemplo:"
   ]
  },
  {
   "cell_type": "code",
   "execution_count": 1,
   "metadata": {},
   "outputs": [
    {
     "name": "stdout",
     "output_type": "stream",
     "text": [
      "True\n"
     ]
    }
   ],
   "source": [
    "\n",
    "condicion_1 = 5 > 2 ## True\n",
    "condicion_2 = 10 < 20 ## False\n",
    "\n",
    "print(condicion_1 or condicion_2)\n",
    "## como la primer condicion se cumple no tiene sentido seguir evaluando el resto\n",
    "## basta con la primera en este caso por ser un or\n",
    "\n"
   ]
  }
 ],
 "metadata": {
  "kernelspec": {
   "display_name": ".venv",
   "language": "python",
   "name": "python3"
  },
  "language_info": {
   "codemirror_mode": {
    "name": "ipython",
    "version": 3
   },
   "file_extension": ".py",
   "mimetype": "text/x-python",
   "name": "python",
   "nbconvert_exporter": "python",
   "pygments_lexer": "ipython3",
   "version": "3.11.10"
  }
 },
 "nbformat": 4,
 "nbformat_minor": 2
}
