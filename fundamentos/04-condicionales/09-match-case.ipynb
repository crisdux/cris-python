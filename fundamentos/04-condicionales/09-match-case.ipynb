{
 "cells": [
  {
   "cell_type": "markdown",
   "metadata": {},
   "source": [
    "## Match-case\n",
    "Desde Python 3.10 podemos usar una nueva estructura de control llamada `match-case` que nos es útil para casos donde necesitemos un `elif` para evaluar multiples condiciones.\n"
   ]
  },
  {
   "cell_type": "code",
   "execution_count": 1,
   "metadata": {},
   "outputs": [
    {
     "name": "stdout",
     "output_type": "stream",
     "text": [
      "🔴\n"
     ]
    }
   ],
   "source": [
    "color = \"rojo\"\n",
    "\n",
    "match(color):\n",
    "    case \"rojo\":\n",
    "        print(\"🔴\")\n",
    "    case \"azul\":\n",
    "        print(\"🔵\")\n",
    "    case \"naranja\":\n",
    "        print(\"🟠\")\n",
    "    case _:\n",
    "        print(\"color no encontrado\") ## usamos el _ como valor por defecto"
   ]
  },
  {
   "cell_type": "code",
   "execution_count": 4,
   "metadata": {},
   "outputs": [
    {
     "name": "stdout",
     "output_type": "stream",
     "text": [
      "Error\n"
     ]
    }
   ],
   "source": [
    "## el match-case tambien es muy útil no solo para comparar valores, sino para validar tipos de datos\n",
    "\n",
    "coordenadas = (2, \"3\")\n",
    "\n",
    "match coordenadas:\n",
    "    case (int(), int()):\n",
    "        print(\"Es un plano\")\n",
    "    case (int(), int(), int()):\n",
    "        print(\"Es un espacio\")\n",
    "    case _:\n",
    "        print(\"Error\")"
   ]
  }
 ],
 "metadata": {
  "kernelspec": {
   "display_name": ".venv",
   "language": "python",
   "name": "python3"
  },
  "language_info": {
   "codemirror_mode": {
    "name": "ipython",
    "version": 3
   },
   "file_extension": ".py",
   "mimetype": "text/x-python",
   "name": "python",
   "nbconvert_exporter": "python",
   "pygments_lexer": "ipython3",
   "version": "3.11.10"
  }
 },
 "nbformat": 4,
 "nbformat_minor": 2
}
