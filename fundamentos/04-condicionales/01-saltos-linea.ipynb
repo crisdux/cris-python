{
 "cells": [
  {
   "cell_type": "markdown",
   "metadata": {},
   "source": [
    "## Saltos de linea\n",
    "En python no podemos saltar de linea y ya, debemos especificar textualmente que estamos haciendo el salto."
   ]
  },
  {
   "cell_type": "code",
   "execution_count": 6,
   "metadata": {},
   "outputs": [
    {
     "name": "stdout",
     "output_type": "stream",
     "text": [
      "15\n"
     ]
    }
   ],
   "source": [
    "suma = 1+2+3+4+5 ## una sola linea, no hay lio\n",
    "print(suma)"
   ]
  },
  {
   "cell_type": "code",
   "execution_count": 7,
   "metadata": {},
   "outputs": [
    {
     "ename": "SyntaxError",
     "evalue": "invalid syntax (1768996796.py, line 1)",
     "output_type": "error",
     "traceback": [
      "\u001b[0;36m  Cell \u001b[0;32mIn[7], line 1\u001b[0;36m\u001b[0m\n\u001b[0;31m    resta = 1 -\u001b[0m\n\u001b[0m               ^\u001b[0m\n\u001b[0;31mSyntaxError\u001b[0m\u001b[0;31m:\u001b[0m invalid syntax\n"
     ]
    }
   ],
   "source": [
    "resta = 1 -\n",
    "        2 -\n",
    "        3 -\n",
    "        4 -\n",
    "        5\n",
    "\n",
    "print(resta)"
   ]
  },
  {
   "cell_type": "code",
   "execution_count": 8,
   "metadata": {},
   "outputs": [
    {
     "name": "stdout",
     "output_type": "stream",
     "text": [
      "-13\n",
      "120\n"
     ]
    }
   ],
   "source": [
    "## para lograr lo anterior se debe usar \\\n",
    "resta = 1 - \\\n",
    "        2 - \\\n",
    "        3 - \\\n",
    "        4 - \\\n",
    "        5 \n",
    "print(resta)\n",
    "\n",
    "## o tambien se puede usar parentesis\n",
    "\n",
    "multiplicacion = (1 *\n",
    "                  2 *\n",
    "                  3 *\n",
    "                  4 *\n",
    "                  5)\n",
    "print(multiplicacion)"
   ]
  }
 ],
 "metadata": {
  "kernelspec": {
   "display_name": ".venv",
   "language": "python",
   "name": "python3"
  },
  "language_info": {
   "codemirror_mode": {
    "name": "ipython",
    "version": 3
   },
   "file_extension": ".py",
   "mimetype": "text/x-python",
   "name": "python",
   "nbconvert_exporter": "python",
   "pygments_lexer": "ipython3",
   "version": "3.11.10"
  }
 },
 "nbformat": 4,
 "nbformat_minor": 2
}
