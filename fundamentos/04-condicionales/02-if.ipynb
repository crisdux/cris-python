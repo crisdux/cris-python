{
 "cells": [
  {
   "cell_type": "markdown",
   "metadata": {},
   "source": [
    "## `if`\n",
    "Es la condicional que permite que la ejecución del código se bifurque dependiendo o no del cumplimento de una condición previamente establecida.\n",
    "\n",
    "Es importante tomar en cuenta la identación del código para poder armar bien los bloques ya que python carece de llaves para lograr esto.\n",
    "\n",
    "Veamos algunos ejemplos "
   ]
  },
  {
   "cell_type": "code",
   "execution_count": 1,
   "metadata": {},
   "outputs": [
    {
     "name": "stdout",
     "output_type": "stream",
     "text": [
      "incio\n",
      "muy caro\n",
      "fin\n"
     ]
    }
   ],
   "source": [
    "print(\"incio\")\n",
    "\n",
    "precio = 200\n",
    "\n",
    "if(precio > 150): ##200 > 150, entonces entra al bloque e imprime \"muy caro\"\n",
    "    print(\"muy caro\")\n",
    "\n",
    "print(\"fin\")"
   ]
  },
  {
   "cell_type": "code",
   "execution_count": 2,
   "metadata": {},
   "outputs": [
    {
     "name": "stdout",
     "output_type": "stream",
     "text": [
      "incio\n",
      "fin\n"
     ]
    }
   ],
   "source": [
    "print(\"incio\")\n",
    "\n",
    "precio = 200\n",
    "\n",
    "if(precio > 201): ##200 < 201, entonces nunca entra al bloque\n",
    "    print(\"muy caro\")\n",
    "\n",
    "print(\"fin\")"
   ]
  },
  {
   "cell_type": "code",
   "execution_count": 3,
   "metadata": {},
   "outputs": [
    {
     "name": "stdout",
     "output_type": "stream",
     "text": [
      "incio\n",
      "hola\n",
      "fin\n"
     ]
    }
   ],
   "source": [
    "print(\"incio\")\n",
    "\n",
    "if(True): ##siempre entra al bucle\n",
    "    print(\"hola\")\n",
    "\n",
    "print(\"fin\")"
   ]
  }
 ],
 "metadata": {
  "kernelspec": {
   "display_name": ".venv",
   "language": "python",
   "name": "python3"
  },
  "language_info": {
   "codemirror_mode": {
    "name": "ipython",
    "version": 3
   },
   "file_extension": ".py",
   "mimetype": "text/x-python",
   "name": "python",
   "nbconvert_exporter": "python",
   "pygments_lexer": "ipython3",
   "version": "3.11.10"
  }
 },
 "nbformat": 4,
 "nbformat_minor": 2
}
