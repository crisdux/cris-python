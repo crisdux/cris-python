{
 "cells": [
  {
   "cell_type": "markdown",
   "metadata": {},
   "source": [
    "## `elif`\n",
    "Hasta ahora el `if-else` es util cuando solo tenemos condiciones de si y no, sino es si pue sera no y ya. \n",
    "\n",
    "Pero esto no siempre pasará, a veces tendremos multiples condiciones entonces podemos usar el `elif`."
   ]
  },
  {
   "cell_type": "code",
   "execution_count": 1,
   "metadata": {},
   "outputs": [
    {
     "name": "stdout",
     "output_type": "stream",
     "text": [
      "incio\n",
      "muy caro\n",
      "final\n"
     ]
    }
   ],
   "source": [
    "print(\"incio\")\n",
    "\n",
    "precio = 1500\n",
    "\n",
    "if (precio <= 500):\n",
    "    print(\"muy barato\")\n",
    "elif(precio >= 501 and precio <= 1000):\n",
    "    print(\"precio justo\")\n",
    "elif(precio >= 1001 and precio <= 1500): ## se cumple esta condicion ignorando todo el resto\n",
    "    print(\"muy caro\")\n",
    "else:\n",
    "    print(\"demasiado caro!!\")\n",
    "\n",
    "print(\"final\")"
   ]
  }
 ],
 "metadata": {
  "kernelspec": {
   "display_name": ".venv",
   "language": "python",
   "name": "python3"
  },
  "language_info": {
   "codemirror_mode": {
    "name": "ipython",
    "version": 3
   },
   "file_extension": ".py",
   "mimetype": "text/x-python",
   "name": "python",
   "nbconvert_exporter": "python",
   "pygments_lexer": "ipython3",
   "version": "3.11.10"
  }
 },
 "nbformat": 4,
 "nbformat_minor": 2
}
