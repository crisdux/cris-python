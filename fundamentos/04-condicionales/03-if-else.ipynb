{
 "cells": [
  {
   "cell_type": "markdown",
   "metadata": {},
   "source": [
    "## `if-else`\n",
    "Cada condicinal `if` puede tener opcionalmente un bloque `else` que se ejecuta en caso de que la condición del `if` no se cumpla."
   ]
  },
  {
   "cell_type": "code",
   "execution_count": 2,
   "metadata": {},
   "outputs": [
    {
     "name": "stdout",
     "output_type": "stream",
     "text": [
      "inicio\n",
      "rr esta en perro\n",
      "final\n"
     ]
    }
   ],
   "source": [
    "print(\"inicio\")\n",
    "\n",
    "cadena = \"perro\"\n",
    "\n",
    "if( \"rr\" in cadena):\n",
    "    print(f\"rr esta en {cadena}\" ) ## se cumple la condición, entonces entra al if e ignora el else\n",
    "else:\n",
    "    print(f\"rr no esta en {cadena}\" )\n",
    "\n",
    "print(\"final\")"
   ]
  },
  {
   "cell_type": "code",
   "execution_count": 3,
   "metadata": {},
   "outputs": [
    {
     "name": "stdout",
     "output_type": "stream",
     "text": [
      "inicio\n",
      "RR no esta en perro\n",
      "final\n"
     ]
    }
   ],
   "source": [
    "print(\"inicio\")\n",
    "\n",
    "cadena = \"perro\"\n",
    "\n",
    "if( \"RR\" in cadena):\n",
    "    print(f\"RR esta en {cadena}\" ) \n",
    "else:\n",
    "    print(f\"RR no esta en {cadena}\" ) ## entra al else puesto que la condicion no se cumple\n",
    "\n",
    "print(\"final\")"
   ]
  }
 ],
 "metadata": {
  "kernelspec": {
   "display_name": ".venv",
   "language": "python",
   "name": "python3"
  },
  "language_info": {
   "codemirror_mode": {
    "name": "ipython",
    "version": 3
   },
   "file_extension": ".py",
   "mimetype": "text/x-python",
   "name": "python",
   "nbconvert_exporter": "python",
   "pygments_lexer": "ipython3",
   "version": "3.11.10"
  }
 },
 "nbformat": 4,
 "nbformat_minor": 2
}
