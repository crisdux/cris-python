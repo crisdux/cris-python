{
 "cells": [
  {
   "cell_type": "markdown",
   "metadata": {},
   "source": [
    "## Operaciones\n",
    "Existen muchas operaciones que se pueden hacer entre números: suma, resta, multiplicación, división, división entera, módulo, potencia, etc. "
   ]
  },
  {
   "cell_type": "code",
   "execution_count": 1,
   "metadata": {},
   "outputs": [
    {
     "name": "stdout",
     "output_type": "stream",
     "text": [
      "Suma: 23\n",
      "Resta: 17\n",
      "Multiplicación: 60\n",
      "División: 6.666666666666667\n",
      "División Entera: 6\n",
      "Modulo: 2\n",
      "Producto: 8000\n"
     ]
    }
   ],
   "source": [
    "a = 20\n",
    "b = 3\n",
    "\n",
    "print(f\"Suma: {a + b}\" )\n",
    "print(f\"Resta: {a - b}\" )\n",
    "print(f\"Multiplicación: {a * b}\" )\n",
    "print(f\"División: {a / b}\" )\n",
    "print(f\"División Entera: {a // b}\" )\n",
    "print(f\"Modulo: {a % b}\" )\n",
    "print(f\"Producto: {a ** b}\" )"
   ]
  },
  {
   "cell_type": "code",
   "execution_count": 2,
   "metadata": {},
   "outputs": [
    {
     "name": "stdout",
     "output_type": "stream",
     "text": [
      "1000000\n",
      "1000000\n"
     ]
    }
   ],
   "source": [
    "## Para escribir números de una manera mas clara podemos usar _\n",
    "print(1000000)\n",
    "print(1_000_000)"
   ]
  }
 ],
 "metadata": {
  "kernelspec": {
   "display_name": ".venv",
   "language": "python",
   "name": "python3"
  },
  "language_info": {
   "codemirror_mode": {
    "name": "ipython",
    "version": 3
   },
   "file_extension": ".py",
   "mimetype": "text/x-python",
   "name": "python",
   "nbconvert_exporter": "python",
   "pygments_lexer": "ipython3",
   "version": "3.11.9"
  }
 },
 "nbformat": 4,
 "nbformat_minor": 2
}
