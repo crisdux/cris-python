{
 "cells": [
  {
   "cell_type": "markdown",
   "metadata": {},
   "source": [
    "## Redondeo de numeros\n",
    "En python tenemos funciones integradas para lograr esto, una de ellas es la función `round`.\n",
    "Este método redondea numeros al par mas cercano siempre, es un estandar que se maneja en python y que a veces puede provocar confusiones"
   ]
  },
  {
   "cell_type": "code",
   "execution_count": 5,
   "metadata": {},
   "outputs": [
    {
     "name": "stdout",
     "output_type": "stream",
     "text": [
      "2\n",
      "65.33\n",
      "2\n",
      "4\n"
     ]
    }
   ],
   "source": [
    "print(round(2.3337))\n",
    "print(round(65.3278, 2))\n",
    "\n",
    "print(round(2.5)) # 2 \n",
    "print(round(3.5)) # 4 "
   ]
  },
  {
   "cell_type": "markdown",
   "metadata": {},
   "source": [
    "Cuando el numero a redeondear temrina en .5 entonces hay casos donde puede ser confuso pensar en el resultado.\n",
    "Ejemplo:\n",
    "* `round(2.5)` termina en .5 entonces el numero esta justo en el medio entre `2` y `3`, en este caso el resultado es 2 puesto que se redondeo al par mas cercano.\n",
    "* `round(3.5)` el numero tambien termina en .5 entonces el número esta entre `3` y `4`, nuevamente redondeamos al par mas cercano, en este caso 4."
   ]
  }
 ],
 "metadata": {
  "kernelspec": {
   "display_name": ".venv",
   "language": "python",
   "name": "python3"
  },
  "language_info": {
   "codemirror_mode": {
    "name": "ipython",
    "version": 3
   },
   "file_extension": ".py",
   "mimetype": "text/x-python",
   "name": "python",
   "nbconvert_exporter": "python",
   "pygments_lexer": "ipython3",
   "version": "3.11.9"
  }
 },
 "nbformat": 4,
 "nbformat_minor": 2
}
