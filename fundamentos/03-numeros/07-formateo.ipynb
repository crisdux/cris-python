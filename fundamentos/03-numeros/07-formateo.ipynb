{
 "cells": [
  {
   "cell_type": "markdown",
   "metadata": {},
   "source": [
    "## Formateo\n",
    "Podemos usar f-strings para poder dar formato a los strings.\n",
    "La sintaxis es: `f\"{variable:.catidad-decimales f}\"`"
   ]
  },
  {
   "cell_type": "code",
   "execution_count": 7,
   "metadata": {},
   "outputs": [
    {
     "name": "stdout",
     "output_type": "stream",
     "text": [
      "256.16\n",
      "25.300\n",
      "1,256,589.57\n",
      "15.8%\n"
     ]
    }
   ],
   "source": [
    "costo_unitario = 256.15896\n",
    "print(f\"{costo_unitario:.2f}\") ## redondea a 2 decimales \n",
    "\n",
    "precio = 25.3\n",
    "print(f\"{precio:.3f}\") ## redondea a 3 decimales (completa con ceros)\n",
    "\n",
    "ahorros = 1_256_589.5699\n",
    "print(f\"{ahorros:,.2f}\") ## agrega comas al los millares \n",
    "\n",
    "descuento = 0.158\n",
    "print(f\"{descuento:.1%}\") ## converite en porcentaje el numero y 2 decimales\n",
    "\n",
    "\n"
   ]
  }
 ],
 "metadata": {
  "kernelspec": {
   "display_name": ".venv",
   "language": "python",
   "name": "python3"
  },
  "language_info": {
   "codemirror_mode": {
    "name": "ipython",
    "version": 3
   },
   "file_extension": ".py",
   "mimetype": "text/x-python",
   "name": "python",
   "nbconvert_exporter": "python",
   "pygments_lexer": "ipython3",
   "version": "3.11.9"
  }
 },
 "nbformat": 4,
 "nbformat_minor": 2
}
