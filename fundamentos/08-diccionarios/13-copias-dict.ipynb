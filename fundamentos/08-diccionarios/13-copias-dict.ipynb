{
 "cells": [
  {
   "cell_type": "markdown",
   "metadata": {},
   "source": [
    "## Copias de dict\n",
    "Al hacer copias con dict tenemos que seguir las mismas reglas que con las listas"
   ]
  },
  {
   "cell_type": "code",
   "execution_count": 10,
   "metadata": {},
   "outputs": [
    {
     "name": "stdout",
     "output_type": "stream",
     "text": [
      "{'a': 0, 'e': 0, 'i': 0, 'o': 0, 'u': 0}\n",
      "{'a': 0, 'e': 0, 'i': 0, 'o': 0, 'u': 0, 'x': 1}\n",
      "{'a': 0, 'e': 0, 'i': 0, 'o': 0, 'u': 0, 'x': 1}\n",
      "True\n"
     ]
    }
   ],
   "source": [
    "vocales = dict.fromkeys(\"aeiou\", 0)\n",
    "print(vocales)\n",
    "\n",
    "vocales_copia = vocales ## creamos una \"copia\" de vocales\n",
    "vocales_copia[\"x\"] = 1 ## agregamo sun valor nuevo a vocales_copia\n",
    "print(vocales) ## alteramos sin querer vocales\n",
    "print(vocales_copia) ## vocales_copia si fue cambiado, pero tambien vocales\n",
    "\n",
    "## esto pasa porque tanto vocales como vocales_copia estan siendo almacenadas en la misma direcion de memoria\n",
    "print(id(vocales) == id(vocales_copia)) ## ambas direcciones de memoria es la misma, entonces si cambiamos uno tambien cambiremos el otro"
   ]
  },
  {
   "cell_type": "code",
   "execution_count": 12,
   "metadata": {},
   "outputs": [
    {
     "name": "stdout",
     "output_type": "stream",
     "text": [
      "{'a': 0, 'e': 0, 'i': 0, 'o': 0, 'u': 0, 'x': 1, 'y': 2}\n",
      "{'a': 0, 'e': 0, 'i': 0, 'o': 0, 'u': 0, 'x': 1}\n",
      "False\n"
     ]
    }
   ],
   "source": [
    "vocales_copia = vocales.copy()\n",
    "vocales_copia[\"y\"] = 2 ## agregamos la clave \"y\" a vaocales_copia\n",
    "print(vocales_copia) ## efectivamente se agrego bien\n",
    "print(vocales)## vocales no se ve alterado\n",
    "\n",
    "print(id(vocales) == id(vocales_copia)) ## las direcciones de memoria no son las mismas, por ende son objetos completamente independientes"
   ]
  }
 ],
 "metadata": {
  "kernelspec": {
   "display_name": ".venv",
   "language": "python",
   "name": "python3"
  },
  "language_info": {
   "codemirror_mode": {
    "name": "ipython",
    "version": 3
   },
   "file_extension": ".py",
   "mimetype": "text/x-python",
   "name": "python",
   "nbconvert_exporter": "python",
   "pygments_lexer": "ipython3",
   "version": "3.11.10"
  }
 },
 "nbformat": 4,
 "nbformat_minor": 2
}
