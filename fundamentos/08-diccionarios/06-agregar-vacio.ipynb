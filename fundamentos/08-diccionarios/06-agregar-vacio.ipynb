{
 "cells": [
  {
   "cell_type": "markdown",
   "metadata": {},
   "source": [
    "## Agregar desde vacio\n",
    "Para agregar desde vacio creamos un diccionario son nada y poco a poco lo vamos rellenando con los datos de nuestro interes. \n",
    "\n",
    "Es muy similar a cuando en las listas creamos una lista vacia y luego usando `append` agregamos datos poco a poco.\n",
    "\n",
    "Esto es lo mismo, a partir de un diccioanrio vacio agregamos elementos"
   ]
  },
  {
   "cell_type": "code",
   "execution_count": 1,
   "metadata": {},
   "outputs": [
    {
     "name": "stdout",
     "output_type": "stream",
     "text": [
      "{'a': 1, 'e': 2, 'i': 3, 'o': 4, 'u': 5}\n"
     ]
    }
   ],
   "source": [
    "vocales = \"aeiou\"\n",
    "\n",
    "res = {}\n",
    "\n",
    "for index, vocal in enumerate(vocales, start=1):\n",
    "    res[vocal] = index\n",
    "\n",
    "print(res)"
   ]
  }
 ],
 "metadata": {
  "kernelspec": {
   "display_name": ".venv",
   "language": "python",
   "name": "python3"
  },
  "language_info": {
   "codemirror_mode": {
    "name": "ipython",
    "version": 3
   },
   "file_extension": ".py",
   "mimetype": "text/x-python",
   "name": "python",
   "nbconvert_exporter": "python",
   "pygments_lexer": "ipython3",
   "version": "3.11.10"
  }
 },
 "nbformat": 4,
 "nbformat_minor": 2
}
