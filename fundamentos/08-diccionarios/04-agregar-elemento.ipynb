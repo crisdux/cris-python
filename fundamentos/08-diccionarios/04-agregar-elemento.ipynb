{
 "cells": [
  {
   "cell_type": "markdown",
   "metadata": {},
   "source": [
    "## Agregar elemento\n",
    "Para agregar elementos a un diccionario simplemente escribimos el nuevo nombre de la llave y el nuevo valor"
   ]
  },
  {
   "cell_type": "code",
   "execution_count": 1,
   "metadata": {},
   "outputs": [
    {
     "name": "stdout",
     "output_type": "stream",
     "text": [
      "{'nombre': 'michi', 'edad': 2}\n",
      "{'nombre': 'michi', 'edad': 2, 'color': 'naranja'}\n"
     ]
    }
   ],
   "source": [
    "gato = {\n",
    "    \"nombre\": \"michi\",\n",
    "    \"edad\": 2,\n",
    "}\n",
    "print(gato)\n",
    "gato[\"color\"] = \"naranja\"\n",
    "print(gato)"
   ]
  }
 ],
 "metadata": {
  "kernelspec": {
   "display_name": ".venv",
   "language": "python",
   "name": "python3"
  },
  "language_info": {
   "codemirror_mode": {
    "name": "ipython",
    "version": 3
   },
   "file_extension": ".py",
   "mimetype": "text/x-python",
   "name": "python",
   "nbconvert_exporter": "python",
   "pygments_lexer": "ipython3",
   "version": "3.11.10"
  }
 },
 "nbformat": 4,
 "nbformat_minor": 2
}
