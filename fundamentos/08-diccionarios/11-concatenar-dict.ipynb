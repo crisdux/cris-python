{
 "cells": [
  {
   "cell_type": "markdown",
   "metadata": {},
   "source": [
    "## Concatenar diccionarios\n",
    "Para poder concatenar diccionarios tenemos 2 reglas importantes:\n",
    "* Si la clave no existe en el dict final entonces agregamos el valor.\n",
    "* Si la clave si existe entonces se agrega el valor del último dict, en otras palabras el orden de los dict a concatenar si importan.\n",
    "\n",
    "Tenemos 3 sintaxis:\n",
    "* usando **\n",
    "* usando |\n",
    "* usando `update()` (modifica los dict originales)"
   ]
  },
  {
   "cell_type": "code",
   "execution_count": 7,
   "metadata": {},
   "outputs": [
    {
     "name": "stdout",
     "output_type": "stream",
     "text": [
      "{'nombre': 'Boby', 'edad': 10, 'cola': True}\n",
      "{'nombre': 'Boby', 'edad': 5} {'cola': True, 'edad': 10}\n",
      "\n",
      "{'nombre': 'Boby', 'edad': 10, 'cola': True}\n",
      "{'nombre': 'Boby', 'edad': 5} {'cola': True, 'edad': 10}\n",
      "\n",
      "{'nombre': 'Boby', 'edad': 10, 'cola': True} {'cola': True, 'edad': 10}\n"
     ]
    }
   ],
   "source": [
    "perro = {\n",
    "    \"nombre\": \"Boby\",\n",
    "    \"edad\": 5\n",
    "}\n",
    "\n",
    "otro_perro = {\n",
    "    \"cola\": True,\n",
    "    \"edad\": 10\n",
    "}\n",
    "\n",
    "print({**perro, **otro_perro}) ## cola ahora es 10 por el orden de en que concatenamos los dicts\n",
    "print(perro, otro_perro) ## no modifiamos los dicts originales\n",
    "\n",
    "print()\n",
    "\n",
    "print(perro | otro_perro) ## es igual que usar ** pero con una sintaxis mas limpia\n",
    "print(perro, otro_perro) ## no cambiamos los dict originales\n",
    "\n",
    "print()\n",
    "\n",
    "perro.update(otro_perro) ## no se recomienda usarlo\n",
    "print(perro, otro_perro) ## perro queda mutado y perdemos sus datos originales\n",
    "\n"
   ]
  }
 ],
 "metadata": {
  "kernelspec": {
   "display_name": ".venv",
   "language": "python",
   "name": "python3"
  },
  "language_info": {
   "codemirror_mode": {
    "name": "ipython",
    "version": 3
   },
   "file_extension": ".py",
   "mimetype": "text/x-python",
   "name": "python",
   "nbconvert_exporter": "python",
   "pygments_lexer": "ipython3",
   "version": "3.11.10"
  }
 },
 "nbformat": 4,
 "nbformat_minor": 2
}
