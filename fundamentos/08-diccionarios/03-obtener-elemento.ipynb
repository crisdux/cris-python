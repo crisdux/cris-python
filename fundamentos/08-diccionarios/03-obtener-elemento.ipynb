{
 "cells": [
  {
   "cell_type": "markdown",
   "metadata": {},
   "source": [
    "## Acceder a elementos de un diccioanrio\n",
    "Para poder acceder a los datos de un diccionario tenemos 2 opciones:\n",
    "* Usando la sintaxis de corchetes `[]`\n",
    "* Usando el método `get`\n",
    "\n",
    "\n",
    "La principal diferencia esta en cuando accdemos a una llave que no existe, mientras que los corchetes regresan un error, el método `get` regresa `None`"
   ]
  },
  {
   "cell_type": "code",
   "execution_count": 9,
   "metadata": {},
   "outputs": [
    {
     "name": "stdout",
     "output_type": "stream",
     "text": [
      "cafe\n",
      "cafe\n"
     ]
    }
   ],
   "source": [
    "perro = {\n",
    "    \"nombre\": \"Boby\",\n",
    "    \"color\": \"cafe\",\n",
    "    \"cola\": True\n",
    "}\n",
    "\n",
    "## acedemos a propiedades que si existen\n",
    "print(perro[\"color\"])\n",
    "print(perro.get(\"color\"))"
   ]
  },
  {
   "cell_type": "code",
   "execution_count": 10,
   "metadata": {},
   "outputs": [
    {
     "ename": "KeyError",
     "evalue": "'edad'",
     "output_type": "error",
     "traceback": [
      "\u001b[0;31m---------------------------------------------------------------------------\u001b[0m",
      "\u001b[0;31mKeyError\u001b[0m                                  Traceback (most recent call last)",
      "Cell \u001b[0;32mIn[10], line 1\u001b[0m\n\u001b[0;32m----> 1\u001b[0m \u001b[38;5;28mprint\u001b[39m(\u001b[43mperro\u001b[49m\u001b[43m[\u001b[49m\u001b[38;5;124;43m\"\u001b[39;49m\u001b[38;5;124;43medad\u001b[39;49m\u001b[38;5;124;43m\"\u001b[39;49m\u001b[43m]\u001b[49m) \u001b[38;5;66;03m## error\u001b[39;00m\n",
      "\u001b[0;31mKeyError\u001b[0m: 'edad'"
     ]
    }
   ],
   "source": [
    "print(perro[\"edad\"]) ## error"
   ]
  },
  {
   "cell_type": "code",
   "execution_count": 11,
   "metadata": {},
   "outputs": [
    {
     "name": "stdout",
     "output_type": "stream",
     "text": [
      "None\n",
      "Edad no disponible\n"
     ]
    }
   ],
   "source": [
    "print(perro.get(\"edad\")) ## None por que no existe\n",
    "\n",
    "## get recibe un 2do parametro que sera el valor por defecto\n",
    "print(perro.get(\"edad\", \"Edad no disponible\"))"
   ]
  }
 ],
 "metadata": {
  "kernelspec": {
   "display_name": ".venv",
   "language": "python",
   "name": "python3"
  },
  "language_info": {
   "codemirror_mode": {
    "name": "ipython",
    "version": 3
   },
   "file_extension": ".py",
   "mimetype": "text/x-python",
   "name": "python",
   "nbconvert_exporter": "python",
   "pygments_lexer": "ipython3",
   "version": "3.11.10"
  }
 },
 "nbformat": 4,
 "nbformat_minor": 2
}
