{
 "cells": [
  {
   "cell_type": "markdown",
   "metadata": {},
   "source": [
    "## Modificar elementos\n",
    "Para lograr esto solo accedemos a una llave que ya existe y luego establecemos el nuevo valor"
   ]
  },
  {
   "cell_type": "code",
   "execution_count": 3,
   "metadata": {},
   "outputs": [
    {
     "name": "stdout",
     "output_type": "stream",
     "text": [
      "{'nombre': 'Bolivar', 'titulos': 20, 'color_polera': 'celeste'}\n",
      "{'nombre': 'Bolivar', 'titulos': 21, 'color_polera': 'celeste'}\n"
     ]
    }
   ],
   "source": [
    "equipo = {\n",
    "    \"nombre\": \"Bolivar\",\n",
    "    \"titulos\": 20,\n",
    "    \"color_polera\": \"celeste\"\n",
    "}\n",
    "print(equipo)\n",
    "equipo[\"titulos\"] = 21\n",
    "print(equipo)"
   ]
  },
  {
   "cell_type": "code",
   "execution_count": 4,
   "metadata": {},
   "outputs": [
    {
     "name": "stdout",
     "output_type": "stream",
     "text": [
      "{'nombre': 'Bolivar', 'titulos': 21, 'color_polera': 'celeste', 'director': 'Juan Perez'}\n"
     ]
    }
   ],
   "source": [
    "## si accedemos a una llave que no existe entonces creamos un nuevo elemento\n",
    "equipo[\"director\"] = \"Juan Perez\"\n",
    "print(equipo)"
   ]
  }
 ],
 "metadata": {
  "kernelspec": {
   "display_name": ".venv",
   "language": "python",
   "name": "python3"
  },
  "language_info": {
   "codemirror_mode": {
    "name": "ipython",
    "version": 3
   },
   "file_extension": ".py",
   "mimetype": "text/x-python",
   "name": "python",
   "nbconvert_exporter": "python",
   "pygments_lexer": "ipython3",
   "version": "3.11.10"
  }
 },
 "nbformat": 4,
 "nbformat_minor": 2
}
