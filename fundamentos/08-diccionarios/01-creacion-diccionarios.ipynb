{
 "cells": [
  {
   "cell_type": "markdown",
   "metadata": {},
   "source": [
    "## Creación de diccionarios\n",
    "Los diccioanrios en python son estructuras de datos un poco mas complejas que las listas y las tuplas, tienen la caracteristica de que organizan sus datos en un formato clave valor. \n",
    "\n",
    "Ademas:\n",
    "* Las nuevas claves agregadas mantienen en orden.\n",
    "* Son mutables, esto significa que podemos agregar, editar, y borrar sus elementos.\n",
    "* Las claves deben er únicas, por ello se permite que cualquier tipo de dato inmutable sea una llave, por ejemplo, una cadena, una tupla, un entero o un flotante.\n",
    "* Por su misma nauraleza de acceder a sus valores ya no por indexacción como las listas o las tuplas, sino por clave-valor, es mucho mas rapido poder acceder a sus valores.\n",
    "\n",
    "Para crear un diccionario usamos la sintaxis de `{}`.\n"
   ]
  },
  {
   "cell_type": "code",
   "execution_count": null,
   "metadata": {},
   "outputs": [],
   "source": [
    "## personas es un dict que tiene cadenas como llaves\n",
    "personas = {\n",
    "    \"nombre\": \"Cris\",\n",
    "    \"edad\": 28,\n",
    "    \"apodo\": \"dux\",\n",
    "    \"soltero\": False \n",
    "}\n",
    "\n",
    "## fechas es un dict que tiene enteros como llaves\n",
    "fechas = {\n",
    "    2020: \"alto\",\n",
    "    2021: \"bajo\",\n",
    "    2022: \"medio\",\n",
    "    2023: \"alto\",\n",
    "    2024: \"alto\"\n",
    "}"
   ]
  }
 ],
 "metadata": {
  "language_info": {
   "name": "python"
  }
 },
 "nbformat": 4,
 "nbformat_minor": 2
}
