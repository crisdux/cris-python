{
 "cells": [
  {
   "cell_type": "markdown",
   "metadata": {},
   "source": [
    "## Creación de diccionarios\n",
    "Los diccioanrios en python son estructuras de datos un poco mas complejas que las listas y las tuplas, tienen la caracteristica de que organizan sus datos en un formato clave valor. \n",
    "\n",
    "Ademas:\n",
    "* Las nuevas claves agregadas mantienen en orden.\n",
    "* Son mutables, esto significa que podemos agregar, editar, y borrar sus elementos.\n",
    "* Las claves deben er únicas, por ello se permite que cualquier tipo de dato inmutable sea una llave, por ejemplo, una cadena, una tupla, un entero o un flotante.\n",
    "* Por su misma nauraleza de acceder a sus valores ya no por indexacción como las listas o las tuplas, sino por clave-valor, es mucho mas rapido poder acceder a sus valores.\n",
    "\n",
    "Para crear un diccionario usamos la sintaxis de `{}`.\n"
   ]
  },
  {
   "cell_type": "code",
   "execution_count": 3,
   "metadata": {},
   "outputs": [],
   "source": [
    "## personas es un dict que tiene cadenas como llaves\n",
    "personas = {\n",
    "    \"nombre\": \"Cris\",\n",
    "    \"edad\": 28,\n",
    "    \"apodo\": \"dux\",\n",
    "    \"soltero\": False \n",
    "}\n",
    "\n",
    "## fechas es un dict que tiene enteros como llaves\n",
    "fechas = {\n",
    "    2020: \"alto\",\n",
    "    2021: \"bajo\",\n",
    "    2022: \"medio\",\n",
    "    2023: \"alto\",\n",
    "    2024: \"alto\"\n",
    "}"
   ]
  },
  {
   "cell_type": "markdown",
   "metadata": {},
   "source": [
    "Tambien podemos crear diccioanrios de manera dinamica usando el metodo `fromkeys`, este método necesita un interable (que servira como llaves) y un valor por defecto para cada item del diccionario, por ejemplo:"
   ]
  },
  {
   "cell_type": "code",
   "execution_count": 4,
   "metadata": {},
   "outputs": [
    {
     "name": "stdout",
     "output_type": "stream",
     "text": [
      "{'a': 0, 'e': 0, 'i': 0, 'o': 0, 'u': 0}\n",
      "{1: '*', 2: '*', 3: '*', 4: '*', 5: '*'}\n"
     ]
    }
   ],
   "source": [
    "vocales = dict.fromkeys(\"aeiou\", 0)\n",
    "print(vocales)\n",
    "\n",
    "numeros = dict.fromkeys([1, 2, 3, 4, 5], \"*\")\n",
    "print(numeros)"
   ]
  }
 ],
 "metadata": {
  "kernelspec": {
   "display_name": ".venv",
   "language": "python",
   "name": "python3"
  },
  "language_info": {
   "codemirror_mode": {
    "name": "ipython",
    "version": 3
   },
   "file_extension": ".py",
   "mimetype": "text/x-python",
   "name": "python",
   "nbconvert_exporter": "python",
   "pygments_lexer": "ipython3",
   "version": "3.11.10"
  }
 },
 "nbformat": 4,
 "nbformat_minor": 2
}
