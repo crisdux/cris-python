{
 "cells": [
  {
   "cell_type": "markdown",
   "metadata": {},
   "source": [
    "## Iterar sobre un dict\n",
    "Para iterar un dict tenemos 3 maneras: iterar sobre claves, sobre valores o sobre pares clave-valor, por ejemplo:"
   ]
  },
  {
   "cell_type": "code",
   "execution_count": 8,
   "metadata": {},
   "outputs": [
    {
     "name": "stdout",
     "output_type": "stream",
     "text": [
      "{'a': 0, 'e': 0, 'i': 0, 'o': 0, 'u': 0}\n",
      "las claves son: a\n",
      "las claves son: e\n",
      "las claves son: i\n",
      "las claves son: o\n",
      "las claves son: u\n",
      "\n",
      "los valores son: 0\n",
      "los valores son: 0\n",
      "los valores son: 0\n",
      "los valores son: 0\n",
      "los valores son: 0\n",
      "\n",
      "la clave es a y el valor es 0\n",
      "la clave es e y el valor es 0\n",
      "la clave es i y el valor es 0\n",
      "la clave es o y el valor es 0\n",
      "la clave es u y el valor es 0\n"
     ]
    }
   ],
   "source": [
    "my_dict = dict.fromkeys(\"aeiou\", 0)\n",
    "print(my_dict)\n",
    "\n",
    "for clave in my_dict.keys():\n",
    "    print(f\"las claves son: {clave}\")\n",
    "\n",
    "print()\n",
    "\n",
    "for valor in my_dict.values():\n",
    "    print(f\"los valores son: {valor}\")\n",
    "\n",
    "print()\n",
    "\n",
    "for clave, valor in my_dict.items():\n",
    "    print(f\"la clave es {clave} y el valor es {valor}\")"
   ]
  }
 ],
 "metadata": {
  "kernelspec": {
   "display_name": ".venv",
   "language": "python",
   "name": "python3"
  },
  "language_info": {
   "codemirror_mode": {
    "name": "ipython",
    "version": 3
   },
   "file_extension": ".py",
   "mimetype": "text/x-python",
   "name": "python",
   "nbconvert_exporter": "python",
   "pygments_lexer": "ipython3",
   "version": "3.11.10"
  }
 },
 "nbformat": 4,
 "nbformat_minor": 2
}
