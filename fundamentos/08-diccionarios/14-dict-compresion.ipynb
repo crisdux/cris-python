{
 "cells": [
  {
   "cell_type": "markdown",
   "metadata": {},
   "source": [
    "## dict por compresión\n",
    "La sitaxis para usar un dict por compresión es la misma que para las listas"
   ]
  },
  {
   "cell_type": "code",
   "execution_count": 8,
   "metadata": {},
   "outputs": [
    {
     "name": "stdout",
     "output_type": "stream",
     "text": [
      "('marte', 'tierra', 'mercurio', 'saturno')\n",
      "{'marte': 5, 'tierra': 6, 'mercurio': 8, 'saturno': 7}\n",
      "{'mercurio': 8}\n"
     ]
    }
   ],
   "source": [
    "planetas = (\"marte\", \"tierra\", \"mercurio\", \"saturno\")\n",
    "print(planetas)\n",
    "\n",
    "dict_planetas = {planeta: len(planeta) for planeta in planetas} ## contamos cuantas letras tiene cada planeta\n",
    "print(dict_planetas)\n",
    "\n",
    "## tambien es posible usarlo con condicionales\n",
    "dict_planetas_condicion = {planeta: len(planeta) for planeta in planetas if len(planeta) > 7}\n",
    "print(dict_planetas_condicion)"
   ]
  }
 ],
 "metadata": {
  "kernelspec": {
   "display_name": ".venv",
   "language": "python",
   "name": "python3"
  },
  "language_info": {
   "codemirror_mode": {
    "name": "ipython",
    "version": 3
   },
   "file_extension": ".py",
   "mimetype": "text/x-python",
   "name": "python",
   "nbconvert_exporter": "python",
   "pygments_lexer": "ipython3",
   "version": "3.11.10"
  }
 },
 "nbformat": 4,
 "nbformat_minor": 2
}
