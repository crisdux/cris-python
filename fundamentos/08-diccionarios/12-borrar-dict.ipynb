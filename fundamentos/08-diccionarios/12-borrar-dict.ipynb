{
 "cells": [
  {
   "cell_type": "markdown",
   "metadata": {},
   "source": [
    "## Borrado de elementos de un dict\n",
    "podemos borrar elementos de 3 maneras:\n",
    "* usando `del` y la clave del dict a borrar\n",
    "* usando `pop` y pasandole la clave del dict a borrar. Obtenemos el item borrado y borramos el item al mismo tiempo. \n",
    "* usando `clear` para limpiar todo el dict."
   ]
  },
  {
   "cell_type": "code",
   "execution_count": 12,
   "metadata": {},
   "outputs": [
    {
     "name": "stdout",
     "output_type": "stream",
     "text": [
      "{'a': 0, 'e': 0, 'i': 0, 'o': 0, 'u': 0}\n",
      "{'a': 0, 'e': 0, 'o': 0, 'u': 0}\n"
     ]
    },
    {
     "ename": "KeyError",
     "evalue": "'z'",
     "output_type": "error",
     "traceback": [
      "\u001b[0;31m---------------------------------------------------------------------------\u001b[0m",
      "\u001b[0;31mKeyError\u001b[0m                                  Traceback (most recent call last)",
      "Cell \u001b[0;32mIn[12], line 7\u001b[0m\n\u001b[1;32m      4\u001b[0m \u001b[38;5;28;01mdel\u001b[39;00m my_dict[\u001b[38;5;124m\"\u001b[39m\u001b[38;5;124mi\u001b[39m\u001b[38;5;124m\"\u001b[39m] \u001b[38;5;66;03m## borramos el item con clave \"i\"\u001b[39;00m\n\u001b[1;32m      5\u001b[0m \u001b[38;5;28mprint\u001b[39m(my_dict)\n\u001b[0;32m----> 7\u001b[0m \u001b[38;5;28;01mdel\u001b[39;00m \u001b[43mmy_dict\u001b[49m\u001b[43m[\u001b[49m\u001b[38;5;124;43m\"\u001b[39;49m\u001b[38;5;124;43mz\u001b[39;49m\u001b[38;5;124;43m\"\u001b[39;49m\u001b[43m]\u001b[49m \u001b[38;5;66;03m## intentamos borrar el item con clave \"z\" pero da un error por que dicha clave no existe\u001b[39;00m\n\u001b[1;32m      8\u001b[0m \u001b[38;5;28mprint\u001b[39m(my_dict)\n",
      "\u001b[0;31mKeyError\u001b[0m: 'z'"
     ]
    }
   ],
   "source": [
    "my_dict = dict.fromkeys(\"aeiou\", 0)\n",
    "print(my_dict)\n",
    "\n",
    "del my_dict[\"i\"] ## borramos el item con clave \"i\"\n",
    "print(my_dict)\n",
    "\n",
    "del my_dict[\"z\"] ## intentamos borrar el item con clave \"z\" pero da un error por que dicha clave no existe\n",
    "print(my_dict)\n"
   ]
  },
  {
   "cell_type": "code",
   "execution_count": null,
   "metadata": {},
   "outputs": [
    {
     "name": "stdout",
     "output_type": "stream",
     "text": [
      "{'a': 1, 's': 1, 'd': 1, 'f': 1, 'g': 1, 'h': 1}\n",
      "1\n",
      "{'a': 1, 's': 1, 'd': 1, 'f': 1, 'h': 1}\n"
     ]
    },
    {
     "ename": "KeyError",
     "evalue": "'q'",
     "output_type": "error",
     "traceback": [
      "\u001b[0;31m---------------------------------------------------------------------------\u001b[0m",
      "\u001b[0;31mKeyError\u001b[0m                                  Traceback (most recent call last)",
      "Cell \u001b[0;32mIn[9], line 8\u001b[0m\n\u001b[1;32m      5\u001b[0m \u001b[38;5;28mprint\u001b[39m(item_g) \u001b[38;5;66;03m## otenermos el valor de la clave \"g\" que es 1\u001b[39;00m\n\u001b[1;32m      6\u001b[0m \u001b[38;5;28mprint\u001b[39m(letras) \u001b[38;5;66;03m## verificamos que borramos el item\u001b[39;00m\n\u001b[0;32m----> 8\u001b[0m item_q \u001b[38;5;241m=\u001b[39m \u001b[43mletras\u001b[49m\u001b[38;5;241;43m.\u001b[39;49m\u001b[43mpop\u001b[49m\u001b[43m(\u001b[49m\u001b[38;5;124;43m\"\u001b[39;49m\u001b[38;5;124;43mq\u001b[39;49m\u001b[38;5;124;43m\"\u001b[39;49m\u001b[43m)\u001b[49m\n\u001b[1;32m      9\u001b[0m \u001b[38;5;28mprint\u001b[39m(item_q)\n\u001b[1;32m     10\u001b[0m \u001b[38;5;28mprint\u001b[39m(letras)\n",
      "\u001b[0;31mKeyError\u001b[0m: 'q'"
     ]
    }
   ],
   "source": [
    "letras = dict.fromkeys(\"asdfgh\", 1)\n",
    "print(letras)\n",
    "\n",
    "item_g = letras.pop(\"g\") ## borramos el item con clave \"g\"\n",
    "print(item_g) ## otenermos el valor de la clave \"g\" que es 1\n",
    "print(letras) ## verificamos que borramos el item\n",
    "\n",
    "item_q = letras.pop(\"q\") ## intenamos borrar una clave que no existe, entonces da error\n",
    "print(item_q)\n",
    "print(letras)"
   ]
  },
  {
   "cell_type": "code",
   "execution_count": 13,
   "metadata": {},
   "outputs": [
    {
     "name": "stdout",
     "output_type": "stream",
     "text": [
      "{'q': 5, 'w': 5, 'e': 5, 'r': 5, 't': 5}\n",
      "{}\n"
     ]
    }
   ],
   "source": [
    "mas_letras = dict.fromkeys(\"qwert\", 5)\n",
    "print(mas_letras)\n",
    "mas_letras.clear() ## limpaimos todo el dict\n",
    "print(mas_letras)"
   ]
  }
 ],
 "metadata": {
  "kernelspec": {
   "display_name": ".venv",
   "language": "python",
   "name": "python3"
  },
  "language_info": {
   "codemirror_mode": {
    "name": "ipython",
    "version": 3
   },
   "file_extension": ".py",
   "mimetype": "text/x-python",
   "name": "python",
   "nbconvert_exporter": "python",
   "pygments_lexer": "ipython3",
   "version": "3.11.10"
  }
 },
 "nbformat": 4,
 "nbformat_minor": 2
}
