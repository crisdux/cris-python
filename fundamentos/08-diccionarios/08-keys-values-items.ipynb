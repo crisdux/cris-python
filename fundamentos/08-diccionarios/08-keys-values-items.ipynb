{
 "cells": [
  {
   "cell_type": "markdown",
   "metadata": {},
   "source": [
    "## Keys, values, items\n",
    "Tenemos metodos para poder acceder solo a las llaves, solo a los valores y a cada para clave-valor de un diccionario:"
   ]
  },
  {
   "cell_type": "code",
   "execution_count": 6,
   "metadata": {},
   "outputs": [
    {
     "name": "stdout",
     "output_type": "stream",
     "text": [
      "dict_keys(['nombre', 'edad', 'amigos', 'soltero'])\n",
      "['nombre', 'edad', 'amigos', 'soltero']\n",
      "\n",
      "dict_values(['Cris', 28, ['Ana', 'Juan', 'Pedro'], True])\n",
      "['Cris', 28, ['Ana', 'Juan', 'Pedro'], True]\n",
      "\n",
      "dict_items([('nombre', 'Cris'), ('edad', 28), ('amigos', ['Ana', 'Juan', 'Pedro']), ('soltero', True)])\n",
      "[('nombre', 'Cris'), ('edad', 28), ('amigos', ['Ana', 'Juan', 'Pedro']), ('soltero', True)]\n"
     ]
    }
   ],
   "source": [
    "persona = {\n",
    "    \"nombre\": \"Cris\",\n",
    "    \"edad\": 28,\n",
    "    \"amigos\": [\"Ana\", \"Juan\", \"Pedro\"],\n",
    "    \"soltero\": True\n",
    "}\n",
    "\n",
    "print(persona.keys()) ## regresa un objeto de tipo dict_keys\n",
    "print(list(persona.keys())) ## convertimos a una lista\n",
    "\n",
    "print()\n",
    "\n",
    "print(persona.values())\n",
    "print(list(persona.values()))\n",
    "\n",
    "print()\n",
    "\n",
    "print(persona.items())\n",
    "print(list(persona.items())) ## regresa una lista de tuplas donde cada tupla es un par clave-valor"
   ]
  }
 ],
 "metadata": {
  "kernelspec": {
   "display_name": ".venv",
   "language": "python",
   "name": "python3"
  },
  "language_info": {
   "codemirror_mode": {
    "name": "ipython",
    "version": 3
   },
   "file_extension": ".py",
   "mimetype": "text/x-python",
   "name": "python",
   "nbconvert_exporter": "python",
   "pygments_lexer": "ipython3",
   "version": "3.11.10"
  }
 },
 "nbformat": 4,
 "nbformat_minor": 2
}
