{
 "cells": [
  {
   "cell_type": "markdown",
   "metadata": {},
   "source": [
    "## Convertir diccionarios\n",
    "Para poder convertir diccionarios usamos la función `dict` sobre un iterable como una lista o una tupla. De preferencia las listas o tuplas deben tener items similares a una estructura de diccionario: clave-valor. Por ejemplo:"
   ]
  },
  {
   "cell_type": "code",
   "execution_count": 16,
   "metadata": {},
   "outputs": [
    {
     "name": "stdout",
     "output_type": "stream",
     "text": [
      "['a1', 'b2', 'c3']\n",
      "{'a': '1', 'b': '2', 'c': '3'}\n",
      "('aa', 'bb', 'cc')\n",
      "{'a': 'a', 'b': 'b', 'c': 'c'}\n"
     ]
    }
   ],
   "source": [
    "x = [\"a1\", \"b2\", \"c3\"]\n",
    "print(x)\n",
    "print(dict(x))\n",
    "\n",
    "y = (\"aa\", \"bb\", \"cc\")\n",
    "print(y)\n",
    "print(dict(y))"
   ]
  },
  {
   "cell_type": "code",
   "execution_count": 18,
   "metadata": {},
   "outputs": [
    {
     "name": "stdout",
     "output_type": "stream",
     "text": [
      "[['a', '1'], ['b', '2'], ['c', '3']]\n",
      "{'a': '1', 'b': '2', 'c': '3'}\n"
     ]
    }
   ],
   "source": [
    "## lista anidada a dict\n",
    "lista_anidada = [[\"a\", \"1\"], [\"b\", \"2\"], [\"c\", \"3\"]]\n",
    "print(lista_anidada)\n",
    "print((dict(lista_anidada)))"
   ]
  }
 ],
 "metadata": {
  "kernelspec": {
   "display_name": ".venv",
   "language": "python",
   "name": "python3"
  },
  "language_info": {
   "codemirror_mode": {
    "name": "ipython",
    "version": 3
   },
   "file_extension": ".py",
   "mimetype": "text/x-python",
   "name": "python",
   "nbconvert_exporter": "python",
   "pygments_lexer": "ipython3",
   "version": "3.11.10"
  }
 },
 "nbformat": 4,
 "nbformat_minor": 2
}
