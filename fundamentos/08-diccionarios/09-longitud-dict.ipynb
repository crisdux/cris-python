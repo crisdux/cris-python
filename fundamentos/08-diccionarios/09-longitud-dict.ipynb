{
 "cells": [
  {
   "cell_type": "markdown",
   "metadata": {},
   "source": [
    "## Longitud\n",
    "Para obtener la longitud de un dict podemos usar la función `len` de toda la vida"
   ]
  },
  {
   "cell_type": "code",
   "execution_count": 2,
   "metadata": {},
   "outputs": [
    {
     "name": "stdout",
     "output_type": "stream",
     "text": [
      "{'1': -1, '2': -1, '3': -1, '4': -1, '5': -1}\n",
      "5\n"
     ]
    }
   ],
   "source": [
    "my_dict = dict.fromkeys(\"12345\", -1)\n",
    "print(my_dict)\n",
    "print(len(my_dict))"
   ]
  }
 ],
 "metadata": {
  "kernelspec": {
   "display_name": ".venv",
   "language": "python",
   "name": "python3"
  },
  "language_info": {
   "codemirror_mode": {
    "name": "ipython",
    "version": 3
   },
   "file_extension": ".py",
   "mimetype": "text/x-python",
   "name": "python",
   "nbconvert_exporter": "python",
   "pygments_lexer": "ipython3",
   "version": "3.11.10"
  }
 },
 "nbformat": 4,
 "nbformat_minor": 2
}
