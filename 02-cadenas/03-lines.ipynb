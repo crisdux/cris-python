{
 "cells": [
  {
   "cell_type": "markdown",
   "metadata": {},
   "source": [
    "## Cadenas multilinea\n",
    "* Para cadenas que se escriban en código como multilinea pero al momento de su impresion se vean como cadenas en una sola línea podemos usar el caracter especial `\\` (alt+92).\n",
    "* Para cadenas que se escriban mutilinea y se vean multilinea podemos usar las triples comillas `\"\"\"`."
   ]
  },
  {
   "cell_type": "code",
   "execution_count": 1,
   "metadata": {},
   "outputs": [
    {
     "name": "stdout",
     "output_type": "stream",
     "text": [
      "Hola mundo como estas?\n",
      "Hola mundo \n",
      "como estas?\n"
     ]
    }
   ],
   "source": [
    "frase = \"Hola mundo \\\n",
    "como estas?\"\n",
    "print(frase) # en el codigo se ve la multilinea pero no en el resultado final\n",
    "\n",
    "frase_2 = \"\"\"Hola mundo \n",
    "como estas?\"\"\"\n",
    "print(frase_2) # en el codigo se ve la multilinea gracias al la triple comilla "
   ]
  }
 ],
 "metadata": {
  "kernelspec": {
   "display_name": ".venv",
   "language": "python",
   "name": "python3"
  },
  "language_info": {
   "codemirror_mode": {
    "name": "ipython",
    "version": 3
   },
   "file_extension": ".py",
   "mimetype": "text/x-python",
   "name": "python",
   "nbconvert_exporter": "python",
   "pygments_lexer": "ipython3",
   "version": "3.11.9"
  }
 },
 "nbformat": 4,
 "nbformat_minor": 2
}
