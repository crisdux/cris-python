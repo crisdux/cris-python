{
 "cells": [
  {
   "cell_type": "markdown",
   "metadata": {},
   "source": [
    "## find\n",
    "Sirve para buscar cadenas dentro de otras cadenas. Recive una cadena como parametro que sera la busqueda como tal. Regresa -1 sino encuentra lo buscado."
   ]
  },
  {
   "cell_type": "code",
   "execution_count": null,
   "metadata": {},
   "outputs": [
    {
     "name": "stdout",
     "output_type": "stream",
     "text": [
      "29\n",
      "-1\n"
     ]
    }
   ],
   "source": [
    "text = \"No me importa lo que vayas a pensar hoy\"\n",
    "print(text.find(\"pensar\"))\n",
    "print(text.find(\"no\")) # case-sensitive"
   ]
  },
  {
   "cell_type": "code",
   "execution_count": null,
   "metadata": {},
   "outputs": [
    {
     "name": "stdout",
     "output_type": "stream",
     "text": [
      "0\n"
     ]
    }
   ],
   "source": [
    "cadena = \"hoy es un bello día, hoy nos ira bien a todos\"\n",
    "print(cadena.find(\"hoy\")) # siempre regresa la primera coincidencia"
   ]
  },
  {
   "cell_type": "markdown",
   "metadata": {},
   "source": [
    "## Replace\n",
    "Se encarga de reemplzar una subcadena por todas las coincidencias que encontremos en nuestra cadena original"
   ]
  },
  {
   "cell_type": "code",
   "execution_count": 1,
   "metadata": {},
   "outputs": [
    {
     "name": "stdout",
     "output_type": "stream",
     "text": [
      "Hola universo! como esta todo el equipo esta mañana\n"
     ]
    }
   ],
   "source": [
    "saludo = \"Hola mundo! como esta todo el equipo esta mañana\"\n",
    "print(saludo.replace(\"mundo\", \"universo\"))"
   ]
  },
  {
   "cell_type": "code",
   "execution_count": 2,
   "metadata": {},
   "outputs": [
    {
     "name": "stdout",
     "output_type": "stream",
     "text": [
      "Hola a nadie! me gusta mucho decir hola a nadie!\n"
     ]
    }
   ],
   "source": [
    "otro_saludo = \"Hola a todos! me gusta mucho decir hola a todos!\"\n",
    "print(otro_saludo.replace(\"todos\", \"nadie\"))"
   ]
  },
  {
   "cell_type": "code",
   "execution_count": 4,
   "metadata": {},
   "outputs": [
    {
     "name": "stdout",
     "output_type": "stream",
     "text": [
      "Buenos dias a todos!\n"
     ]
    }
   ],
   "source": [
    "ultimo_saludo = \"Buenos dias a todos!\"\n",
    "print(ultimo_saludo.replace(\"noches\", \"tardes\")) # sino se encuentra la cadena a remplazar entonces regresamos el string original"
   ]
  }
 ],
 "metadata": {
  "kernelspec": {
   "display_name": ".venv",
   "language": "python",
   "name": "python3"
  },
  "language_info": {
   "codemirror_mode": {
    "name": "ipython",
    "version": 3
   },
   "file_extension": ".py",
   "mimetype": "text/x-python",
   "name": "python",
   "nbconvert_exporter": "python",
   "pygments_lexer": "ipython3",
   "version": "3.11.9"
  }
 },
 "nbformat": 4,
 "nbformat_minor": 2
}
