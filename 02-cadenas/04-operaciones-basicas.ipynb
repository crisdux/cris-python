{
 "cells": [
  {
   "cell_type": "markdown",
   "metadata": {},
   "source": [
    "## Operaciones básicas\n",
    "3 son las operaciones básicas con cadenas:\n",
    "1. Concatenación: unir 2 o mas cadenas\n",
    "2. Indexación: acceder a un caracter en especifico de una cadena\n",
    "3. Slicing (cortado): obtener un trozo o una subcadena de la cadena original"
   ]
  },
  {
   "cell_type": "markdown",
   "metadata": {},
   "source": [
    "## Concatenación\n",
    "* El operador `+` nos sirve para concatenar cadenas.\n",
    "* El operador `+` cuando lo usamos con números nos sirve para sumar, pero cuando lo usamos con cadenas nos sirve para concatenar."
   ]
  },
  {
   "cell_type": "code",
   "execution_count": 1,
   "metadata": {},
   "outputs": [
    {
     "name": "stdout",
     "output_type": "stream",
     "text": [
      "CristianVillca\n"
     ]
    }
   ],
   "source": [
    "nombre = \"Cristian\"\n",
    "apellido = \"Villca\"\n",
    "print(nombre + apellido) ## imprime la cadena toda junta"
   ]
  },
  {
   "cell_type": "code",
   "execution_count": 2,
   "metadata": {},
   "outputs": [
    {
     "name": "stdout",
     "output_type": "stream",
     "text": [
      "Cristian Villca\n"
     ]
    }
   ],
   "source": [
    "nombre = \"Cristian\"\n",
    "apellido = \"Villca\"\n",
    "print(nombre + \" \" + apellido)"
   ]
  },
  {
   "cell_type": "markdown",
   "metadata": {},
   "source": [
    "## Indexación\n",
    "* Para poder indexar una cadena debemos tener en cuenta que los caracteres se empiezan a \"contar\" desde el 0.\n",
    "* Para poder acceder al caracter del index establecido usamos la sintaxis de `[]`.\n",
    "* Es importante recordar que solo podemos acceder a posiciónes que existan dentro de la cadena.\n"
   ]
  },
  {
   "cell_type": "code",
   "execution_count": 3,
   "metadata": {},
   "outputs": [
    {
     "name": "stdout",
     "output_type": "stream",
     "text": [
      "p\n"
     ]
    }
   ],
   "source": [
    "texto = \"apple pie\"\n",
    "print(texto[2]) ## obtiene el caracter de texto en la posición 2 contado desde 0 -> p"
   ]
  },
  {
   "attachments": {
    "image.png": {
     "image/png": "[encoded data removed]"
    }
   },
   "cell_type": "markdown",
   "metadata": {},
   "source": [
    "Los caracteres se indexan de la siguiente manera:\n",
    "![cadena](attachment:image.png)\n",
    "Inclusive los espacios son considerados un caracter"
   ]
  }
 ],
 "metadata": {
  "kernelspec": {
   "display_name": ".venv",
   "language": "python",
   "name": "python3"
  },
  "language_info": {
   "codemirror_mode": {
    "name": "ipython",
    "version": 3
   },
   "file_extension": ".py",
   "mimetype": "text/x-python",
   "name": "python",
   "nbconvert_exporter": "python",
   "pygments_lexer": "ipython3",
   "version": "3.11.9"
  }
 },
 "nbformat": 4,
 "nbformat_minor": 2
}
