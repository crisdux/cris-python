{
 "cells": [
  {
   "cell_type": "markdown",
   "metadata": {},
   "source": [
    "## Método Strip\n",
    "`strip()` permite y sus variantes `rstrip` y `lstrip` permiten eliminar espacios en blanco no deseados de una cadena. "
   ]
  },
  {
   "cell_type": "code",
   "execution_count": 4,
   "metadata": {},
   "outputs": [
    {
     "name": "stdout",
     "output_type": "stream",
     "text": [
      "Habia una vez una hermosa princesa llamada Analisa...\n",
      "    Habia una vez una hermosa princesa llamada Analisa...\n",
      "Habia una vez una hermosa princesa llamada Analisa...      \n"
     ]
    }
   ],
   "source": [
    "cadena = \"    Habia una vez una hermosa princesa llamada Analisa...      \"\n",
    "print(cadena.strip()) ## elimina todos los espacios en blanco\n",
    "print(cadena.rstrip()) ## elimina los espacios en blanco de la derecha\n",
    "print(cadena.lstrip()) ## elimina los espacios en blanco de la izquierda"
   ]
  }
 ],
 "metadata": {
  "kernelspec": {
   "display_name": ".venv",
   "language": "python",
   "name": "python3"
  },
  "language_info": {
   "codemirror_mode": {
    "name": "ipython",
    "version": 3
   },
   "file_extension": ".py",
   "mimetype": "text/x-python",
   "name": "python",
   "nbconvert_exporter": "python",
   "pygments_lexer": "ipython3",
   "version": "3.11.9"
  }
 },
 "nbformat": 4,
 "nbformat_minor": 2
}
