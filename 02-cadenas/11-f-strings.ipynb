{
 "cells": [
  {
   "cell_type": "markdown",
   "metadata": {},
   "source": [
    "# f-strings\n",
    "Es una manera corta y elegante para poder hacer interpolación de cadenas "
   ]
  },
  {
   "cell_type": "code",
   "execution_count": 2,
   "metadata": {},
   "outputs": [
    {
     "name": "stdout",
     "output_type": "stream",
     "text": [
      "2 x 5 es 10\n"
     ]
    }
   ],
   "source": [
    "n = 2\n",
    "m = 5\n",
    "print(f\"{n} x {m} es {n*m}\")"
   ]
  },
  {
   "cell_type": "code",
   "execution_count": 6,
   "metadata": {},
   "outputs": [
    {
     "name": "stdout",
     "output_type": "stream",
     "text": [
      "El animal perro pesa 0.2kg\n",
      "El animal perro pesa 0.2kg\n"
     ]
    }
   ],
   "source": [
    "peso = 0.2\n",
    "animal = \"perro\"\n",
    "\n",
    "# sin f-strings\n",
    "print(\"El animal\" + \" \" + animal + \" \" + \"pesa\" + \" \" + str(peso) + \"kg\")\n",
    "\n",
    "# con f-string\n",
    "print(f\"El animal {animal} pesa {peso}kg\")"
   ]
  }
 ],
 "metadata": {
  "kernelspec": {
   "display_name": ".venv",
   "language": "python",
   "name": "python3"
  },
  "language_info": {
   "codemirror_mode": {
    "name": "ipython",
    "version": 3
   },
   "file_extension": ".py",
   "mimetype": "text/x-python",
   "name": "python",
   "nbconvert_exporter": "python",
   "pygments_lexer": "ipython3",
   "version": "3.11.9"
  }
 },
 "nbformat": 4,
 "nbformat_minor": 2
}
